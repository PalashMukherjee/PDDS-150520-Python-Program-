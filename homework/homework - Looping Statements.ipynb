{
 "cells": [
  {
   "cell_type": "markdown",
   "metadata": {},
   "source": [
    "## Q) Rewrite the below program using loop"
   ]
  },
  {
   "cell_type": "code",
   "execution_count": null,
   "metadata": {},
   "outputs": [],
   "source": [
    "amount = 5560\n",
    "note_count = 0\n",
    "if amount >= 2000:\n",
    "    print(\"Notes of 2000 are\", amount // 2000)\n",
    "    note_count+=amount // 2000\n",
    "    amount = amount % 2000\n",
    "else:\n",
    "    print(\"Can not issue notes of 2000\")\n",
    "\n",
    "if amount >= 500:\n",
    "    print(\"Notes of 500 are\", amount // 500)\n",
    "    note_count+=amount // 500\n",
    "    amount = amount % 500\n",
    "else:\n",
    "    print(\"Can not issue notes of 500\")\n",
    "    \n",
    "if amount >= 100:\n",
    "    print(\"Notes of 100 are\", amount // 100)\n",
    "    note_count+=amount // 100\n",
    "    amount = amount % 100\n",
    "else:\n",
    "    print(\"Can not issue notes of 100\")\n",
    "    \n",
    "if amount >= 50:\n",
    "    print(\"Notes of 50 are\", amount // 50)\n",
    "    note_count+=amount // 50\n",
    "    amount = amount % 50\n",
    "else:\n",
    "    print(\"Can not issue notes of 50\")\n",
    "    \n",
    "\n",
    "if amount >= 10:\n",
    "    print(\"Notes of 10 are\", amount // 10)\n",
    "    note_count+=amount // 10\n",
    "    amount = amount % 10\n",
    "else:\n",
    "    print(\"Can not issue notes of 10\")\n",
    "\n",
    "print(\"Total no of notes are \",note_count)"
   ]
  },
  {
   "cell_type": "markdown",
   "metadata": {},
   "source": [
    "## Answer"
   ]
  },
  {
   "cell_type": "code",
   "execution_count": 1,
   "metadata": {},
   "outputs": [
    {
     "name": "stdout",
     "output_type": "stream",
     "text": [
      "Notes of 2000 are 2\n",
      "Notes of 500 are 3\n",
      "Can not issue notes of 100\n",
      "Notes of 50 are 1\n",
      "Notes of 10 are 1\n",
      "Total no of notes are  7\n"
     ]
    }
   ],
   "source": [
    "notes = [2000,500,100,50,10]\n",
    "amount = 5560\n",
    "note_count = 0 \n",
    "for note in notes:\n",
    "    if amount >= note:\n",
    "        print(\"Notes of\",note,\"are\", amount // note)\n",
    "        note_count+=amount // note\n",
    "        amount = amount % note\n",
    "    else:\n",
    "        print(\"Can not issue notes of\",note)\n",
    "\n",
    "print(\"Total no of notes are \",note_count)"
   ]
  },
  {
   "cell_type": "code",
   "execution_count": null,
   "metadata": {},
   "outputs": [],
   "source": []
  }
 ],
 "metadata": {
  "kernelspec": {
   "display_name": "Python 3",
   "language": "python",
   "name": "python3"
  },
  "language_info": {
   "codemirror_mode": {
    "name": "ipython",
    "version": 3
   },
   "file_extension": ".py",
   "mimetype": "text/x-python",
   "name": "python",
   "nbconvert_exporter": "python",
   "pygments_lexer": "ipython3",
   "version": "3.8.3"
  }
 },
 "nbformat": 4,
 "nbformat_minor": 4
}
