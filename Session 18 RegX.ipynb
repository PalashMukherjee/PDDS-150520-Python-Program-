{
 "cells": [
  {
   "cell_type": "code",
   "execution_count": 1,
   "metadata": {},
   "outputs": [],
   "source": [
    "# Revision: \n",
    "#     Python Data Types: Numbers(int and float),tuple,list,dict,set,bool,None\n",
    "    \n",
    "# Immutables: tuple,numbers,str,bool\n",
    "\n",
    "# Mutable: dict,list,set\n",
    "    \n",
    "# Ordered:\n",
    "#     list,strings,tuples\n",
    "    \n",
    "# Insertion Ordered(py3.6+): dict\n",
    "    \n",
    "# Unordered(considering <py3.6):\n",
    "#     dict and set.\n",
    "    \n",
    "# Hetro : list,dict,tuple,set\n",
    "    \n",
    "# Iterables? list,tupple,str,set,dict,    range(), files.readline\n",
    "\n",
    "# Non Iterables: Numbers\n",
    "    \n",
    "# Most imp. property abt set and dict:\n",
    "#     keys unique\n",
    "#     keuys immutable"
   ]
  },
  {
   "cell_type": "code",
   "execution_count": 2,
   "metadata": {},
   "outputs": [],
   "source": [
    "# Variable Arguments??\n",
    "# * and **\n",
    "\n",
    "# *args =? tuple\n",
    "# **kwargs =? dict"
   ]
  },
  {
   "cell_type": "code",
   "execution_count": 3,
   "metadata": {},
   "outputs": [],
   "source": [
    "## Random and Math?? \n",
    "\n",
    "# Modules?? .py files?\n",
    "## .py files? collection of these kind of files? package\n",
    "# use a module => import \n",
    "\n",
    "# __init__.py file necessary (py 3.3+)  No,\n",
    "# __init__.py file?? Initialiser\n",
    "# import package ( the ,py files inside this package does not automatically gets imported.)\n",
    "# __all__ = [module1,module3] \n",
    "# from package import * ? ( will .py package files imported?? )\n",
    "# how can we do it?\n",
    "# import package.module1"
   ]
  },
  {
   "cell_type": "code",
   "execution_count": 6,
   "metadata": {},
   "outputs": [
    {
     "name": "stdout",
     "output_type": "stream",
     "text": [
      "1\n"
     ]
    }
   ],
   "source": [
    "## for else loops??\n",
    "\n",
    "for i in range(1,10):\n",
    "    print(i)\n",
    "    break\n",
    "else:\n",
    "    print(\"I am here\")"
   ]
  },
  {
   "cell_type": "code",
   "execution_count": 7,
   "metadata": {},
   "outputs": [
    {
     "name": "stdout",
     "output_type": "stream",
     "text": [
      "<re.Match object; span=(0, 2), match='ab'>\n"
     ]
    }
   ],
   "source": [
    "import re\n",
    "\n",
    "s = \"abhdfgkljdfglab\"\n",
    "r = re.compile(\"ab\")  ## this is a regX\n",
    "# l = re.findall(r,s)\n",
    "k = re.search(r,s)\n",
    "\n",
    "print(k)"
   ]
  },
  {
   "cell_type": "code",
   "execution_count": 8,
   "metadata": {},
   "outputs": [
    {
     "data": {
      "text/plain": [
       "'ab'"
      ]
     },
     "execution_count": 8,
     "metadata": {},
     "output_type": "execute_result"
    }
   ],
   "source": [
    "s[0:2]"
   ]
  },
  {
   "cell_type": "code",
   "execution_count": 9,
   "metadata": {},
   "outputs": [],
   "source": [
    "# # Pattern includes Regx Metacharacters:\n",
    "    . => match with all the chars(alpha,digits,specialchars) except newline(\"\\n\") => single occurence\n",
    "    [] =>  a set of chars  [Character Class]\n",
    "    [A-Z] => return us all the capital alpha (single occurence)\n",
    "    [a-z] => small (single occurence)\n",
    "    [A-Za-z] => small+capital (single occurence)\n",
    "    [0-9] =>digits, single occurence\n",
    "    + => atleast 1 or more occurence [Quantifiers] (single occurence)\n",
    "    * => 0 or more [Quantifier]  (single occurence)\n",
    "    ^ => start of the string  [Anchors]\n",
    "    $ => ending of the string  [Anchors]\n",
    "    {} count stuff\n",
    "    [a-z]{2}\n",
    "    [a-z]{3,4}\n",
    "    ? optional  [Quantifier]  like once or not at all\n",
    "    \n",
    "    ^ compliment"
   ]
  },
  {
   "cell_type": "code",
   "execution_count": 13,
   "metadata": {},
   "outputs": [
    {
     "name": "stdout",
     "output_type": "stream",
     "text": [
      "['849', '57']\n"
     ]
    }
   ],
   "source": [
    "# ?\n",
    "s = \"abhdfgkljdfAglab@#$%#$%#3B84957Z3\\n\"\n",
    "r = re.compile(\"[0-9]{2,3}\")  ## this is RegX pattern\n",
    "l = re.findall(r,s)\n",
    "\n",
    "print(l)"
   ]
  },
  {
   "cell_type": "code",
   "execution_count": 16,
   "metadata": {},
   "outputs": [
    {
     "name": "stdout",
     "output_type": "stream",
     "text": [
      "<re.Match object; span=(6, 7), match='#'>\n"
     ]
    }
   ],
   "source": [
    "# complement ^\n",
    "\n",
    "s = \"456789#bc45efg\"\n",
    "\n",
    "r = re.compile(\"[^0-9]\")\n",
    "\n",
    "k = re.search(r,s)\n",
    "\n",
    "print(k)"
   ]
  },
  {
   "cell_type": "code",
   "execution_count": 19,
   "metadata": {},
   "outputs": [
    {
     "name": "stdout",
     "output_type": "stream",
     "text": [
      "<re.Match object; span=(14, 20), match='500abc'>\n"
     ]
    }
   ],
   "source": [
    "# Q1.) Write a regX to match a 3 digit number followed by abc.\n",
    "\n",
    "s = \"456789#bc45efg500abc567abd\"\n",
    "\n",
    "r = re.compile(\"[0-9]{3}abc\")\n",
    "\n",
    "k = re.search(r,s)\n",
    "\n",
    "print(k)"
   ]
  },
  {
   "cell_type": "code",
   "execution_count": 25,
   "metadata": {},
   "outputs": [
    {
     "name": "stdout",
     "output_type": "stream",
     "text": [
      "<re.Match object; span=(10, 14), match='5efg'>\n",
      "['5efg', '0mno', '7abd']\n"
     ]
    }
   ],
   "source": [
    "# Q2.) Write a regX to match a 3 digit number followed by 3 small alphabets\n",
    "\n",
    "s = \"456789#bc45efg550mno567abd\"\n",
    "\n",
    "r = re.compile(\"[0-9]{3}[a-z]{3}\")\n",
    "\n",
    "k = re.search(r,s)\n",
    "\n",
    "l = re.findall(r,s)\n",
    "\n",
    "print(k)\n",
    "\n",
    "print(l)"
   ]
  },
  {
   "cell_type": "code",
   "execution_count": 26,
   "metadata": {},
   "outputs": [],
   "source": [
    "# Q3.) Write a regX that start with a and end with z. \"az,ae8934593u45jeksz,a234234z\"\n",
    "\n",
    "# Q4.) Write a regX that should match a pattern having atmost 3 occurences of small alphabets.(atmost?? 0-till limit)\n",
    "\n",
    "# Q4 homework"
   ]
  },
  {
   "cell_type": "code",
   "execution_count": 45,
   "metadata": {},
   "outputs": [
    {
     "name": "stdout",
     "output_type": "stream",
     "text": [
      "<re.Match object; span=(0, 26), match='a456789#bc45efg550a567abdz'>\n"
     ]
    }
   ],
   "source": [
    "# 3) \n",
    "\n",
    "s = \"a456789#bc45efg550a567abdz\"\n",
    "\n",
    "r = re.compile(\"^a+.*z$\")\n",
    "\n",
    "k = re.search(r,s)\n",
    "\n",
    "print(k)\n"
   ]
  },
  {
   "cell_type": "code",
   "execution_count": 46,
   "metadata": {},
   "outputs": [
    {
     "name": "stdout",
     "output_type": "stream",
     "text": [
      "<re.Match object; span=(17, 25), match='a567abdz'>\n"
     ]
    }
   ],
   "source": [
    "### Q6 Start with a and end with z\n",
    "s = \"456789#bc45efg550a567abdz\"\n",
    "r2 = re.compile(\"[a].*[z]\")\n",
    "k2 = re.search(r2,s)\n",
    "print(k2)"
   ]
  },
  {
   "cell_type": "code",
   "execution_count": 51,
   "metadata": {},
   "outputs": [],
   "source": [
    "# Q.5) Write a program to print hello world if the given_string start with a and end with z (make a function to \n",
    "# do this task)\n",
    "\n",
    "s = \"456789#bc45efg550a567abdz\"\n",
    "def does_start_a_end_z(string):\n",
    "    r = re.compile(\"^a+.*z$\")\n",
    "    if re.search(r,s):\n",
    "        print(\"hello world\")\n",
    "        \n",
    "does_start_a_end_z(s)"
   ]
  },
  {
   "cell_type": "code",
   "execution_count": 52,
   "metadata": {},
   "outputs": [],
   "source": [
    "## Grouping and Capturing\n",
    "\n",
    "# <(<regX>)Quan+Stuff>  =>> RegX"
   ]
  },
  {
   "cell_type": "code",
   "execution_count": 54,
   "metadata": {},
   "outputs": [
    {
     "name": "stdout",
     "output_type": "stream",
     "text": [
      "<re.Match object; span=(0, 5), match='apple'>\n"
     ]
    }
   ],
   "source": [
    "# grouping\n",
    "\n",
    "string1 = \"applebananaapplemango\"\n",
    "\n",
    "regX = re.compile(\"(apple)\")\n",
    "\n",
    "print(re.search(regX,string1))"
   ]
  },
  {
   "cell_type": "code",
   "execution_count": 58,
   "metadata": {},
   "outputs": [
    {
     "name": "stdout",
     "output_type": "stream",
     "text": [
      "<re.Match object; span=(5, 15), match='makedmango'>\n"
     ]
    }
   ],
   "source": [
    "string1 = \"makeumakedmango\"\n",
    "\n",
    "regX = re.compile(\"(make[ud])mango\")\n",
    "\n",
    "print(re.search(regX,string1))"
   ]
  },
  {
   "cell_type": "code",
   "execution_count": 63,
   "metadata": {},
   "outputs": [
    {
     "data": {
      "text/plain": [
       "[('apple34', 'apple'),\n",
       " ('appleapple45', 'apple'),\n",
       " ('appleappleappleapple65', 'apple')]"
      ]
     },
     "execution_count": 63,
     "metadata": {},
     "output_type": "execute_result"
    }
   ],
   "source": [
    "# Q7 Write a regX to match apple multiple times followed by 2 digit number (use grouping)\n",
    "\n",
    "string_test = \"mangoapple34appleapple45appleappleappleapple65\"\n",
    "\n",
    "regX = \"((apple)+[0-9][0-9])\"\n",
    "\n",
    "# regX = \"apple*[0-9]{2}\"  => why not this? * for single char which comes prior to it, untill me make a group\n",
    "\n",
    "re.findall(regX,string_test)"
   ]
  },
  {
   "cell_type": "code",
   "execution_count": 64,
   "metadata": {},
   "outputs": [],
   "source": [
    "## Q8 Write a regX to match emails multiple times, each e-mail should start with special char, but \n",
    "# can not contain special char insdie it.\n",
    "\n",
    "# \"$sjdkfhksff@hsjdkfs.comksdjfklsjfdklsjfd%sdkfjsdf@hskdfj.com&sdkfjsdf@hskdfj.com^sdkfjsdf@hskdfj.com\"\n",
    "\n",
    "## homework"
   ]
  },
  {
   "cell_type": "code",
   "execution_count": 68,
   "metadata": {},
   "outputs": [
    {
     "name": "stdout",
     "output_type": "stream",
     "text": [
      "('apple34', 'apple')\n"
     ]
    }
   ],
   "source": [
    "## Capturing\n",
    "\n",
    "string_test = \"mangoapple34appleapple45appleappleappleapple65\"\n",
    "\n",
    "regX = \"((apple)+[0-9][0-9])\"\n",
    "\n",
    "match_obj = re.search(regX,string_test)\n",
    "\n",
    "print(match_obj.groups())"
   ]
  },
  {
   "cell_type": "code",
   "execution_count": 80,
   "metadata": {},
   "outputs": [
    {
     "data": {
      "text/plain": [
       "'apple34'"
      ]
     },
     "execution_count": 80,
     "metadata": {},
     "output_type": "execute_result"
    }
   ],
   "source": [
    "match_obj.group(1)  ## later"
   ]
  },
  {
   "cell_type": "code",
   "execution_count": 81,
   "metadata": {},
   "outputs": [
    {
     "name": "stdout",
     "output_type": "stream",
     "text": [
      "[2, 4, 6, 8, 10]\n"
     ]
    }
   ],
   "source": [
    "## List Comprehension\n",
    "\n",
    "# Q make a list of even numbers from 1 to 10?\n",
    "\n",
    "even_list = []\n",
    "\n",
    "for i in range(1,11):\n",
    "    if i%2==0:\n",
    "        even_list.append(i)\n",
    "        \n",
    "print(even_list)"
   ]
  },
  {
   "cell_type": "code",
   "execution_count": 83,
   "metadata": {},
   "outputs": [
    {
     "name": "stdout",
     "output_type": "stream",
     "text": [
      "[2, 4, 6, 8, 10]\n"
     ]
    }
   ],
   "source": [
    "even_list = [i for i in range(1,11) if i%2==0]\n",
    "\n",
    "print(even_list)"
   ]
  },
  {
   "cell_type": "code",
   "execution_count": null,
   "metadata": {},
   "outputs": [],
   "source": [
    "## Quiz 6: File handling and RegX.  (Study Capturing,Seek,Flag in RegX)  (Deadline will be msgd, 3 days.)\n",
    "\n",
    "## Weekly Assignment will be updated tomorrow"
   ]
  }
 ],
 "metadata": {
  "kernelspec": {
   "display_name": "Python 3",
   "language": "python",
   "name": "python3"
  },
  "language_info": {
   "codemirror_mode": {
    "name": "ipython",
    "version": 3
   },
   "file_extension": ".py",
   "mimetype": "text/x-python",
   "name": "python",
   "nbconvert_exporter": "python",
   "pygments_lexer": "ipython3",
   "version": "3.7.4"
  }
 },
 "nbformat": 4,
 "nbformat_minor": 2
}
