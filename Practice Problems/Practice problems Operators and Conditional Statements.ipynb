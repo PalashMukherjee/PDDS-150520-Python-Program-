{
 "cells": [
  {
   "cell_type": "markdown",
   "metadata": {},
   "source": [
    "## Practice Problems for Operators & Conditional statements\n",
    "<hr>"
   ]
  },
  {
   "cell_type": "markdown",
   "metadata": {},
   "source": [
    "    1. Take values of length and breadth of a rectangle from user and check if it is square or not. Return area.\n"
   ]
  },
  {
   "cell_type": "markdown",
   "metadata": {},
   "source": [
    "    2. Write a Python program which accepts the radius of a circle from the user and compute the area.\n"
   ]
  },
  {
   "cell_type": "markdown",
   "metadata": {},
   "source": [
    "    3. Write a Python program that accepts an integer (n) and computes the value of n+nn+nnn.\n",
    "       Sample value of n is 5\n",
    "       Expected Result : 615\n"
   ]
  },
  {
   "cell_type": "markdown",
   "metadata": {},
   "source": [
    "    4. A company decided to deduct pf of 12% of salary if year of service is less than 5 year and 24% employee if his/her year of service is more than 5 years.\n",
    "    Ask user for their salary and year of service and print the net in-hand salary after pf deduction.\n"
   ]
  },
  {
   "cell_type": "markdown",
   "metadata": {},
   "source": [
    "    5. A school has following rules for grading system:\n",
    "        a. Below 40 - F\n",
    "        b. 40 to 50 - C\n",
    "        c. 50 to 60 - C+\n",
    "        d. 60 to 70 - B\n",
    "        e. 70 to 80 - B+\n",
    "        f. 80 to 90 - A\n",
    "        g. Above 90 - A+\n",
    "    \n",
    "    Ask user to enter marks for their 5 main subject and print the corresponding grade and overall grade for average of marks.\n"
   ]
  },
  {
   "cell_type": "markdown",
   "metadata": {},
   "source": [
    "    6. A student will not be allowed to sit in exam if his/her attendence is less than 75%.\n",
    "        Take following input from user\n",
    "        Number of classes held\n",
    "        Number of classes attended.\n",
    "\n",
    "        And print\n",
    "        percentage of class attended\n",
    "        Is student is allowed to sit in exam or not.\n",
    "\n"
   ]
  },
  {
   "cell_type": "markdown",
   "metadata": {},
   "source": [
    "    7. Modify the above question to allow student to sit if he/she has medical cause reduce attendance criteria to 60%. Ask user if he/she has medical cause or not ( 'Y' or 'N' ) and print accordingly.\n"
   ]
  },
  {
   "cell_type": "markdown",
   "metadata": {},
   "source": [
    "    8. Write a program to check if a year is leap year or not.\n",
    "       If a year is divisible by 4 then it is leap year but if the year is century year like 2000, 1900, 2100 then it must be divisible by 400.\n"
   ]
  },
  {
   "cell_type": "markdown",
   "metadata": {},
   "source": [
    "    9. Ask user to enter age, gender ( M or F ), marital status ( Y or N ) and then using following rules print their place of service.\n",
    "    if employee is female, then she will work only in urban areas.\n",
    "\n",
    "    if employee is a male and age is in between 20 to 30 and not married then he may work in anywhere.\n",
    "\n",
    "    if employee is a female and age is in between 20 to 30 and not married then she may work in urban areas.\n",
    "\n",
    "    if employee is male and age is in between 20 t0 30 and married then he will work in nearby Hometown.\n",
    "\n",
    "    if employee is female and age is in between 20 t0 30 and married then she will work in her husband's city.\n",
    "\n",
    "    And any other input of age should print \"ERROR\".\n"
   ]
  },
  {
   "cell_type": "markdown",
   "metadata": {},
   "source": [
    "    10. A 4 digit number is entered through keyboard. Write a program to print a new number with digits reversed as of orignal one. E.g.-\n",
    "    INPUT : 1234        OUTPUT : 4321\n",
    "    INPUT : 5982        OUTPUT : 2895\n",
    "    NOTE:- Do not use builtin functions e.g. sort(), reverse() and loop try to solve it by if-else\n"
   ]
  },
  {
   "cell_type": "markdown",
   "metadata": {},
   "source": [
    "    11. Write a program to find sum of digits of given number by user answer should be of single digit.\n",
    "        Example: input: 25643\n",
    "        sum of digits of 2+5+6+4+3 = 20\n",
    "        again find sum of digits of 20 and final answer would be 2+0 = 2\n"
   ]
  },
  {
   "cell_type": "markdown",
   "metadata": {},
   "source": [
    "    12. Write a Python program to find those numbers which are divisible by 7 and multiple of 5, between 1500 and 2700 (both included).\n"
   ]
  },
  {
   "cell_type": "markdown",
   "metadata": {},
   "source": [
    "    13. A shop will give discount of 10% max upto 100rs if the cost of purchased quantity is more than 1000.\n",
    "        Ask user for quantity\n",
    "        Suppose, one unit will cost 100rs.\n",
    "        Judge and print total cost for user.\n"
   ]
  },
  {
   "cell_type": "markdown",
   "metadata": {},
   "source": [
    "    14. Write a Python program to calculate number of days between two dates.\n"
   ]
  }
 ],
 "metadata": {
  "kernelspec": {
   "display_name": "Python 3",
   "language": "python",
   "name": "python3"
  },
  "language_info": {
   "codemirror_mode": {
    "name": "ipython",
    "version": 3
   },
   "file_extension": ".py",
   "mimetype": "text/x-python",
   "name": "python",
   "nbconvert_exporter": "python",
   "pygments_lexer": "ipython3",
   "version": "3.6.5"
  }
 },
 "nbformat": 4,
 "nbformat_minor": 4
}
