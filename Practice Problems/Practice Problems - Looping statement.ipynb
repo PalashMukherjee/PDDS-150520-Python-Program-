{
 "cells": [
  {
   "cell_type": "markdown",
   "metadata": {},
   "source": [
    "# Practice Problems for looping statements\n",
    "<hr>"
   ]
  },
  {
   "cell_type": "markdown",
   "metadata": {},
   "source": [
    "    1. Take 10 integers from keyboard using loop and print their average value on the screen\n",
    "\n"
   ]
  },
  {
   "cell_type": "markdown",
   "metadata": {},
   "source": [
    "    2. Print multiplication table of 24, 50 and 29 using loop.\n"
   ]
  },
  {
   "cell_type": "markdown",
   "metadata": {},
   "source": [
    "    3. Take integer inputs from user until user presses q ( Ask to press q to quit after every integer input ). Print average and product of all numbers.\n",
    "\n"
   ]
  },
  {
   "cell_type": "markdown",
   "metadata": {},
   "source": [
    "    4. A three digit number is called Armstrong number if sum of cube of its digit is equal to number itself.\n",
    "    E.g.- 153 is an Armstrong number because (13)+(53)+(33) = 153.\n",
    "    Write all Armstrong numbers between 100 to 500.\n"
   ]
  },
  {
   "cell_type": "markdown",
   "metadata": {},
   "source": [
    "    5. Write a Python program which iterates the integers from 1 to 50. For multiples of three print \"Fizz\" instead of the number and for the multiples of five print \"Buzz\". For numbers which are multiples of both three and five print \"FizzBuzz\".\n",
    "    Sample Output :\n",
    "    fizzbuzz\n",
    "    1\n",
    "    2\n",
    "    fizz\n",
    "    4\n",
    "    buzz\n"
   ]
  },
  {
   "cell_type": "markdown",
   "metadata": {},
   "source": [
    "    6. Write a program to find greatest common divisor (GCD) or highest common factor (HCF) of given two numbers.\n"
   ]
  },
  {
   "cell_type": "markdown",
   "metadata": {},
   "source": [
    "    7. Write a Python program to find numbers between 100 and 400 (both included) where each digit of a number is an even number. The numbers obtained should be printed in a comma-separated sequence.\n"
   ]
  },
  {
   "cell_type": "markdown",
   "metadata": {},
   "source": [
    "    8.  Write a Python program which takes two digits m (row) and n (column) as input and generates a two-dimensional array. The element value in the i-th row and j-th column of the array should be 2*(i+j).\n",
    "    Note :\n",
    "    i = 0,1.., m-1\n",
    "    j = 0,1, n-1.\n",
    "\n",
    "    Test Data : Rows = 3, Columns = 4\n",
    "    Expected Result : [[0, 2, 4, 6], [2, 4, 6, 8], [6, 8, 10, 12]\n"
   ]
  },
  {
   "cell_type": "markdown",
   "metadata": {},
   "source": [
    "    9. Write a program to find prime factor of a number.\n",
    "    If a factor of a number is prime number then it is its prime factor.\n"
   ]
  },
  {
   "cell_type": "markdown",
   "metadata": {},
   "source": [
    "    10. Write a Python program to get the Fibonacci series. length of series should taken by user.\n",
    "    Note : The Fibonacci Sequence is the series of numbers :\n",
    "    0, 1, 1, 2, 3, 5, 8, 13, 21, ....\n",
    "    Every next number is found by adding up the two numbers before it.\n",
    "    Expected Output : 1 1 2 3 5 8 13 21 34.\n",
    "\n"
   ]
  },
  {
   "cell_type": "markdown",
   "metadata": {},
   "source": [
    "    11. A 4 digit number is entered through keyboard. Write a program to print a new number with digits reversed as of orignal one. E.g.-\n",
    "    INPUT : 1234        OUTPUT : 4321\n",
    "    INPUT : 5982        OUTPUT : 2895\n",
    "    NOTE:- Can not use buil-in function e.g. sort(), reverse() use loops here\n"
   ]
  },
  {
   "cell_type": "markdown",
   "metadata": {},
   "source": [
    "    12. Write a program to find sum of digits of given number by user answer should be of single digit.\n",
    "    Example: input: 25643\n",
    "             sum of digits of 2+5+6+4+3 = 20\n",
    "             again find sum of digits of 20 and final answer would be 2+0 = 2\n"
   ]
  },
  {
   "cell_type": "markdown",
   "metadata": {},
   "source": [
    "    13. Write a Python program to construct the following pattern, using a nested for loop."
   ]
  },
  {
   "cell_type": "markdown",
   "metadata": {},
   "source": [
    "    * \n",
    "    * * \n",
    "    * * * \n",
    "    * * * * \n",
    "    * * * * * \n",
    "    * * * * \n",
    "    * * * \n",
    "    * * \n",
    "    *\n"
   ]
  },
  {
   "cell_type": "markdown",
   "metadata": {},
   "source": [
    "    14. Write a Python program to print alphabet pattern 'A'.\n"
   ]
  },
  {
   "cell_type": "markdown",
   "metadata": {},
   "source": [
    "      ***                                                                   \n",
    "     *   *                                                                  \n",
    "     *   *                                                                  \n",
    "     *****                                                                  \n",
    "     *   *                                                                  \n",
    "     *   *                                                                  \n",
    "     *   *\n"
   ]
  },
  {
   "cell_type": "markdown",
   "metadata": {},
   "source": [
    "    15. Write a Python program to construct the following pattern, using a nested loop number.\n",
    "    Expected Output:\n",
    "\n",
    "    1\n",
    "    22\n",
    "    333\n",
    "    4444\n",
    "    55555\n",
    "    666666\n",
    "    7777777\n",
    "    88888888\n",
    "    999999999"
   ]
  },
  {
   "cell_type": "markdown",
   "metadata": {},
   "source": [
    "    16. Write a Python program to construct the following pattern, using a nested loop number.\n",
    "    Expected Output:\n",
    "    \n",
    "        * \n",
    "       * * \n",
    "      * * * \n",
    "     * * * * \n",
    "    * * * * *"
   ]
  }
 ],
 "metadata": {
  "kernelspec": {
   "display_name": "Python 3",
   "language": "python",
   "name": "python3"
  },
  "language_info": {
   "codemirror_mode": {
    "name": "ipython",
    "version": 3
   },
   "file_extension": ".py",
   "mimetype": "text/x-python",
   "name": "python",
   "nbconvert_exporter": "python",
   "pygments_lexer": "ipython3",
   "version": "3.6.5"
  }
 },
 "nbformat": 4,
 "nbformat_minor": 4
}
