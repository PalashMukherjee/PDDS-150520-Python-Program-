{
 "cells": [
  {
   "cell_type": "code",
   "execution_count": 1,
   "metadata": {},
   "outputs": [],
   "source": [
    "# Revision"
   ]
  },
  {
   "cell_type": "code",
   "execution_count": 2,
   "metadata": {},
   "outputs": [],
   "source": [
    "# dyanmic typing? interpretted language?"
   ]
  },
  {
   "cell_type": "code",
   "execution_count": 3,
   "metadata": {},
   "outputs": [
    {
     "data": {
      "text/plain": [
       "False"
      ]
     },
     "execution_count": 3,
     "metadata": {},
     "output_type": "execute_result"
    }
   ],
   "source": [
    "a = [1,2]\n",
    "b = [1,2]\n",
    "a is b"
   ]
  },
  {
   "cell_type": "code",
   "execution_count": 4,
   "metadata": {},
   "outputs": [
    {
     "data": {
      "text/plain": [
       "True"
      ]
     },
     "execution_count": 4,
     "metadata": {},
     "output_type": "execute_result"
    }
   ],
   "source": [
    "a==b"
   ]
  },
  {
   "cell_type": "code",
   "execution_count": 5,
   "metadata": {},
   "outputs": [],
   "source": [
    "# == compare values\n",
    "# is compare mem. location(obj itself)"
   ]
  },
  {
   "cell_type": "code",
   "execution_count": 7,
   "metadata": {},
   "outputs": [],
   "source": [
    "for [var] in [iterable_datatype]:\n",
    "    statements.1\n",
    "else:\n",
    "    statements.2"
   ]
  },
  {
   "cell_type": "code",
   "execution_count": 9,
   "metadata": {},
   "outputs": [],
   "source": [
    "# while [condition]:\n",
    "#     statements"
   ]
  },
  {
   "cell_type": "code",
   "execution_count": 10,
   "metadata": {},
   "outputs": [
    {
     "data": {
      "text/plain": [
       "range(1, 11)"
      ]
     },
     "execution_count": 10,
     "metadata": {},
     "output_type": "execute_result"
    }
   ],
   "source": [
    "# range(start,end,jump)\n",
    "range(1,11)"
   ]
  },
  {
   "cell_type": "code",
   "execution_count": 11,
   "metadata": {},
   "outputs": [],
   "source": [
    "# enumerate??"
   ]
  },
  {
   "cell_type": "code",
   "execution_count": 12,
   "metadata": {},
   "outputs": [
    {
     "name": "stdout",
     "output_type": "stream",
     "text": [
      "0 1\n",
      "1 2\n",
      "2 3\n",
      "3 4\n"
     ]
    }
   ],
   "source": [
    "l = [1,2,3,4]\n",
    "\n",
    "for index,value in enumerate(l):\n",
    "    print(index,value)"
   ]
  },
  {
   "cell_type": "code",
   "execution_count": 13,
   "metadata": {},
   "outputs": [
    {
     "data": {
      "text/plain": [
       "False"
      ]
     },
     "execution_count": 13,
     "metadata": {},
     "output_type": "execute_result"
    }
   ],
   "source": [
    "bool(0)"
   ]
  },
  {
   "cell_type": "code",
   "execution_count": 14,
   "metadata": {},
   "outputs": [],
   "source": [
    "# \"\",[],{},None"
   ]
  },
  {
   "cell_type": "markdown",
   "metadata": {},
   "source": [
    "# Strings"
   ]
  },
  {
   "cell_type": "markdown",
   "metadata": {},
   "source": [
    "## immutable -> No methods for add,delete and update\n",
    "## ordered -> indexing and slicing\n",
    "## \"Python\",'Python',\"\"\"Python\"\"\""
   ]
  },
  {
   "cell_type": "code",
   "execution_count": 24,
   "metadata": {},
   "outputs": [
    {
     "name": "stdout",
     "output_type": "stream",
     "text": [
      "4433966832\n"
     ]
    }
   ],
   "source": [
    "s1 = \"python\"\n",
    "print(id(s1))\n",
    "# s2 = s1\n",
    "# print(id(s2))\n",
    "s2 = \"python\"\n",
    "\n",
    "# s1 = s1 + \" 3\"\n",
    "# print(id(s1))\n",
    "# print(id(s2))"
   ]
  },
  {
   "cell_type": "code",
   "execution_count": 20,
   "metadata": {},
   "outputs": [],
   "source": [
    "# indexing"
   ]
  },
  {
   "cell_type": "code",
   "execution_count": 28,
   "metadata": {},
   "outputs": [
    {
     "data": {
      "text/plain": [
       "'n'"
      ]
     },
     "execution_count": 28,
     "metadata": {},
     "output_type": "execute_result"
    }
   ],
   "source": [
    "s1[-1]"
   ]
  },
  {
   "cell_type": "code",
   "execution_count": 25,
   "metadata": {},
   "outputs": [
    {
     "data": {
      "text/plain": [
       "True"
      ]
     },
     "execution_count": 25,
     "metadata": {},
     "output_type": "execute_result"
    }
   ],
   "source": [
    "s1 is s2"
   ]
  },
  {
   "cell_type": "markdown",
   "metadata": {},
   "source": [
    "## slicing"
   ]
  },
  {
   "cell_type": "code",
   "execution_count": 41,
   "metadata": {},
   "outputs": [
    {
     "name": "stdout",
     "output_type": "stream",
     "text": [
      "is\n",
      "2\n"
     ]
    }
   ],
   "source": [
    "s3 = \"This is String\"\n",
    "length = len(s3)+1\n",
    "print(s3[2:4])\n",
    "s4 = s3[2:4]\n",
    "print(len(s4))\n",
    "\n",
    "# Syntax => string_name[start:end:stride]\n",
    "\n",
    "# default values:\n",
    "    # start = 0\n",
    "    # end = len(string)\n",
    "    # stride = 1"
   ]
  },
  {
   "cell_type": "code",
   "execution_count": 44,
   "metadata": {},
   "outputs": [
    {
     "data": {
      "text/plain": [
       "' si'"
      ]
     },
     "execution_count": 44,
     "metadata": {},
     "output_type": "execute_result"
    }
   ],
   "source": [
    "s3[4:1:-1]"
   ]
  },
  {
   "cell_type": "code",
   "execution_count": 45,
   "metadata": {},
   "outputs": [],
   "source": [
    "## stride rules:\n",
    "# +ve => left to right\n",
    "# -ve => right to left\n",
    "\n",
    "# check the stride:\n",
    "#     1. if stride not given => 1(left to right)\n",
    "#     2. if stride is +ve, check the index left to right.\n",
    "#     3. if stride is -ve, check index should be right to left."
   ]
  },
  {
   "cell_type": "code",
   "execution_count": 46,
   "metadata": {},
   "outputs": [
    {
     "name": "stdout",
     "output_type": "stream",
     "text": [
      "Ti sSrn\n"
     ]
    }
   ],
   "source": [
    "print(s3[::2])"
   ]
  },
  {
   "cell_type": "code",
   "execution_count": 47,
   "metadata": {},
   "outputs": [
    {
     "data": {
      "text/plain": [
       "'elppa'"
      ]
     },
     "execution_count": 47,
     "metadata": {},
     "output_type": "execute_result"
    }
   ],
   "source": [
    "s5 = \"apple\"\n",
    "# elppa?\n",
    "s5[::-1]"
   ]
  },
  {
   "cell_type": "markdown",
   "metadata": {},
   "source": [
    "## Q1) How to use slicing to print only OOOO out of \"OAOAOAOA\"?\n",
    "\n",
    "### Intuition: Can we jump to only even index positions?\n",
    "\n",
    "### Pseudocode:No Need, just an builtin function"
   ]
  },
  {
   "cell_type": "code",
   "execution_count": 48,
   "metadata": {},
   "outputs": [
    {
     "name": "stdout",
     "output_type": "stream",
     "text": [
      "OOOO\n"
     ]
    }
   ],
   "source": [
    "strring1 = \"OAOAOAOA\"\n",
    "print(strring1[::2])"
   ]
  },
  {
   "cell_type": "code",
   "execution_count": 49,
   "metadata": {},
   "outputs": [],
   "source": [
    "# AAAA?"
   ]
  },
  {
   "cell_type": "code",
   "execution_count": 52,
   "metadata": {},
   "outputs": [
    {
     "name": "stdout",
     "output_type": "stream",
     "text": [
      "AAAA\n",
      "AAAA\n"
     ]
    }
   ],
   "source": [
    "print(strring1[1::2])\n",
    "print(strring1[::-2])"
   ]
  },
  {
   "cell_type": "code",
   "execution_count": 56,
   "metadata": {},
   "outputs": [
    {
     "name": "stdout",
     "output_type": "stream",
     "text": [
      "False\n",
      "112 111\n",
      "65 -- 90\n"
     ]
    }
   ],
   "source": [
    "s1 = \"p\"\n",
    "s2 = \"o\"\n",
    "print(s1<s2)\n",
    "print(ord(s1),ord(s2))\n",
    "\n",
    "print(ord(\"A\"),\"--\",ord(\"Z\"))"
   ]
  },
  {
   "cell_type": "markdown",
   "metadata": {},
   "source": [
    "## Q2)Check which of the following string contains all the 26 Alphabets\n",
    "##    a)\"the quick brown fox jumps over a lazy dog\"\n",
    "##    b)\"the quick red fox jumps over a lazy dog\"\n",
    "\n",
    "### Intuition:Can we use ASCII values to store in a list the alphabet number present in the string.\n",
    "\n",
    "### Pseudocode:\n",
    "    1)make a list with 0's of size 26\n",
    "    2)loop through the string and calculate ascii value.\n",
    "    2.1) subtract the lowest ascii value to get the alphabet position (Remember 0 indexed)\n",
    "    2.2) replace the 0 with 1 in the list for that alphabet\n",
    "    3) sum the values in the list, it should be 26.\n",
    "    "
   ]
  },
  {
   "cell_type": "code",
   "execution_count": 57,
   "metadata": {},
   "outputs": [],
   "source": [
    "stringa = \"the quick brown fox jumps over a lazy dog\"\n",
    "stringb = \"the quick red fox jumps over a lazy dog\""
   ]
  },
  {
   "cell_type": "code",
   "execution_count": 58,
   "metadata": {},
   "outputs": [
    {
     "data": {
      "text/plain": [
       "97"
      ]
     },
     "execution_count": 58,
     "metadata": {},
     "output_type": "execute_result"
    }
   ],
   "source": [
    "ord(\"a\")"
   ]
  },
  {
   "cell_type": "code",
   "execution_count": 129,
   "metadata": {},
   "outputs": [
    {
     "name": "stdout",
     "output_type": "stream",
     "text": [
      "0 0 0 0\n",
      "a is present\n",
      "b is present\n",
      "d is present\n",
      "1 1 0 1\n"
     ]
    }
   ],
   "source": [
    "# step 1\n",
    "TEST_STRING = \"abd\"\n",
    "\n",
    "A = 0\n",
    "B = 0\n",
    "C = 0\n",
    "D = 0\n",
    "\n",
    "print(A,B,C,D)\n",
    "for chr1 in TEST_STRING:\n",
    "    print(chr1,\"is present\")\n",
    "    if chr1 == \"a\":\n",
    "        A = 1\n",
    "    elif chr1 == \"b\":\n",
    "        B = 1\n",
    "    elif chr1 == \"c\":\n",
    "        C = 1\n",
    "    elif chr1 == \"d\":\n",
    "        D = 1\n",
    "print(A,B,C,D)"
   ]
  },
  {
   "cell_type": "code",
   "execution_count": 75,
   "metadata": {},
   "outputs": [
    {
     "name": "stdout",
     "output_type": "stream",
     "text": [
      "[0, 0, 0, 0]\n",
      "a --> 97\n",
      "b --> 98\n",
      "d --> 100\n",
      "[1, 1, 0, 1]\n",
      "3\n"
     ]
    }
   ],
   "source": [
    "# step 2\n",
    "TEST_STRING = \"abd\"\n",
    "\n",
    "student_list = [0,0,0,0]\n",
    "\n",
    "print(student_list)\n",
    "for chr1 in TEST_STRING :\n",
    "    print(chr1,\"-->\",ord(chr1))\n",
    "    if chr1 == \"a\":\n",
    "        student_list[ord(chr1)-97] = 1\n",
    "    elif chr1 == \"b\":\n",
    "        student_list[ord(chr1)-97] = 1\n",
    "    elif chr1 == \"c\":\n",
    "        student_list[ord(chr1)-97] = 1\n",
    "    elif chr1 == \"d\":\n",
    "        student_list[ord(chr1)-97] = 1\n",
    "\n",
    "print(student_list)\n",
    "\n",
    "print(sum(student_list))"
   ]
  },
  {
   "cell_type": "code",
   "execution_count": 74,
   "metadata": {},
   "outputs": [
    {
     "name": "stdout",
     "output_type": "stream",
     "text": [
      "[0, 0, 0, 0]\n",
      "[1, 1, 0, 1]\n"
     ]
    }
   ],
   "source": [
    "# step 3\n",
    "TEST_STRING = \"abd\"\n",
    "\n",
    "student_list = [0,0,0,0]\n",
    "# student_list_map = [a,b,c,d]\n",
    "\n",
    "print(student_list)\n",
    "for chr1 in TEST_STRING :\n",
    "#     print(chr1,\"-->\",ord(chr1)-97)\n",
    "    student_list[ord(chr1)-97] = 1\n",
    "\n",
    "print(student_list)"
   ]
  },
  {
   "cell_type": "code",
   "execution_count": null,
   "metadata": {},
   "outputs": [],
   "source": [
    "# we will discuss these step 1,2,3,and further and the full question no 2\n",
    "# in future lesson, when everyone is comfortable with some concepts in python."
   ]
  },
  {
   "cell_type": "code",
   "execution_count": 65,
   "metadata": {},
   "outputs": [
    {
     "data": {
      "text/plain": [
       "0"
      ]
     },
     "execution_count": 65,
     "metadata": {},
     "output_type": "execute_result"
    }
   ],
   "source": [
    "ord(\"a\") - 97"
   ]
  },
  {
   "cell_type": "code",
   "execution_count": 67,
   "metadata": {},
   "outputs": [
    {
     "data": {
      "text/plain": [
       "1"
      ]
     },
     "execution_count": 67,
     "metadata": {},
     "output_type": "execute_result"
    }
   ],
   "source": [
    "ord(\"b\") - 97"
   ]
  },
  {
   "cell_type": "code",
   "execution_count": 68,
   "metadata": {},
   "outputs": [
    {
     "data": {
      "text/plain": [
       "2"
      ]
     },
     "execution_count": 68,
     "metadata": {},
     "output_type": "execute_result"
    }
   ],
   "source": [
    "ord(\"c\") - 97"
   ]
  },
  {
   "cell_type": "code",
   "execution_count": 69,
   "metadata": {},
   "outputs": [
    {
     "data": {
      "text/plain": [
       "3"
      ]
     },
     "execution_count": 69,
     "metadata": {},
     "output_type": "execute_result"
    }
   ],
   "source": [
    "ord(\"d\") - 97"
   ]
  },
  {
   "cell_type": "markdown",
   "metadata": {},
   "source": [
    "## format"
   ]
  },
  {
   "cell_type": "code",
   "execution_count": 76,
   "metadata": {},
   "outputs": [
    {
     "name": "stdout",
     "output_type": "stream",
     "text": [
      "num1 is 100 num2 is 200\n"
     ]
    }
   ],
   "source": [
    "num1 = 100\n",
    "num2 = 200\n",
    "\n",
    "print(\"num1 is\",num1,\"num2 is\",num2)"
   ]
  },
  {
   "cell_type": "code",
   "execution_count": 77,
   "metadata": {},
   "outputs": [
    {
     "name": "stdout",
     "output_type": "stream",
     "text": [
      "the value for num1 is 100 and value for num2 is 200\n"
     ]
    }
   ],
   "source": [
    "s1 = \"the value for num1 is {0} and value for num2 is {1}\".format(num1,num2)\n",
    "print(s1)"
   ]
  },
  {
   "cell_type": "code",
   "execution_count": 78,
   "metadata": {},
   "outputs": [],
   "source": [
    "subject = \"received an email from {name} with email {email}\".format(name=\"jhoga\" ,email =\"jhoga@edyoda.com\")"
   ]
  },
  {
   "cell_type": "code",
   "execution_count": 79,
   "metadata": {},
   "outputs": [
    {
     "name": "stdout",
     "output_type": "stream",
     "text": [
      "received an email from jhoga with email jhoga@edyoda.com\n"
     ]
    }
   ],
   "source": [
    "print(subject)"
   ]
  },
  {
   "cell_type": "markdown",
   "metadata": {},
   "source": [
    "## split and join"
   ]
  },
  {
   "cell_type": "code",
   "execution_count": 82,
   "metadata": {},
   "outputs": [
    {
     "name": "stdout",
     "output_type": "stream",
     "text": [
      "['The enemy is approaching us!', ' Please call delta for help ', ' Okay ', '']\n",
      "The enemy is approaching us!over Please call delta for help over Okay over\n"
     ]
    }
   ],
   "source": [
    "s = \"The enemy is approaching us!over Please call delta for help over Okay over\"\n",
    "l = s.split(\"over\")\n",
    "print(l)\n",
    "\n",
    "s1 = (\"over\").join(l)\n",
    "\n",
    "print(s1)"
   ]
  },
  {
   "cell_type": "code",
   "execution_count": 85,
   "metadata": {},
   "outputs": [
    {
     "name": "stdout",
     "output_type": "stream",
     "text": [
      "['a-', '-c-d']\n"
     ]
    }
   ],
   "source": [
    "s = \"a-b-c-d\"\n",
    "l2 = s.split(\"b\")\n",
    "\n",
    "print(l2)"
   ]
  },
  {
   "cell_type": "code",
   "execution_count": 86,
   "metadata": {},
   "outputs": [
    {
     "name": "stdout",
     "output_type": "stream",
     "text": [
      "a-b-c-d\n"
     ]
    }
   ],
   "source": [
    "s4 = (\"b\").join(l2)\n",
    "\n",
    "print(s4)"
   ]
  },
  {
   "cell_type": "code",
   "execution_count": 87,
   "metadata": {},
   "outputs": [
    {
     "name": "stdout",
     "output_type": "stream",
     "text": [
      "34\n",
      "<class 'str'> 4461771120\n",
      "<class 'float'> 4460681904\n"
     ]
    }
   ],
   "source": [
    "x = input()\n",
    "print(type(x),id(x))\n",
    "\n",
    "\n",
    "y = float(x)\n",
    "print(type(y),id(y))"
   ]
  },
  {
   "cell_type": "markdown",
   "metadata": {},
   "source": [
    "## Builtin String functions\n",
    "\n",
    "### find,index,replace,rfind,rindex,count"
   ]
  },
  {
   "cell_type": "code",
   "execution_count": 123,
   "metadata": {},
   "outputs": [
    {
     "name": "stdout",
     "output_type": "stream",
     "text": [
      "True\n"
     ]
    }
   ],
   "source": [
    "s = \"ModiTrumpModiTrump\"\n",
    "\n",
    "print(\"Modi\" in s)"
   ]
  },
  {
   "cell_type": "code",
   "execution_count": 124,
   "metadata": {},
   "outputs": [
    {
     "name": "stdout",
     "output_type": "stream",
     "text": [
      "-1\n"
     ]
    }
   ],
   "source": [
    "print(s.find(\"china\"))"
   ]
  },
  {
   "cell_type": "code",
   "execution_count": 90,
   "metadata": {},
   "outputs": [
    {
     "name": "stdout",
     "output_type": "stream",
     "text": [
      "9\n"
     ]
    }
   ],
   "source": [
    "print(s.rfind(\"Modi\"))"
   ]
  },
  {
   "cell_type": "code",
   "execution_count": 92,
   "metadata": {},
   "outputs": [
    {
     "name": "stdout",
     "output_type": "stream",
     "text": [
      "13\n"
     ]
    }
   ],
   "source": [
    "print(s.rindex(\"Trump\"))"
   ]
  },
  {
   "cell_type": "code",
   "execution_count": 98,
   "metadata": {},
   "outputs": [],
   "source": [
    "s = s.replace(\"Trump\",\"Putin\")"
   ]
  },
  {
   "cell_type": "code",
   "execution_count": 99,
   "metadata": {},
   "outputs": [
    {
     "name": "stdout",
     "output_type": "stream",
     "text": [
      "ModiPutinModiPutin\n",
      "2\n"
     ]
    }
   ],
   "source": [
    "\n",
    "print(s)\n",
    "print(s.count(\"P\"))"
   ]
  },
  {
   "cell_type": "code",
   "execution_count": 102,
   "metadata": {},
   "outputs": [],
   "source": [
    "s = \"aaabbbbccccc\"\n",
    "\n",
    "# print the max appeared char with the count it appeared\n",
    "# c 5\n",
    "\n",
    "# for char1 in s:\n",
    "#     print(char1)\n",
    "    \n",
    "## homework"
   ]
  },
  {
   "cell_type": "code",
   "execution_count": null,
   "metadata": {},
   "outputs": [],
   "source": [
    "lower,islower\n",
    "upper,isupper\n",
    "title,istitle\n",
    "capitalize"
   ]
  },
  {
   "cell_type": "code",
   "execution_count": 108,
   "metadata": {},
   "outputs": [
    {
     "name": "stdout",
     "output_type": "stream",
     "text": [
      "Python string\n"
     ]
    }
   ],
   "source": [
    "s = \"PYTHON String\"\n",
    "\n",
    "print(s.capitalize())"
   ]
  },
  {
   "cell_type": "code",
   "execution_count": 109,
   "metadata": {},
   "outputs": [],
   "source": [
    "## homework\n",
    "\n",
    "# isapha\n",
    "# isdigit\n",
    "# isalum\n",
    "# isspace"
   ]
  },
  {
   "cell_type": "code",
   "execution_count": 110,
   "metadata": {},
   "outputs": [],
   "source": [
    "##\n",
    "# strip\n",
    "# lstrip\n",
    "# rstrip\n",
    "\n",
    "# center\n",
    "# ljust\n",
    "# rjust"
   ]
  },
  {
   "cell_type": "code",
   "execution_count": 111,
   "metadata": {},
   "outputs": [
    {
     "name": "stdout",
     "output_type": "stream",
     "text": [
      "14\n"
     ]
    }
   ],
   "source": [
    "s = \"JavaPythonJava\"\n",
    "print(len(s))"
   ]
  },
  {
   "cell_type": "code",
   "execution_count": 114,
   "metadata": {},
   "outputs": [
    {
     "name": "stdout",
     "output_type": "stream",
     "text": [
      "JavaPython\n"
     ]
    }
   ],
   "source": [
    "s1 = s.rstrip(\"Java\")\n",
    "print(s1)"
   ]
  },
  {
   "cell_type": "code",
   "execution_count": 119,
   "metadata": {},
   "outputs": [
    {
     "name": "stdout",
     "output_type": "stream",
     "text": [
      "!!!!!!!!!Python!!!!!!!!\n",
      "23\n"
     ]
    }
   ],
   "source": [
    "s = \"Python\"\n",
    "s2 = s.center(23,\"!\")\n",
    "print(s2)\n",
    "print(len(s2))"
   ]
  },
  {
   "cell_type": "markdown",
   "metadata": {},
   "source": [
    "## Q3)find the length of the string \"Edyoda\" without using len function.\n",
    "\n",
    "### Intuition:\n",
    "    You already studied Loops, and you know string is iterable.\n",
    "    \n",
    "### Pseudocode:\n",
    "    1)create a variable length = 0.\n",
    "    2)loop over the string and increase it's value."
   ]
  },
  {
   "cell_type": "code",
   "execution_count": 122,
   "metadata": {},
   "outputs": [
    {
     "name": "stdout",
     "output_type": "stream",
     "text": [
      "6\n",
      "6\n"
     ]
    }
   ],
   "source": [
    "length = 0\n",
    "\n",
    "for char in \"Edyoda\":\n",
    "    length = length+1\n",
    "print(length)\n",
    "\n",
    "print(len(\"Edyoda\"))"
   ]
  },
  {
   "cell_type": "markdown",
   "metadata": {},
   "source": [
    "## Q4) Check if the word 'china'  is present in the string\n",
    "##    a)\"Who is responsible for this great year 2020?\"        \n",
    "##     b)\"Is it you china?\"\n",
    "\n",
    "## Intuition:\n",
    "    You already studied some operators, use them, or maybe use some builtin string functions"
   ]
  },
  {
   "cell_type": "code",
   "execution_count": 126,
   "metadata": {},
   "outputs": [
    {
     "name": "stdout",
     "output_type": "stream",
     "text": [
      "found it\n"
     ]
    }
   ],
   "source": [
    "b = \"Is it you china\"\n",
    "\n",
    "if b.find(\"china\") != -1:\n",
    "    print(\"found it\")\n",
    "else:\n",
    "    print(\"no it is not present\")"
   ]
  },
  {
   "cell_type": "code",
   "execution_count": 127,
   "metadata": {},
   "outputs": [
    {
     "data": {
      "text/plain": [
       "True"
      ]
     },
     "execution_count": 127,
     "metadata": {},
     "output_type": "execute_result"
    }
   ],
   "source": [
    "\"china\" in \"Is it you china\""
   ]
  },
  {
   "cell_type": "markdown",
   "metadata": {},
   "source": [
    "## Q5) find the first and the last occurence of the letter 'o' and character ',' in \"Hello, World\".Print both the index.\n",
    "\n",
    "## Intuition: Use built in function"
   ]
  },
  {
   "cell_type": "code",
   "execution_count": null,
   "metadata": {},
   "outputs": [],
   "source": [
    "## homework\n",
    "\n",
    "\n",
    "## for homework , it will be provided the next day after session in the same github repo."
   ]
  }
 ],
 "metadata": {
  "kernelspec": {
   "display_name": "Python 3",
   "language": "python",
   "name": "python3"
  },
  "language_info": {
   "codemirror_mode": {
    "name": "ipython",
    "version": 3
   },
   "file_extension": ".py",
   "mimetype": "text/x-python",
   "name": "python",
   "nbconvert_exporter": "python",
   "pygments_lexer": "ipython3",
   "version": "3.7.4"
  }
 },
 "nbformat": 4,
 "nbformat_minor": 2
}
