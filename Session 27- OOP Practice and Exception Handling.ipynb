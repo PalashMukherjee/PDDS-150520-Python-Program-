{
 "cells": [
  {
   "cell_type": "code",
   "execution_count": null,
   "metadata": {},
   "outputs": [],
   "source": [
    "## Revision\n",
    "\n",
    "Builtin Data Types: int,float,list,set,dict,str,tuple,set,bool,None\n",
    "\n",
    "2 imp things about keys in set and dictionary:\n",
    "    ->keys are uniques\n",
    "    -> keys are immutable\n",
    "    \n",
    "Immutable?No update,edit,insert\n",
    "\n",
    "Examples: int,str,float,tuple\n",
    "    \n",
    "Mutables: set,list,dict\n",
    "\n",
    "Ierables? which can be loop over\n",
    "str,list,tuple,dict,set,range()\n",
    "\n",
    "Iterators? __iter__ and __next__.\n",
    "iterate upon using next method(to cover all the values in the sequence)\n",
    "\n",
    "->for loop (implicitly handle iter() and also handles the stopiteration error)\n",
    "->generator fun? yield (which pauses the fun and gives a value at a time on demand) => iter_obj = gen_fun()\n",
    "->iter(iterable) => iter([1,2,3]),iter({\"pyton\":3,\"java\":8}),iter((1,2,3,4))\n",
    "->by using user defined classes to include __iter__ and __next__\n"
   ]
  },
  {
   "cell_type": "code",
   "execution_count": 6,
   "metadata": {},
   "outputs": [],
   "source": [
    "## Object Oriented Programming\n",
    "\n",
    "## Object Variables??\n",
    "\n",
    "class instruments:\n",
    "    type = \"None\"\n",
    "    def __init__(self,name):\n",
    "        self.name = name\n",
    "        \n",
    "    def play(self,loudness):\n",
    "        self.loudness = loudness\n",
    "        print(\"instrument\",self.name,\"is playing with loudness\",self.loudness)\n",
    "        \n",
    "    def decrease_loudness(self):\n",
    "        loudness = self.loudness-1\n",
    "        self.play(loudness)\n",
    "    \n",
    "guitar = instruments(\"my_fav_guitar\")"
   ]
  },
  {
   "cell_type": "code",
   "execution_count": null,
   "metadata": {},
   "outputs": [],
   "source": [
    "class methods?\n",
    "@classmethod\n",
    "def instrument_type(cls,typeofin):\n",
    "    cls.type = typeofin\n",
    "    cls.another_class_method()\n",
    "    \n",
    "@classmethod\n",
    "def another_class_method(cls):\n",
    "    cls.type = \"electric\"\n",
    "    \n",
    "instruments.instrument_type(\"Acoustic\")\n"
   ]
  },
  {
   "cell_type": "code",
   "execution_count": 7,
   "metadata": {},
   "outputs": [],
   "source": [
    "## Object == Instance \n",
    "## method == function"
   ]
  },
  {
   "cell_type": "code",
   "execution_count": 4,
   "metadata": {},
   "outputs": [],
   "source": [
    "# Object Variables:\n",
    "# name\n",
    "# loudness"
   ]
  },
  {
   "cell_type": "code",
   "execution_count": 8,
   "metadata": {},
   "outputs": [
    {
     "data": {
      "text/plain": [
       "{'name': 'my_fav_guitar'}"
      ]
     },
     "execution_count": 8,
     "metadata": {},
     "output_type": "execute_result"
    }
   ],
   "source": [
    "guitar.__dict__"
   ]
  },
  {
   "cell_type": "code",
   "execution_count": 9,
   "metadata": {},
   "outputs": [
    {
     "name": "stdout",
     "output_type": "stream",
     "text": [
      "instrument my_fav_guitar is playing with loudness 4\n"
     ]
    }
   ],
   "source": [
    "guitar.play(4)"
   ]
  },
  {
   "cell_type": "code",
   "execution_count": 10,
   "metadata": {},
   "outputs": [
    {
     "data": {
      "text/plain": [
       "{'name': 'my_fav_guitar', 'loudness': 4}"
      ]
     },
     "execution_count": 10,
     "metadata": {},
     "output_type": "execute_result"
    }
   ],
   "source": [
    "guitar.__dict__"
   ]
  },
  {
   "cell_type": "code",
   "execution_count": null,
   "metadata": {},
   "outputs": [],
   "source": [
    "## static methods??\n",
    "\n",
    "=>does not manipulate obj or cls var\n",
    "=>used for class functinalities\n",
    "=> does not require any cls or self (or first argument to point to the caller)\n",
    "\n",
    "@staticmethod"
   ]
  },
  {
   "cell_type": "code",
   "execution_count": 11,
   "metadata": {},
   "outputs": [],
   "source": [
    "## magic methods?\n",
    "# __str__ => print(obj) => whatever we return in the __str__ magic method will be printed\n",
    "# __len__ => len(obj) => return whatever is returned in the __len__ magic method\n",
    "# __add__ => (1+2j) + (2+3j) => obj1+obj2 =>  __add__(self,obj2) => self=>obj1 . it will return whatever we define in the __add__\n",
    "# method using obj1 and obj2"
   ]
  },
  {
   "cell_type": "code",
   "execution_count": 12,
   "metadata": {},
   "outputs": [
    {
     "name": "stdout",
     "output_type": "stream",
     "text": [
      "Help on instruments in module __main__ object:\n",
      "\n",
      "class instruments(builtins.object)\n",
      " |  instruments(name)\n",
      " |  \n",
      " |  Methods defined here:\n",
      " |  \n",
      " |  __init__(self, name)\n",
      " |      Initialize self.  See help(type(self)) for accurate signature.\n",
      " |  \n",
      " |  play(self, loudness)\n",
      " |  \n",
      " |  ----------------------------------------------------------------------\n",
      " |  Data descriptors defined here:\n",
      " |  \n",
      " |  __dict__\n",
      " |      dictionary for instance variables (if defined)\n",
      " |  \n",
      " |  __weakref__\n",
      " |      list of weak references to the object (if defined)\n",
      "\n"
     ]
    }
   ],
   "source": [
    "help(guitar)"
   ]
  },
  {
   "cell_type": "code",
   "execution_count": 15,
   "metadata": {},
   "outputs": [
    {
     "name": "stdout",
     "output_type": "stream",
     "text": [
      "True\n"
     ]
    }
   ],
   "source": [
    "# ininstance(obj,type of class)\n",
    "\n",
    "a = [3]\n",
    "print(isinstance(a,list))"
   ]
  },
  {
   "cell_type": "code",
   "execution_count": 16,
   "metadata": {},
   "outputs": [],
   "source": [
    "## Quiz 10:OOP"
   ]
  },
  {
   "cell_type": "markdown",
   "metadata": {},
   "source": [
    "# Inheritance and super!"
   ]
  },
  {
   "cell_type": "code",
   "execution_count": 22,
   "metadata": {},
   "outputs": [
    {
     "name": "stdout",
     "output_type": "stream",
     "text": [
      "Dog\n",
      "Animal\n"
     ]
    }
   ],
   "source": [
    "# Single Inheritance \n",
    "\n",
    "class Animal:\n",
    "    def __init__(self,name):\n",
    "        print(\"Animal\")\n",
    "        self.name = name\n",
    "class Dog(Animal):\n",
    "    def __init__(self,name,age):\n",
    "        print(\"Dog\")\n",
    "        super().__init__(name)\n",
    "        self.age = age\n",
    "        \n",
    "yuki = Dog(\"yuki singh\",4)"
   ]
  },
  {
   "cell_type": "code",
   "execution_count": 23,
   "metadata": {},
   "outputs": [
    {
     "name": "stdout",
     "output_type": "stream",
     "text": [
      "Help on Dog in module __main__ object:\n",
      "\n",
      "class Dog(Animal)\n",
      " |  Dog(name, age)\n",
      " |  \n",
      " |  Method resolution order:\n",
      " |      Dog\n",
      " |      Animal\n",
      " |      builtins.object\n",
      " |  \n",
      " |  Methods defined here:\n",
      " |  \n",
      " |  __init__(self, name, age)\n",
      " |      Initialize self.  See help(type(self)) for accurate signature.\n",
      " |  \n",
      " |  ----------------------------------------------------------------------\n",
      " |  Data descriptors inherited from Animal:\n",
      " |  \n",
      " |  __dict__\n",
      " |      dictionary for instance variables (if defined)\n",
      " |  \n",
      " |  __weakref__\n",
      " |      list of weak references to the object (if defined)\n",
      "\n"
     ]
    }
   ],
   "source": [
    "help(yuki)"
   ]
  },
  {
   "cell_type": "code",
   "execution_count": null,
   "metadata": {},
   "outputs": [],
   "source": [
    "## MRO?"
   ]
  },
  {
   "cell_type": "code",
   "execution_count": 24,
   "metadata": {},
   "outputs": [
    {
     "name": "stdout",
     "output_type": "stream",
     "text": [
      "Labrador\n",
      "Dog\n",
      "Animal\n"
     ]
    }
   ],
   "source": [
    "# multilevel inheritance\n",
    "class Animal:\n",
    "    def __init__(self,name):\n",
    "        print(\"Animal\")\n",
    "        self.name = name\n",
    "class Dog(Animal):\n",
    "    def __init__(self,name,age):\n",
    "        print(\"Dog\")\n",
    "        super().__init__(name)\n",
    "        self.age = age\n",
    "        \n",
    "class Labrador(Dog):\n",
    "    def __init__(self,name,age,color):\n",
    "        print(\"Labrador\")\n",
    "        super().__init__(name,age)\n",
    "        self.color = color\n",
    "        \n",
    "yuki = Labrador(\"yuki singh\",4,\"Silver\")"
   ]
  },
  {
   "cell_type": "code",
   "execution_count": 25,
   "metadata": {},
   "outputs": [
    {
     "name": "stdout",
     "output_type": "stream",
     "text": [
      "Help on Labrador in module __main__ object:\n",
      "\n",
      "class Labrador(Dog)\n",
      " |  Labrador(name, age, color)\n",
      " |  \n",
      " |  Method resolution order:\n",
      " |      Labrador\n",
      " |      Dog\n",
      " |      Animal\n",
      " |      builtins.object\n",
      " |  \n",
      " |  Methods defined here:\n",
      " |  \n",
      " |  __init__(self, name, age, color)\n",
      " |      Initialize self.  See help(type(self)) for accurate signature.\n",
      " |  \n",
      " |  ----------------------------------------------------------------------\n",
      " |  Data descriptors inherited from Animal:\n",
      " |  \n",
      " |  __dict__\n",
      " |      dictionary for instance variables (if defined)\n",
      " |  \n",
      " |  __weakref__\n",
      " |      list of weak references to the object (if defined)\n",
      "\n"
     ]
    }
   ],
   "source": [
    "help(yuki)"
   ]
  },
  {
   "cell_type": "code",
   "execution_count": 27,
   "metadata": {},
   "outputs": [
    {
     "name": "stdout",
     "output_type": "stream",
     "text": [
      "Labrador\n",
      "Dog\n",
      "Animal\n",
      "\n",
      "\n",
      "German Shephard\n",
      "Dog\n",
      "Animal\n"
     ]
    }
   ],
   "source": [
    "## Hierarchical Inheritance\n",
    "\n",
    "class Animal:\n",
    "    def __init__(self,name):\n",
    "        print(\"Animal\")\n",
    "        self.name = name\n",
    "class Dog(Animal):\n",
    "    def __init__(self,name,age):\n",
    "        print(\"Dog\")\n",
    "        super().__init__(name)\n",
    "        self.age = age\n",
    "        \n",
    "class Labrador(Dog):\n",
    "    def __init__(self,name,age,color):\n",
    "        print(\"Labrador\")\n",
    "        super().__init__(name,age)\n",
    "        self.color = color\n",
    "        \n",
    "class German_Shephard(Dog):\n",
    "    def __init__(self,name,age,color):\n",
    "        print(\"German Shephard\")\n",
    "        super().__init__(name,age)\n",
    "        self.color = color\n",
    "        \n",
    "        \n",
    "yuki = Labrador(\"yuki singh\",4,\"Silver\")\n",
    "print(\"\\n\")\n",
    "ludo = German_Shephard(\"ludo singh\",3,\"Mixed Tan and Black\")"
   ]
  },
  {
   "cell_type": "code",
   "execution_count": 28,
   "metadata": {},
   "outputs": [
    {
     "name": "stdout",
     "output_type": "stream",
     "text": [
      "Help on Labrador in module __main__ object:\n",
      "\n",
      "class Labrador(Dog)\n",
      " |  Labrador(name, age, color)\n",
      " |  \n",
      " |  Method resolution order:\n",
      " |      Labrador\n",
      " |      Dog\n",
      " |      Animal\n",
      " |      builtins.object\n",
      " |  \n",
      " |  Methods defined here:\n",
      " |  \n",
      " |  __init__(self, name, age, color)\n",
      " |      Initialize self.  See help(type(self)) for accurate signature.\n",
      " |  \n",
      " |  ----------------------------------------------------------------------\n",
      " |  Data descriptors inherited from Animal:\n",
      " |  \n",
      " |  __dict__\n",
      " |      dictionary for instance variables (if defined)\n",
      " |  \n",
      " |  __weakref__\n",
      " |      list of weak references to the object (if defined)\n",
      "\n"
     ]
    }
   ],
   "source": [
    "help(yuki)"
   ]
  },
  {
   "cell_type": "code",
   "execution_count": 29,
   "metadata": {},
   "outputs": [
    {
     "name": "stdout",
     "output_type": "stream",
     "text": [
      "Help on German_Shephard in module __main__ object:\n",
      "\n",
      "class German_Shephard(Dog)\n",
      " |  German_Shephard(name, age, color)\n",
      " |  \n",
      " |  Method resolution order:\n",
      " |      German_Shephard\n",
      " |      Dog\n",
      " |      Animal\n",
      " |      builtins.object\n",
      " |  \n",
      " |  Methods defined here:\n",
      " |  \n",
      " |  __init__(self, name, age, color)\n",
      " |      Initialize self.  See help(type(self)) for accurate signature.\n",
      " |  \n",
      " |  ----------------------------------------------------------------------\n",
      " |  Data descriptors inherited from Animal:\n",
      " |  \n",
      " |  __dict__\n",
      " |      dictionary for instance variables (if defined)\n",
      " |  \n",
      " |  __weakref__\n",
      " |      list of weak references to the object (if defined)\n",
      "\n"
     ]
    }
   ],
   "source": [
    "help(ludo)"
   ]
  },
  {
   "cell_type": "code",
   "execution_count": 35,
   "metadata": {},
   "outputs": [
    {
     "name": "stdout",
     "output_type": "stream",
     "text": [
      "inside C\n",
      "inside A\n"
     ]
    }
   ],
   "source": [
    "## Multiple Inheritance\n",
    "\n",
    "class A:\n",
    "    def __init__(self):\n",
    "        print(\"inside A\")\n",
    "        \n",
    "    def fun(self):\n",
    "        print(\"fun of A\")\n",
    "        \n",
    "class B:\n",
    "    def __init__(self):\n",
    "        print(\"inside B\")\n",
    "        \n",
    "    def fun(self):\n",
    "        print(\"fun of B\")\n",
    "        \n",
    "class X:\n",
    "    def __init__(self):\n",
    "        print(\"inside X\")\n",
    "    \n",
    "    def fun(self):\n",
    "        print(\"fun of X\")\n",
    "        \n",
    "class C(A,B,X):\n",
    "    def __init__(self):\n",
    "        print(\"inside C\")\n",
    "        super().__init__()\n",
    "        \n",
    "obj = C()"
   ]
  },
  {
   "cell_type": "code",
   "execution_count": 36,
   "metadata": {},
   "outputs": [
    {
     "name": "stdout",
     "output_type": "stream",
     "text": [
      "fun of A\n"
     ]
    }
   ],
   "source": [
    "obj.fun()"
   ]
  },
  {
   "cell_type": "code",
   "execution_count": 33,
   "metadata": {},
   "outputs": [
    {
     "name": "stdout",
     "output_type": "stream",
     "text": [
      "Help on C in module __main__ object:\n",
      "\n",
      "class C(A, B, X)\n",
      " |  Method resolution order:\n",
      " |      C\n",
      " |      A\n",
      " |      B\n",
      " |      X\n",
      " |      builtins.object\n",
      " |  \n",
      " |  Methods defined here:\n",
      " |  \n",
      " |  __init__(self)\n",
      " |      Initialize self.  See help(type(self)) for accurate signature.\n",
      " |  \n",
      " |  ----------------------------------------------------------------------\n",
      " |  Data descriptors inherited from A:\n",
      " |  \n",
      " |  __dict__\n",
      " |      dictionary for instance variables (if defined)\n",
      " |  \n",
      " |  __weakref__\n",
      " |      list of weak references to the object (if defined)\n",
      "\n"
     ]
    }
   ],
   "source": [
    "help(obj)"
   ]
  },
  {
   "cell_type": "code",
   "execution_count": 37,
   "metadata": {},
   "outputs": [],
   "source": [
    "## hybrid inheritance : it contains almost all types of inheritance\n",
    "## depth first from left to right\n",
    "\n",
    "class X:\n",
    "    def __init__(self):\n",
    "        print(\"inside X\")\n",
    "    \n",
    "    def fun(self):\n",
    "        print(\"fun of X\")\n",
    "        \n",
    "class A(X):\n",
    "    def __init__(self):\n",
    "        print(\"inside A\")\n",
    "        \n",
    "    def fun(self):\n",
    "        print(\"fun of A\")\n",
    "        \n",
    "class B(X):\n",
    "    def __init__(self):\n",
    "        print(\"inside B\")\n",
    "        \n",
    "    def fun(self):\n",
    "        print(\"fun of B\")\n",
    "        \n",
    "class C(A,B):\n",
    "    def __init__(self):\n",
    "        print(\"inside C\")\n",
    "        super().__init__()"
   ]
  },
  {
   "cell_type": "code",
   "execution_count": 38,
   "metadata": {},
   "outputs": [
    {
     "name": "stdout",
     "output_type": "stream",
     "text": [
      "inside C\n",
      "inside A\n",
      "Help on C in module __main__ object:\n",
      "\n",
      "class C(A, B)\n",
      " |  Method resolution order:\n",
      " |      C\n",
      " |      A\n",
      " |      B\n",
      " |      X\n",
      " |      builtins.object\n",
      " |  \n",
      " |  Methods defined here:\n",
      " |  \n",
      " |  __init__(self)\n",
      " |      Initialize self.  See help(type(self)) for accurate signature.\n",
      " |  \n",
      " |  ----------------------------------------------------------------------\n",
      " |  Methods inherited from A:\n",
      " |  \n",
      " |  fun(self)\n",
      " |  \n",
      " |  ----------------------------------------------------------------------\n",
      " |  Data descriptors inherited from X:\n",
      " |  \n",
      " |  __dict__\n",
      " |      dictionary for instance variables (if defined)\n",
      " |  \n",
      " |  __weakref__\n",
      " |      list of weak references to the object (if defined)\n",
      "\n"
     ]
    }
   ],
   "source": [
    "obj = C()\n",
    "\n",
    "help(obj)"
   ]
  },
  {
   "cell_type": "code",
   "execution_count": 39,
   "metadata": {},
   "outputs": [],
   "source": [
    "## hybrid inheritance\n",
    "class Z:\n",
    "    def __init__(self):\n",
    "        print(\"inside Z\")\n",
    "    \n",
    "    def fun(self):\n",
    "        print(\"fun of Z\")\n",
    "\n",
    "class M(Z):\n",
    "    def __init__(self):\n",
    "        print(\"inside M\")\n",
    "    \n",
    "    def fun(self):\n",
    "        print(\"fun of M\")\n",
    "\n",
    "class N(Z):\n",
    "    def __init__(self):\n",
    "        print(\"inside N\")\n",
    "    \n",
    "    def fun(self):\n",
    "        print(\"fun of N\")\n",
    "\n",
    "        \n",
    "class A(M):\n",
    "    def __init__(self):\n",
    "        print(\"inside A\")\n",
    "        \n",
    "    def fun(self):\n",
    "        print(\"fun of A\")\n",
    "\n",
    "        \n",
    "class B(N):\n",
    "    def __init__(self):\n",
    "        print(\"inside B\")\n",
    "        \n",
    "    def fun(self):\n",
    "        print(\"fun of B\")\n",
    "        \n",
    "class X(A,B):\n",
    "    def __init__(self):\n",
    "        print(\"inside X\")\n",
    "        super().__init__()"
   ]
  },
  {
   "cell_type": "code",
   "execution_count": 40,
   "metadata": {},
   "outputs": [
    {
     "name": "stdout",
     "output_type": "stream",
     "text": [
      "inside X\n",
      "inside A\n",
      "Help on X in module __main__ object:\n",
      "\n",
      "class X(A, B)\n",
      " |  Method resolution order:\n",
      " |      X\n",
      " |      A\n",
      " |      M\n",
      " |      B\n",
      " |      N\n",
      " |      Z\n",
      " |      builtins.object\n",
      " |  \n",
      " |  Methods defined here:\n",
      " |  \n",
      " |  __init__(self)\n",
      " |      Initialize self.  See help(type(self)) for accurate signature.\n",
      " |  \n",
      " |  ----------------------------------------------------------------------\n",
      " |  Methods inherited from A:\n",
      " |  \n",
      " |  fun(self)\n",
      " |  \n",
      " |  ----------------------------------------------------------------------\n",
      " |  Data descriptors inherited from Z:\n",
      " |  \n",
      " |  __dict__\n",
      " |      dictionary for instance variables (if defined)\n",
      " |  \n",
      " |  __weakref__\n",
      " |      list of weak references to the object (if defined)\n",
      "\n"
     ]
    }
   ],
   "source": [
    "obj = X()\n",
    "\n",
    "help(obj)"
   ]
  },
  {
   "cell_type": "code",
   "execution_count": 42,
   "metadata": {},
   "outputs": [],
   "source": [
    "## Access specifiers:\n",
    "\n",
    "# By default var and methods are public!!\n",
    "\n",
    "# Private: (__varname) (you should only access these inside the class) [Double underscores]\n",
    "    \n",
    "# Protected(_varname) (These should be accessed inside the inherited classess as well!!) [Single Underscore]\n",
    "\n",
    "\n",
    "# class A:\n",
    "#     def eat(self):\n",
    "#         self._eat = 3\n",
    "        \n",
    "# class B(A):\n",
    "#     def happy(self):\n",
    "#         print(self._eat)\n",
    "#         print(\"happy after eating\")"
   ]
  },
  {
   "cell_type": "code",
   "execution_count": 43,
   "metadata": {},
   "outputs": [],
   "source": [
    "## Exception Handling"
   ]
  },
  {
   "cell_type": "code",
   "execution_count": 44,
   "metadata": {},
   "outputs": [],
   "source": [
    "# try:\n",
    "    \n",
    "# except:"
   ]
  },
  {
   "cell_type": "code",
   "execution_count": 46,
   "metadata": {},
   "outputs": [
    {
     "ename": "ZeroDivisionError",
     "evalue": "division by zero",
     "output_type": "error",
     "traceback": [
      "\u001b[1;31m---------------------------------------------------------------------------\u001b[0m",
      "\u001b[1;31mZeroDivisionError\u001b[0m                         Traceback (most recent call last)",
      "\u001b[1;32m<ipython-input-46-becabeabb30a>\u001b[0m in \u001b[0;36m<module>\u001b[1;34m\u001b[0m\n\u001b[1;32m----> 1\u001b[1;33m \u001b[1;36m1\u001b[0m\u001b[1;33m/\u001b[0m\u001b[1;36m0\u001b[0m\u001b[1;33m\u001b[0m\u001b[1;33m\u001b[0m\u001b[0m\n\u001b[0m\u001b[0;32m      2\u001b[0m \u001b[0mprint\u001b[0m\u001b[1;33m(\u001b[0m\u001b[1;34m\"after that 1/0 line\"\u001b[0m\u001b[1;33m)\u001b[0m\u001b[1;33m\u001b[0m\u001b[1;33m\u001b[0m\u001b[0m\n",
      "\u001b[1;31mZeroDivisionError\u001b[0m: division by zero"
     ]
    }
   ],
   "source": [
    "1/0\n",
    "print(\"after that 1/0 line\")"
   ]
  },
  {
   "cell_type": "code",
   "execution_count": 47,
   "metadata": {},
   "outputs": [
    {
     "name": "stdout",
     "output_type": "stream",
     "text": [
      "Zero division error occured!!, I am really sad to see this!!\n",
      "after that 1/0 line\n"
     ]
    }
   ],
   "source": [
    "try:\n",
    "    print(1/0)\n",
    "except:\n",
    "    print(\"Zero division error occured!!, I am really sad to see this!!\")\n",
    "    \n",
    "print(\"after that 1/0 line\")"
   ]
  },
  {
   "cell_type": "code",
   "execution_count": 48,
   "metadata": {},
   "outputs": [
    {
     "name": "stdout",
     "output_type": "stream",
     "text": [
      "1\n",
      "2\n",
      "3\n"
     ]
    },
    {
     "ename": "StopIteration",
     "evalue": "",
     "output_type": "error",
     "traceback": [
      "\u001b[1;31m---------------------------------------------------------------------------\u001b[0m",
      "\u001b[1;31mStopIteration\u001b[0m                             Traceback (most recent call last)",
      "\u001b[1;32m<ipython-input-48-a2cd05995e10>\u001b[0m in \u001b[0;36m<module>\u001b[1;34m\u001b[0m\n\u001b[0;32m      4\u001b[0m \u001b[0mprint\u001b[0m\u001b[1;33m(\u001b[0m\u001b[0mnext\u001b[0m\u001b[1;33m(\u001b[0m\u001b[0mx\u001b[0m\u001b[1;33m)\u001b[0m\u001b[1;33m)\u001b[0m\u001b[1;33m\u001b[0m\u001b[1;33m\u001b[0m\u001b[0m\n\u001b[0;32m      5\u001b[0m \u001b[0mprint\u001b[0m\u001b[1;33m(\u001b[0m\u001b[0mnext\u001b[0m\u001b[1;33m(\u001b[0m\u001b[0mx\u001b[0m\u001b[1;33m)\u001b[0m\u001b[1;33m)\u001b[0m\u001b[1;33m\u001b[0m\u001b[1;33m\u001b[0m\u001b[0m\n\u001b[1;32m----> 6\u001b[1;33m \u001b[0mprint\u001b[0m\u001b[1;33m(\u001b[0m\u001b[0mnext\u001b[0m\u001b[1;33m(\u001b[0m\u001b[0mx\u001b[0m\u001b[1;33m)\u001b[0m\u001b[1;33m)\u001b[0m\u001b[1;33m\u001b[0m\u001b[1;33m\u001b[0m\u001b[0m\n\u001b[0m",
      "\u001b[1;31mStopIteration\u001b[0m: "
     ]
    }
   ],
   "source": [
    "x = iter([1,2,3])\n",
    "\n",
    "print(next(x))\n",
    "print(next(x))\n",
    "print(next(x))\n",
    "print(next(x))"
   ]
  },
  {
   "cell_type": "code",
   "execution_count": 49,
   "metadata": {},
   "outputs": [
    {
     "ename": "NameError",
     "evalue": "name 'hat' is not defined",
     "output_type": "error",
     "traceback": [
      "\u001b[1;31m---------------------------------------------------------------------------\u001b[0m",
      "\u001b[1;31mNameError\u001b[0m                                 Traceback (most recent call last)",
      "\u001b[1;32m<ipython-input-49-6ecdffcab8b9>\u001b[0m in \u001b[0;36m<module>\u001b[1;34m\u001b[0m\n\u001b[1;32m----> 1\u001b[1;33m \u001b[0mhat\u001b[0m\u001b[1;33m\u001b[0m\u001b[1;33m\u001b[0m\u001b[0m\n\u001b[0m",
      "\u001b[1;31mNameError\u001b[0m: name 'hat' is not defined"
     ]
    }
   ],
   "source": [
    "hat"
   ]
  },
  {
   "cell_type": "code",
   "execution_count": 52,
   "metadata": {},
   "outputs": [
    {
     "name": "stdout",
     "output_type": "stream",
     "text": [
      "What is this name? I never saw it!\n",
      "after that 1/0 line\n"
     ]
    }
   ],
   "source": [
    "try:\n",
    "    print(hat)\n",
    "except ZeroDivisionError:\n",
    "    print(\"Zero division error occured!!, I am really sad to see this!!\")\n",
    "except NameError:\n",
    "    print(\"What is this name? I never saw it!\")\n",
    "except StopIteration:\n",
    "    print(\"There are no more items in the sequence\")\n",
    "    \n",
    "print(\"after that 1/0 line\")"
   ]
  },
  {
   "cell_type": "code",
   "execution_count": 53,
   "metadata": {},
   "outputs": [
    {
     "name": "stdout",
     "output_type": "stream",
     "text": [
      "1\n",
      "2\n",
      "3\n",
      "There are no more items in the sequence\n",
      "after that 1/0 line\n"
     ]
    }
   ],
   "source": [
    "try:\n",
    "    x = iter([1,2,3])\n",
    "    print(next(x))\n",
    "    print(next(x))\n",
    "    print(next(x))\n",
    "    print(next(x))\n",
    "except ZeroDivisionError:\n",
    "    print(\"Zero division error occured!!, I am really sad to see this!!\")\n",
    "except NameError:\n",
    "    print(\"What is this name? I never saw it!\")\n",
    "except StopIteration:\n",
    "    print(\"There are no more items in the sequence\")\n",
    "    \n",
    "print(\"after that 1/0 line\")"
   ]
  },
  {
   "cell_type": "code",
   "execution_count": 59,
   "metadata": {},
   "outputs": [
    {
     "name": "stdout",
     "output_type": "stream",
     "text": [
      "1\n",
      "2\n",
      "3\n",
      "No error Occured!! Wohoo!!\n",
      "after that 1/0 line\n"
     ]
    }
   ],
   "source": [
    "try:\n",
    "    x = iter([1,2,3])\n",
    "    print(next(x))\n",
    "    print(next(x))\n",
    "    print(next(x))\n",
    "except ZeroDivisionError:\n",
    "    print(\"Zero division error occured!!, I am really sad to see this!!\")\n",
    "except NameError:\n",
    "    print(\"What is this name? I never saw it!\")\n",
    "except StopIteration:\n",
    "    print(\"There are no more items in the sequence\")\n",
    "else:\n",
    "    print(\"No error Occured!! Wohoo!!\")\n",
    "    \n",
    "print(\"after that 1/0 line\")"
   ]
  },
  {
   "cell_type": "code",
   "execution_count": 60,
   "metadata": {},
   "outputs": [
    {
     "name": "stdout",
     "output_type": "stream",
     "text": [
      "1\n",
      "2\n",
      "3\n",
      "There are no more items in the sequence\n",
      "after that 1/0 line\n"
     ]
    }
   ],
   "source": [
    "try:\n",
    "    x = iter([1,2,3])\n",
    "    print(next(x))\n",
    "    print(next(x))\n",
    "    print(next(x))\n",
    "    print(next(x))\n",
    "    print(\"Are we here??\")\n",
    "    print(hat)\n",
    "except ZeroDivisionError:\n",
    "    print(\"Zero division error occured!!, I am really sad to see this!!\")\n",
    "except NameError:\n",
    "    print(\"What is this name? I never saw it!\")\n",
    "except StopIteration:\n",
    "    print(\"There are no more items in the sequence\")\n",
    "else:\n",
    "    print(\"No error Occured!! Wohoo!!\")\n",
    "    \n",
    "print(\"after that 1/0 line\")"
   ]
  },
  {
   "cell_type": "code",
   "execution_count": null,
   "metadata": {},
   "outputs": [],
   "source": [
    "## finally block"
   ]
  },
  {
   "cell_type": "code",
   "execution_count": 62,
   "metadata": {},
   "outputs": [
    {
     "name": "stdout",
     "output_type": "stream",
     "text": [
      "1\n",
      "2\n",
      "3\n",
      "There are no more items in the sequence\n",
      "after that 1/0 line\n"
     ]
    }
   ],
   "source": [
    "try:\n",
    "    x = iter([1,2,3])\n",
    "    print(next(x))\n",
    "    print(next(x))\n",
    "    print(next(x))\n",
    "    print(next(x))\n",
    "    print(\"Are we here??\")\n",
    "    print(hat)\n",
    "except ZeroDivisionError:\n",
    "    print(\"Zero division error occured!!, I am really sad to see this!!\")\n",
    "except NameError:\n",
    "    print(\"What is this name? I never saw it!\")\n",
    "except StopIteration:\n",
    "    print(\"There are no more items in the sequence\")\n",
    "else:\n",
    "    print(\"No error Occured!! Wohoo!!\")\n",
    "    \n",
    "print(\"after that 1/0 line\")"
   ]
  },
  {
   "cell_type": "code",
   "execution_count": 64,
   "metadata": {},
   "outputs": [
    {
     "name": "stdout",
     "output_type": "stream",
     "text": [
      "1\n",
      "2\n",
      "3\n",
      "No error Occured!! Wohoo!!\n",
      "we are at finally block!!\n",
      "after that 1/0 line\n"
     ]
    }
   ],
   "source": [
    "try:\n",
    "    x = iter([1,2,3])\n",
    "    print(next(x))\n",
    "    print(next(x))\n",
    "    print(next(x))\n",
    "except ZeroDivisionError:\n",
    "    print(\"Zero division error occured!!, I am really sad to see this!!\")\n",
    "except NameError:\n",
    "    print(\"What is this name? I never saw it!\")\n",
    "except StopIteration:\n",
    "    print(\"There are no more items in the sequence\")\n",
    "else:\n",
    "    print(\"No error Occured!! Wohoo!!\")\n",
    "finally:\n",
    "    print(\"we are at finally block!!\")\n",
    "    \n",
    "print(\"after that 1/0 line\")"
   ]
  },
  {
   "cell_type": "code",
   "execution_count": 65,
   "metadata": {},
   "outputs": [],
   "source": [
    "# f = open(\"finally_test.txt\",\"w+\") # just to create that file once."
   ]
  },
  {
   "cell_type": "code",
   "execution_count": 68,
   "metadata": {},
   "outputs": [
    {
     "name": "stdout",
     "output_type": "stream",
     "text": [
      "Something gone wrong while t\n",
      "file closed success!!\n"
     ]
    }
   ],
   "source": [
    "f = open(\"finally_test.txt\",\"r\")\n",
    "\n",
    "try:\n",
    "    f.write(\"Hi can i write inside you!!\")\n",
    "    print(\"does this line print??\")\n",
    "except:\n",
    "    print(\"Something gone wrong while t\")\n",
    "finally:\n",
    "    f.close()\n",
    "    print(\"file closed success!!\")"
   ]
  },
  {
   "cell_type": "code",
   "execution_count": 73,
   "metadata": {},
   "outputs": [
    {
     "name": "stdout",
     "output_type": "stream",
     "text": [
      "python\n",
      "pandas\n"
     ]
    },
    {
     "ename": "Exception",
     "evalue": "how can you use something that does not start with p??",
     "output_type": "error",
     "traceback": [
      "\u001b[1;31m---------------------------------------------------------------------------\u001b[0m",
      "\u001b[1;31mException\u001b[0m                                 Traceback (most recent call last)",
      "\u001b[1;32m<ipython-input-73-e0613ef6dc15>\u001b[0m in \u001b[0;36m<module>\u001b[1;34m\u001b[0m\n\u001b[0;32m      3\u001b[0m \u001b[1;32mfor\u001b[0m \u001b[0mi\u001b[0m \u001b[1;32min\u001b[0m \u001b[0mx\u001b[0m\u001b[1;33m:\u001b[0m\u001b[1;33m\u001b[0m\u001b[1;33m\u001b[0m\u001b[0m\n\u001b[0;32m      4\u001b[0m     \u001b[1;32mif\u001b[0m \u001b[0mi\u001b[0m\u001b[1;33m[\u001b[0m\u001b[1;36m0\u001b[0m\u001b[1;33m]\u001b[0m \u001b[1;33m!=\u001b[0m \u001b[1;34m\"p\"\u001b[0m\u001b[1;33m:\u001b[0m\u001b[1;33m\u001b[0m\u001b[1;33m\u001b[0m\u001b[0m\n\u001b[1;32m----> 5\u001b[1;33m         \u001b[1;32mraise\u001b[0m \u001b[0mException\u001b[0m\u001b[1;33m(\u001b[0m\u001b[1;34m\"how can you use something that does not start with p??\"\u001b[0m\u001b[1;33m)\u001b[0m\u001b[1;33m\u001b[0m\u001b[1;33m\u001b[0m\u001b[0m\n\u001b[0m\u001b[0;32m      6\u001b[0m     \u001b[0mprint\u001b[0m\u001b[1;33m(\u001b[0m\u001b[0mi\u001b[0m\u001b[1;33m)\u001b[0m\u001b[1;33m\u001b[0m\u001b[1;33m\u001b[0m\u001b[0m\n",
      "\u001b[1;31mException\u001b[0m: how can you use something that does not start with p??"
     ]
    }
   ],
   "source": [
    "x = [\"python\",\"pandas\",\"numpy\"]\n",
    "\n",
    "for i in x:\n",
    "    if i[0] != \"p\":\n",
    "        raise Exception(\"how can you use something that does not start with p??\")\n",
    "    print(i)"
   ]
  },
  {
   "cell_type": "code",
   "execution_count": 74,
   "metadata": {},
   "outputs": [],
   "source": [
    "## convert a for loop on iterables** into a while loop(how internally happens)"
   ]
  },
  {
   "cell_type": "code",
   "execution_count": 75,
   "metadata": {},
   "outputs": [
    {
     "name": "stdout",
     "output_type": "stream",
     "text": [
      "1\n",
      "2\n",
      "3\n",
      "4\n"
     ]
    }
   ],
   "source": [
    "l = [1,2,3,4]\n",
    "for i in l:\n",
    "    print(i)"
   ]
  },
  {
   "cell_type": "code",
   "execution_count": 78,
   "metadata": {},
   "outputs": [
    {
     "name": "stdout",
     "output_type": "stream",
     "text": [
      "1\n",
      "2\n",
      "3\n",
      "4\n"
     ]
    }
   ],
   "source": [
    "iter_obj = iter(l)\n",
    "\n",
    "while True:\n",
    "    try:\n",
    "        print(next(iter_obj))\n",
    "    except StopIteration:\n",
    "        break"
   ]
  },
  {
   "cell_type": "code",
   "execution_count": null,
   "metadata": {},
   "outputs": [],
   "source": []
  }
 ],
 "metadata": {
  "kernelspec": {
   "display_name": "Python 3",
   "language": "python",
   "name": "python3"
  },
  "language_info": {
   "codemirror_mode": {
    "name": "ipython",
    "version": 3
   },
   "file_extension": ".py",
   "mimetype": "text/x-python",
   "name": "python",
   "nbconvert_exporter": "python",
   "pygments_lexer": "ipython3",
   "version": "3.8.3"
  }
 },
 "nbformat": 4,
 "nbformat_minor": 4
}
