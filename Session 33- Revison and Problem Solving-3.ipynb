{
 "cells": [
  {
   "cell_type": "code",
   "execution_count": null,
   "metadata": {},
   "outputs": [],
   "source": [
    "# Assignment -3 is live now:\n",
    "# Map,filter,generators.list comprehension"
   ]
  },
  {
   "cell_type": "code",
   "execution_count": null,
   "metadata": {},
   "outputs": [],
   "source": [
    "# Revision of Map,filter and Generator, List comprehension"
   ]
  },
  {
   "cell_type": "code",
   "execution_count": 1,
   "metadata": {},
   "outputs": [
    {
     "name": "stdout",
     "output_type": "stream",
     "text": [
      "['My', 'name', 'is', 'Aditya', 'Dhillon']\n"
     ]
    }
   ],
   "source": [
    "# 34 45 56 67\n",
    "\n",
    "# [34,45,56,67]\n",
    "# ?\n",
    "\n",
    "string1 = \"My name is Aditya Dhillon\"\n",
    "print(string1.split())"
   ]
  },
  {
   "cell_type": "code",
   "execution_count": 2,
   "metadata": {},
   "outputs": [
    {
     "name": "stdout",
     "output_type": "stream",
     "text": [
      "34 45 56 67\n"
     ]
    }
   ],
   "source": [
    "input_we_got = input()"
   ]
  },
  {
   "cell_type": "code",
   "execution_count": 3,
   "metadata": {},
   "outputs": [
    {
     "name": "stdout",
     "output_type": "stream",
     "text": [
      "<class 'str'> 34 45 56 67\n"
     ]
    }
   ],
   "source": [
    "print(type(input_we_got),input_we_got)"
   ]
  },
  {
   "cell_type": "code",
   "execution_count": 5,
   "metadata": {},
   "outputs": [],
   "source": [
    "list1 = list(map(int,input_we_got.split()))"
   ]
  },
  {
   "cell_type": "code",
   "execution_count": 7,
   "metadata": {},
   "outputs": [
    {
     "data": {
      "text/plain": [
       "int"
      ]
     },
     "execution_count": 7,
     "metadata": {},
     "output_type": "execute_result"
    }
   ],
   "source": [
    "type(list1[0])"
   ]
  },
  {
   "cell_type": "code",
   "execution_count": null,
   "metadata": {},
   "outputs": [],
   "source": [
    "Q1. Use Map to convert each number to it's square.\n",
    "\n",
    "Instead of normal fun like square use lambda fun."
   ]
  },
  {
   "cell_type": "code",
   "execution_count": 10,
   "metadata": {},
   "outputs": [
    {
     "name": "stdout",
     "output_type": "stream",
     "text": [
      "[1, 4, 9]\n"
     ]
    }
   ],
   "source": [
    "def square(n):\n",
    "    return n**2\n",
    "    \n",
    "a_list = list(map(square,[1,2,3]))\n",
    "print(a_list)"
   ]
  },
  {
   "cell_type": "code",
   "execution_count": 11,
   "metadata": {},
   "outputs": [
    {
     "name": "stdout",
     "output_type": "stream",
     "text": [
      "[1, 4, 9]\n"
     ]
    }
   ],
   "source": [
    "a_list = list(map(lambda n:n**2,[1,2,3]))\n",
    "print(a_list)"
   ]
  },
  {
   "cell_type": "code",
   "execution_count": null,
   "metadata": {},
   "outputs": [],
   "source": [
    "Q2.Create a Temprature class. Make two methods :\n",
    "1. convertFahrenheit - It will take celsius and will print it into Fahrenheit.\n",
    "2. convertCelsius - It will take Fahrenheit and will convert it into Celsius."
   ]
  },
  {
   "cell_type": "code",
   "execution_count": null,
   "metadata": {},
   "outputs": [],
   "source": [
    "file_monster question??\n",
    "Q3. Create a class file_monster\n",
    "# when you create a new object of this class\n",
    "# obj = file_monster(name) => create an empty name.txt file.\n",
    "# obj.write(n):write natural numbers till n each in new line. \n",
    "# obj.read(n): read first n lines\n",
    "# obj.find_even(): should print all the even numbers in the file"
   ]
  },
  {
   "cell_type": "code",
   "execution_count": 11,
   "metadata": {},
   "outputs": [
    {
     "name": "stdout",
     "output_type": "stream",
     "text": [
      "reading started\n",
      "1\n",
      "2\n",
      "3\n",
      "reading is over!\n",
      "\n",
      "even numbers are\n",
      "2\n",
      "4\n",
      "6\n",
      "8\n",
      "10\n",
      "12\n",
      "14\n",
      "16\n",
      "18\n",
      "20\n",
      "even numbers are over\n"
     ]
    }
   ],
   "source": [
    "# instance/object variables? the very first necessary? fp (we do not need fp as an object var)\n",
    "\n",
    "class file_monster:\n",
    "    def __init__(self,name):\n",
    "        self.name = name\n",
    "        with open(name+\".txt\",\"w+\") as fp:\n",
    "            pass\n",
    "\n",
    "    def write(self,n):\n",
    "        self.n = n\n",
    "        with open(self.name+\".txt\",\"w\") as fp:\n",
    "            for i in range(1,n+1):\n",
    "                fp.write(str(i)+\"\\n\")\n",
    "        \n",
    "    def read(self,n,full=False):\n",
    "        with open(self.name+\".txt\",\"r\") as fp:\n",
    "            array_of_lines = fp.readlines()\n",
    "            if full==False:\n",
    "                for line in array_of_lines:\n",
    "                    line = int(line)\n",
    "                    print(line)\n",
    "                    n-=1\n",
    "                    if n==0:\n",
    "                        break\n",
    "            if full==True:\n",
    "                return array_of_lines\n",
    "            \n",
    "        \n",
    "    def find_even(self):\n",
    "        array_of_lines = self.read(self.n,True)\n",
    "        print(array_of_lines) # ['1\\n','2\\n','3\\n'.....]\n",
    "        for line in array_of_lines:\n",
    "#             line = '1\\n'\n",
    "            number = int(line)\n",
    "#             number = 2\n",
    "            if number%2==0:\n",
    "                print(number)\n",
    "        \n",
    "obj = file_monster(\"my_natural_number_file\")\n",
    "\n",
    "obj.write(10)\n",
    "obj.write(10)\n",
    "obj.write(20)\n",
    "\n",
    "print(\"reading started\")\n",
    "obj.read(3)\n",
    "print(\"reading is over!\")\n",
    "\n",
    "print(\"\\neven numbers are\")\n",
    "obj.find_even()\n",
    "print(\"even numbers are over\")"
   ]
  },
  {
   "cell_type": "code",
   "execution_count": null,
   "metadata": {},
   "outputs": [],
   "source": [
    "class is a blueprint: only class variables\n",
    "obj1\n",
    "obj2\n",
    "they do not know about each other"
   ]
  },
  {
   "cell_type": "code",
   "execution_count": null,
   "metadata": {},
   "outputs": [],
   "source": [
    "Q2.Create a Student class and initialize it with name and roll number. Make methods to :\n",
    "1. Display - It should display all informations of the student.\n",
    "2. setAge - It should assign age to student\n",
    "3. setMarks - It should assign marks to the student.\n",
    "\n",
    "# regex,filter,generators,map,list comprehensions\n",
    "\n",
    "#homework"
   ]
  },
  {
   "cell_type": "code",
   "execution_count": null,
   "metadata": {},
   "outputs": [],
   "source": [
    "# list comprehensions\n",
    "\n",
    "Q3. list1 = [1,2,3,4,5,6,7,6,5,7] # example list\n",
    "\n",
    "Write a list comprehension to only have odd numbers from this list."
   ]
  }
 ],
 "metadata": {
  "kernelspec": {
   "display_name": "Python 3",
   "language": "python",
   "name": "python3"
  },
  "language_info": {
   "codemirror_mode": {
    "name": "ipython",
    "version": 3
   },
   "file_extension": ".py",
   "mimetype": "text/x-python",
   "name": "python",
   "nbconvert_exporter": "python",
   "pygments_lexer": "ipython3",
   "version": "3.8.3"
  }
 },
 "nbformat": 4,
 "nbformat_minor": 4
}
