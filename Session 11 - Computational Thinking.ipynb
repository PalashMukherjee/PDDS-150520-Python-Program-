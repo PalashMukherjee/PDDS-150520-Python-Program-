{
 "cells": [
  {
   "cell_type": "markdown",
   "metadata": {},
   "source": [
    "# Computational Thinking:\n",
    "##    1)Problem Identification\n",
    "##   2)Break in subproblems\n",
    "##    3)Pattern Recognition\n",
    "##    4)Abstraction\n",
    "##    5)Algorithm\n",
    "\n",
    "### Dating Example to break a problem into sub-problem and see how computational thinking works!!, Cool!! that you know how to go dating!!"
   ]
  },
  {
   "cell_type": "markdown",
   "metadata": {},
   "source": [
    "## Computational Thinking in terms of Python\n",
    "\n",
    "    It will be knowing the existing functionality of what\n",
    "    python can do, and than using it as a tool while trying to break the\n",
    "    problem and aggregate it's sub solutions\n",
    "    \n",
    "    EXISTING FUNCTIONALITY: datatypes,builtin functions,limitations,etc"
   ]
  },
  {
   "cell_type": "markdown",
   "metadata": {},
   "source": [
    "## Q1)Given a string. The task is to print all words with even length in the given string.\n",
    "given_string = \"Sarcasm is good\"\n",
    "\n",
    "## Intuition: Can we use len function for each  word?\n",
    "\n",
    "### Hint: Remember split?"
   ]
  },
  {
   "cell_type": "code",
   "execution_count": 3,
   "metadata": {},
   "outputs": [
    {
     "name": "stdout",
     "output_type": "stream",
     "text": [
      "['Sarcasm', 'is', 'good']\n"
     ]
    }
   ],
   "source": [
    "given_string = \"Sarcasm is good\"\n",
    "\n",
    "print(given_string.split())"
   ]
  },
  {
   "cell_type": "code",
   "execution_count": 5,
   "metadata": {},
   "outputs": [],
   "source": [
    "# s=a.split(\"sarcasm is good\")"
   ]
  },
  {
   "cell_type": "code",
   "execution_count": 6,
   "metadata": {},
   "outputs": [
    {
     "name": "stdout",
     "output_type": "stream",
     "text": [
      "is\n",
      "good\n"
     ]
    }
   ],
   "source": [
    "given_string = \"Sarcasm is good\"\n",
    "\n",
    "\n",
    "list_of_words = given_string.split(\" \")\n",
    "\n",
    "for word in list_of_words:\n",
    "    if len(word)%2==0:\n",
    "        print(word)"
   ]
  },
  {
   "cell_type": "markdown",
   "metadata": {},
   "source": [
    "## Q2)Given a pair of non empty strings. Count the number of matching characters in those strings (consider the single count for the character which have duplicates in the strings).\n",
    "\n",
    "    string1 = \"apple\"\n",
    "    string2 = \"allofpython\"\n",
    "\n",
    "### Intuition and Pseudocode: \n",
    "                1.)how do i remove duplicates ?\n",
    "                2.)duplicates???? oh we have set that does not contain duplicates?\n",
    "                3.)can i convert a string to a set?\n",
    "                4.)Now without duplicates I just have to find common elements between sets?\n",
    "                5.) Intersection??"
   ]
  },
  {
   "cell_type": "code",
   "execution_count": 9,
   "metadata": {},
   "outputs": [
    {
     "name": "stdout",
     "output_type": "stream",
     "text": [
      "{'a', 'p', 'l'}\n"
     ]
    }
   ],
   "source": [
    "string1 = \"apple\"\n",
    "\n",
    "s1 = set(string1)\n",
    "\n",
    "string2 = \"allofpython\"\n",
    "\n",
    "s2 = set(string2)\n",
    "\n",
    "print(s1.intersection(s2))"
   ]
  },
  {
   "cell_type": "markdown",
   "metadata": {},
   "source": [
    "## Q3)Check which of the following string contains all the 26 Alphabets\n",
    "##    a)\"the quick brown fox jumps over a lazy dog\"\n",
    "##    b)\"the quick red fox jumps over a lazy dog\"\n",
    "\n",
    "### Intuition:Can we use ASCII values to store in a list the alphabet number present in the string.\n",
    "\n",
    "### Pseudocode:\n",
    "    1)make a list with 0's of size 26\n",
    "    2)loop through the string and calculate ascii value.\n",
    "    2.1) subtract the lowest ascii value to get the alphabet position (Remember 0 indexed)\n",
    "    2.2) replace the 0 with 1 in the list for that alphabet\n",
    "    3) sum the values in the list, it should be 26."
   ]
  },
  {
   "cell_type": "code",
   "execution_count": 10,
   "metadata": {},
   "outputs": [],
   "source": [
    "string1 = \"the quick brown fox jumps over a lazy dog\"\n",
    "string2  = \"the quick red fox jumps over a lazy dog\"\n",
    "\n",
    "# step1: Teacher-student example of roll calling\n",
    "# step2: substituion teacher example of roll writing"
   ]
  },
  {
   "cell_type": "code",
   "execution_count": 13,
   "metadata": {},
   "outputs": [
    {
     "name": "stdout",
     "output_type": "stream",
     "text": [
      "0 0 0 0\n",
      "a is present\n",
      "b is present\n",
      "c is present\n",
      "1 1 1 0\n"
     ]
    }
   ],
   "source": [
    "# step 3 solve small problem\n",
    "\n",
    "class1 = \"abc\"\n",
    "\n",
    "A = 0\n",
    "B = 0\n",
    "C = 0\n",
    "D = 0\n",
    "\n",
    "print(A,B,C,D)\n",
    "\n",
    "for student in class1:\n",
    "    print(student,\"is present\")\n",
    "    if student==\"a\":\n",
    "        A=1\n",
    "    elif student==\"b\":\n",
    "        B=1\n",
    "    elif student==\"c\":\n",
    "        C=1\n",
    "    elif student==\"d\":\n",
    "        D=1\n",
    "        \n",
    "print(A,B,C,D)"
   ]
  },
  {
   "cell_type": "code",
   "execution_count": 14,
   "metadata": {},
   "outputs": [
    {
     "name": "stdout",
     "output_type": "stream",
     "text": [
      "[0, 0, 0, 0]\n",
      "a is present\n",
      "b is present\n",
      "c is present\n",
      "[1, 1, 1, 0]\n"
     ]
    }
   ],
   "source": [
    "# step 4 pattern recognizing\n",
    "\n",
    "class1 = \"abc\"\n",
    "\n",
    "# \"a\" = 97-97\n",
    "# \"b\" = 98-97\n",
    "# \"c\" = 99-97\n",
    "\n",
    "attendance = [0,0,0,0]  # arranged roll no wise\n",
    "\n",
    "print(attendance)\n",
    "\n",
    "for student in class1:\n",
    "    print(student,\"is present\")\n",
    "    if student==\"a\":\n",
    "        attendance[ord(student)-97] = 1\n",
    "    elif student==\"b\":\n",
    "        attendance[ord(student)-97] = 1\n",
    "    elif student==\"c\":\n",
    "        attendance[ord(student)-97] = 1\n",
    "    elif student==\"d\":\n",
    "        attendance[ord(student)-97] = 1\n",
    "\n",
    "print(attendance)"
   ]
  },
  {
   "cell_type": "code",
   "execution_count": 19,
   "metadata": {},
   "outputs": [
    {
     "name": "stdout",
     "output_type": "stream",
     "text": [
      "[0, 0, 0, 0]\n",
      "a is present\n",
      "b is present\n",
      "c is present\n",
      "[1, 1, 1, 0]\n",
      "3\n"
     ]
    }
   ],
   "source": [
    "# step 5 pattern recognition 2 + abstraction\n",
    "\n",
    "class1 = \"abc\"\n",
    "\n",
    "\n",
    "attendance = [0,0,0,0]  # arranged roll no wise\n",
    "\n",
    "print(attendance)\n",
    "\n",
    "for student in class1:\n",
    "    print(student,\"is present\")\n",
    "    attendance[ord(student)-97] = 1\n",
    "\n",
    "print(attendance)\n",
    "print(sum(attendance))"
   ]
  },
  {
   "cell_type": "code",
   "execution_count": 28,
   "metadata": {},
   "outputs": [
    {
     "name": "stdout",
     "output_type": "stream",
     "text": [
      "[0, 0, 0, 0, 0, 0, 0, 0, 0, 0, 0, 0, 0, 0, 0, 0, 0, 0, 0, 0, 0, 0, 0, 0, 0, 0]\n",
      "[1, 0, 1, 1, 1, 1, 1, 1, 1, 1, 1, 1, 1, 0, 1, 1, 1, 1, 1, 1, 1, 1, 0, 1, 1, 1]\n",
      "23\n",
      "NO it does not!\n"
     ]
    }
   ],
   "source": [
    "### final solution ###\n",
    "\n",
    "# step 6 Algorithm for the real problem: (Summarizing the subproblem)\n",
    "\n",
    "string1 = \"the quick brown fox jumps over a lazy dog\"\n",
    "string2  = \"the quick red fox jumps over a lazy dog\"\n",
    "\n",
    "attendance = [0]*26  #a to z\n",
    "\n",
    "#What if somebody comes out from the other class?  # space?\n",
    "\n",
    "print(attendance)\n",
    "\n",
    "for student in string2:\n",
    "#     print(student,\"is present\")\n",
    "    student_index = ord(student) - 97\n",
    "    if student_index>=0 and student_index<=26:\n",
    "        attendance[ord(student)-97] = 1\n",
    "print(attendance)\n",
    "\n",
    "print(sum(attendance))\n",
    "if sum(attendance)==26:\n",
    "    print(\"yes it contains all the alphaberts\")\n",
    "else:\n",
    "    print(\"NO it does not!\")\n"
   ]
  },
  {
   "cell_type": "code",
   "execution_count": 21,
   "metadata": {},
   "outputs": [
    {
     "data": {
      "text/plain": [
       "32"
      ]
     },
     "execution_count": 21,
     "metadata": {},
     "output_type": "execute_result"
    }
   ],
   "source": [
    "ord(\" \") # 32-97"
   ]
  },
  {
   "cell_type": "code",
   "execution_count": null,
   "metadata": {},
   "outputs": [],
   "source": [
    "a - z  [00,,,,000]\n",
    "ord(\"a\")-->97 0\n",
    "ord(\"b\")-->98 = 1\n"
   ]
  },
  {
   "cell_type": "code",
   "execution_count": 22,
   "metadata": {},
   "outputs": [
    {
     "data": {
      "text/plain": [
       "-65"
      ]
     },
     "execution_count": 22,
     "metadata": {},
     "output_type": "execute_result"
    }
   ],
   "source": [
    "32-97"
   ]
  },
  {
   "cell_type": "code",
   "execution_count": null,
   "metadata": {},
   "outputs": [],
   "source": [
    "## homework: Print the alphabbets which are not present in the string2."
   ]
  },
  {
   "cell_type": "markdown",
   "metadata": {},
   "source": [
    "## Q4)For the given sentence as input, censor a specific word with asterisks ‘ * ‘.\n",
    "[Remember * will be equal to the character present in that word]\n",
    "\n",
    "### Intuition and Pseudocode:\n",
    "    1.) I already know that I can get words separated out of this string using split().\n",
    "    2.) I can compare every word with censor\n",
    "    3.) List are mutable, so i can replace it with *.\n",
    "    4.) I need a string back, what about using join??"
   ]
  },
  {
   "cell_type": "code",
   "execution_count": 29,
   "metadata": {},
   "outputs": [],
   "source": [
    "# string1 = \"hey you , are you a piece of offensive , Can you please don't try to be offensive\"\n",
    "\n",
    "# censor = \"offensive\"\n",
    "\n",
    "# string1 = \"hey you , are you a piece of ********* , Can you please don't try to be *********\""
   ]
  },
  {
   "cell_type": "code",
   "execution_count": 30,
   "metadata": {},
   "outputs": [],
   "source": [
    "## homwork question no 4)"
   ]
  },
  {
   "cell_type": "code",
   "execution_count": null,
   "metadata": {
    "collapsed": true
   },
   "outputs": [],
   "source": [
    "soln will be provided in github repo inside homework solutions folder"
   ]
  }
 ],
 "metadata": {
  "kernelspec": {
   "display_name": "Python 3",
   "language": "python",
   "name": "python3"
  },
  "language_info": {
   "codemirror_mode": {
    "name": "ipython",
    "version": 3
   },
   "file_extension": ".py",
   "mimetype": "text/x-python",
   "name": "python",
   "nbconvert_exporter": "python",
   "pygments_lexer": "ipython3",
   "version": "3.7.4"
  }
 },
 "nbformat": 4,
 "nbformat_minor": 2
}
