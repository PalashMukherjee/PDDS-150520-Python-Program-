{
 "cells": [
  {
   "cell_type": "code",
   "execution_count": null,
   "metadata": {},
   "outputs": [],
   "source": [
    "## Revision:\n",
    "Q1.\n",
    "string1 = \"mohit\"\n",
    "list1 = [1,2,3,4,5]\n",
    "\n",
    "(\"mohit\",[1,2,3,4,5])"
   ]
  },
  {
   "cell_type": "code",
   "execution_count": 2,
   "metadata": {},
   "outputs": [
    {
     "name": "stdout",
     "output_type": "stream",
     "text": [
      "<class 'tuple'>\n"
     ]
    }
   ],
   "source": [
    "t1 = ()\n",
    "\n",
    "print(type(t1))"
   ]
  },
  {
   "cell_type": "code",
   "execution_count": 3,
   "metadata": {},
   "outputs": [
    {
     "ename": "AttributeError",
     "evalue": "'tuple' object has no attribute 'append'",
     "output_type": "error",
     "traceback": [
      "\u001b[1;31m---------------------------------------------------------------------------\u001b[0m",
      "\u001b[1;31mAttributeError\u001b[0m                            Traceback (most recent call last)",
      "\u001b[1;32m<ipython-input-3-af855c638fde>\u001b[0m in \u001b[0;36m<module>\u001b[1;34m\u001b[0m\n\u001b[1;32m----> 1\u001b[1;33m \u001b[0mt1\u001b[0m\u001b[1;33m.\u001b[0m\u001b[0mappend\u001b[0m\u001b[1;33m(\u001b[0m\u001b[0mstring1\u001b[0m\u001b[1;33m)\u001b[0m\u001b[1;33m\u001b[0m\u001b[1;33m\u001b[0m\u001b[0m\n\u001b[0m",
      "\u001b[1;31mAttributeError\u001b[0m: 'tuple' object has no attribute 'append'"
     ]
    }
   ],
   "source": [
    "t1.append(string1)"
   ]
  },
  {
   "cell_type": "code",
   "execution_count": null,
   "metadata": {},
   "outputs": [],
   "source": [
    "class A:\n",
    "    def append(self,n):\n",
    "        ...blah blah"
   ]
  },
  {
   "cell_type": "code",
   "execution_count": null,
   "metadata": {},
   "outputs": [],
   "source": [
    "\"Don't you know that tuple does not support append operation?\""
   ]
  },
  {
   "cell_type": "code",
   "execution_count": 4,
   "metadata": {},
   "outputs": [
    {
     "name": "stdout",
     "output_type": "stream",
     "text": [
      "Don't you know that tuple does not support append operation?\n"
     ]
    }
   ],
   "source": [
    "try:\n",
    "    t1.append(string1)\n",
    "except AttributeError:\n",
    "    print(\"Don't you know that tuple does not support append operation?\")"
   ]
  },
  {
   "cell_type": "code",
   "execution_count": null,
   "metadata": {},
   "outputs": [],
   "source": [
    "Q0.Create a class shape,\n",
    "Create a class Sphere inheiriting from shape, take essential details and get area and volume for the same."
   ]
  },
  {
   "cell_type": "code",
   "execution_count": null,
   "metadata": {},
   "outputs": [],
   "source": [
    "7:16-7:21\n",
    "        \n",
    "area of sphere = 4*pi*(r**2)\n",
    "volume of sphere = 4/3(pi)*(r**3)"
   ]
  },
  {
   "cell_type": "code",
   "execution_count": 5,
   "metadata": {},
   "outputs": [],
   "source": [
    "class shape:\n",
    "    type1 = \"None\"\n",
    "    dimension = \"2D\"\n",
    "    def __init__(self,name,material=\"None\",colour=\"None\"):\n",
    "        self.name = name\n",
    "        self.material = material\n",
    "        self.colour = colour\n",
    "        \n",
    "    def area(self):\n",
    "        pass\n",
    "    \n",
    "    def volume(self):\n",
    "        pass\n",
    "class sphere(shape):\n",
    "    pi = 3.14\n",
    "    dimension = \"3D\"\n",
    "    type1 = \"sphere\"\n",
    "    \n",
    "    def __init__(self,radius):\n",
    "        self.radius = radius\n",
    "    \n",
    "    def area(self):\n",
    "        return 4*(sphere.pi)*(self.radius*self.radius)\n",
    "    \n",
    "    def volume(self):\n",
    "        return (4/3)*(sphere.pi)*(self.radius**3)"
   ]
  },
  {
   "cell_type": "code",
   "execution_count": 6,
   "metadata": {},
   "outputs": [],
   "source": [
    "earth = sphere(6378)"
   ]
  },
  {
   "cell_type": "code",
   "execution_count": 7,
   "metadata": {},
   "outputs": [
    {
     "data": {
      "text/plain": [
       "510926783.04"
      ]
     },
     "execution_count": 7,
     "metadata": {},
     "output_type": "execute_result"
    }
   ],
   "source": [
    "earth.area()"
   ]
  },
  {
   "cell_type": "code",
   "execution_count": 8,
   "metadata": {},
   "outputs": [
    {
     "data": {
      "text/plain": [
       "1086230340743.0399"
      ]
     },
     "execution_count": 8,
     "metadata": {},
     "output_type": "execute_result"
    }
   ],
   "source": [
    "earth.volume()"
   ]
  },
  {
   "cell_type": "code",
   "execution_count": 9,
   "metadata": {},
   "outputs": [],
   "source": [
    "# make it units ready!!"
   ]
  },
  {
   "cell_type": "code",
   "execution_count": 11,
   "metadata": {},
   "outputs": [],
   "source": [
    "Q1.Create a Temprature class. Make two methods :\n",
    "1. convertFahrenheit - It will take celsius and will print it into Fahrenheit.\n",
    "2. convertCelsius - It will take Fahrenheit and will convert it into Celsius."
   ]
  },
  {
   "cell_type": "code",
   "execution_count": 19,
   "metadata": {},
   "outputs": [],
   "source": [
    "# 7:45\n",
    "\n",
    "class Temperature:\n",
    "    def __init__(self,value,unit_C_F):\n",
    "        self.value = value\n",
    "        self.unit = unit_C_F\n",
    "\n",
    "    def convertFahrenheit(self):\n",
    "        if self.unit == \"F\":\n",
    "            print(\"How would I convert into fahrenheit if it is already in fahrenheit??\")\n",
    "        else:\n",
    "            print(((9/5)*self.value)+32)\n",
    "\n",
    "    def convertCelsius(self):\n",
    "        if self.unit == \"C\":\n",
    "            print(\"How would I convert into celsius if it is already in celsius??\")\n",
    "        else:\n",
    "            print((self.value-32)*(5/9))"
   ]
  },
  {
   "cell_type": "code",
   "execution_count": 20,
   "metadata": {},
   "outputs": [
    {
     "name": "stdout",
     "output_type": "stream",
     "text": [
      "80.6\n",
      "How would I convert into celsius if it is already in celsius??\n"
     ]
    }
   ],
   "source": [
    "room_temp = Temperature(27,\"C\")\n",
    "\n",
    "room_temp.convertFahrenheit()\n",
    "room_temp.convertCelsius()"
   ]
  },
  {
   "cell_type": "code",
   "execution_count": null,
   "metadata": {},
   "outputs": [],
   "source": [
    "Q2.Create a Student class and initialize it with name and roll number. Make methods to :\n",
    "1. Display - It should display all informations of the student.\n",
    "2. setAge - It should assign age to student\n",
    "3. setMarks - It should assign marks to the student."
   ]
  },
  {
   "cell_type": "code",
   "execution_count": 64,
   "metadata": {},
   "outputs": [],
   "source": [
    "# 8:10\n",
    "\n",
    "class Student:\n",
    "    def __init__(self,name_passed,roll_no_passed):\n",
    "        self.name = name_passed\n",
    "        self.roll_no = roll_no_passed\n",
    "        self.marks = {}\n",
    "    def display(self):\n",
    "        print(\"name is \",self.name)\n",
    "        print(\"roll_no is\",self.roll_no)\n",
    "        try:\n",
    "            print(\"age is\",self.age)\n",
    "        except AttributeError:\n",
    "            pass\n",
    "        try:\n",
    "            for subject,mark in self.marks.items():\n",
    "                print(subject,\"--->\",mark)\n",
    "        except AttributeError:\n",
    "            pass\n",
    "        finally:\n",
    "            print(\"No more info is available!\")\n",
    "    def set_Age(self,new_age):\n",
    "        self.age = new_age\n",
    "    def set_Marks(self,subject_name,marks):\n",
    "        self.marks[subject_name] = marks"
   ]
  },
  {
   "cell_type": "code",
   "execution_count": 69,
   "metadata": {},
   "outputs": [],
   "source": [
    "ishwar = Student(\"Ishwarchandra Deshmukh\",15)"
   ]
  },
  {
   "cell_type": "code",
   "execution_count": 70,
   "metadata": {},
   "outputs": [
    {
     "name": "stdout",
     "output_type": "stream",
     "text": [
      "name is  Ishwarchandra Deshmukh\n",
      "roll_no is 15\n",
      "No more info is available!\n"
     ]
    }
   ],
   "source": [
    "ishwar.display()"
   ]
  },
  {
   "cell_type": "code",
   "execution_count": 71,
   "metadata": {},
   "outputs": [],
   "source": [
    "ishwar.set_Age(100)"
   ]
  },
  {
   "cell_type": "code",
   "execution_count": 72,
   "metadata": {},
   "outputs": [
    {
     "name": "stdout",
     "output_type": "stream",
     "text": [
      "name is  Ishwarchandra Deshmukh\n",
      "roll_no is 15\n",
      "age is 100\n",
      "No more info is available!\n"
     ]
    }
   ],
   "source": [
    "ishwar.display()"
   ]
  },
  {
   "cell_type": "code",
   "execution_count": 73,
   "metadata": {},
   "outputs": [],
   "source": [
    "ishwar.set_Marks(\"python\",200)\n",
    "ishwar.set_Marks(\"physics\",100)"
   ]
  },
  {
   "cell_type": "code",
   "execution_count": 74,
   "metadata": {},
   "outputs": [
    {
     "name": "stdout",
     "output_type": "stream",
     "text": [
      "name is  Ishwarchandra Deshmukh\n",
      "roll_no is 15\n",
      "age is 100\n",
      "python ---> 200\n",
      "physics ---> 100\n",
      "No more info is available!\n"
     ]
    }
   ],
   "source": [
    "ishwar.display()"
   ]
  },
  {
   "cell_type": "code",
   "execution_count": 65,
   "metadata": {},
   "outputs": [],
   "source": [
    "Kashyap = Student(\"Navneet Kashyap\",18)"
   ]
  },
  {
   "cell_type": "code",
   "execution_count": 66,
   "metadata": {},
   "outputs": [
    {
     "name": "stdout",
     "output_type": "stream",
     "text": [
      "name is  Navneet Kashyap\n",
      "roll_no is 18\n",
      "No more info is available!\n"
     ]
    }
   ],
   "source": [
    "Kashyap.display()"
   ]
  },
  {
   "cell_type": "code",
   "execution_count": 67,
   "metadata": {},
   "outputs": [],
   "source": [
    "Kashyap.set_Marks(\"Theory_of_Everything\",500)\n",
    "Kashyap.set_Marks(\"The_M_theory\",470)"
   ]
  },
  {
   "cell_type": "code",
   "execution_count": 68,
   "metadata": {},
   "outputs": [
    {
     "name": "stdout",
     "output_type": "stream",
     "text": [
      "name is  Navneet Kashyap\n",
      "roll_no is 18\n",
      "Theory_of_Everything ---> 500\n",
      "The_M_theory ---> 470\n",
      "No more info is available!\n"
     ]
    }
   ],
   "source": [
    "Kashyap.display()"
   ]
  },
  {
   "cell_type": "code",
   "execution_count": null,
   "metadata": {},
   "outputs": [],
   "source": [
    "# Assessement -3\n",
    "#hackerank problem - 3 medium - 3"
   ]
  }
 ],
 "metadata": {
  "kernelspec": {
   "display_name": "Python 3",
   "language": "python",
   "name": "python3"
  },
  "language_info": {
   "codemirror_mode": {
    "name": "ipython",
    "version": 3
   },
   "file_extension": ".py",
   "mimetype": "text/x-python",
   "name": "python",
   "nbconvert_exporter": "python",
   "pygments_lexer": "ipython3",
   "version": "3.8.3"
  }
 },
 "nbformat": 4,
 "nbformat_minor": 4
}
