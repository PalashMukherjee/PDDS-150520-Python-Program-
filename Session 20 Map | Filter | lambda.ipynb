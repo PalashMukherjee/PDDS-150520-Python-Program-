{
 "cells": [
  {
   "cell_type": "code",
   "execution_count": 1,
   "metadata": {},
   "outputs": [],
   "source": [
    "# Homework: Make a program to find the largest number from few numbers given like \n",
    "#     [465,4,46,427,42]"
   ]
  },
  {
   "cell_type": "code",
   "execution_count": 2,
   "metadata": {},
   "outputs": [],
   "source": [
    "## Revision\n",
    "\n",
    "# REgx:sequence of chars that defines a pattern\n",
    "    \n",
    "#     Metachars:\n",
    "#         . all the possible chars except \\n \n",
    "#         [] ??character class\n",
    "#         [a-z] a to z\n",
    "#         [A-Z]\n",
    "#         [0-9]\n",
    "        \n",
    "#         [0-9]{3}??\n",
    "#         ^  ?? start  ??\n",
    "#         $ ??\n",
    "        "
   ]
  },
  {
   "cell_type": "code",
   "execution_count": 3,
   "metadata": {},
   "outputs": [
    {
     "data": {
      "text/plain": [
       "<re.Match object; span=(9, 10), match='t'>"
      ]
     },
     "execution_count": 3,
     "metadata": {},
     "output_type": "execute_result"
    }
   ],
   "source": [
    "# import re\n",
    "\n",
    "# re.search(\"[^0-9]\",\"374859734thujksdfjkl\")"
   ]
  },
  {
   "cell_type": "code",
   "execution_count": 5,
   "metadata": {},
   "outputs": [],
   "source": [
    "# Module? .py files?\n",
    "# Package? collection of .py files\n",
    "\n",
    "# Iterables??\n",
    "\n",
    "# list,string,dict,set"
   ]
  },
  {
   "cell_type": "code",
   "execution_count": 12,
   "metadata": {},
   "outputs": [
    {
     "name": "stdout",
     "output_type": "stream",
     "text": [
      "('python', 3)\n",
      "('java', 8)\n",
      "('django', 2)\n"
     ]
    }
   ],
   "source": [
    "# dict1 = {\"python\":3,\"java\":8,\"django\":2}\n",
    "\n",
    "# for i in dict1.items():\n",
    "#     print(i)"
   ]
  },
  {
   "cell_type": "code",
   "execution_count": 13,
   "metadata": {},
   "outputs": [
    {
     "name": "stdout",
     "output_type": "stream",
     "text": [
      "[50, 48, 22, 42, 35]\n"
     ]
    }
   ],
   "source": [
    "# Q Write a list comprehension which will will generate 5 random numbers from 10-50\n",
    "\n",
    "import random\n",
    "\n",
    "l2 = []\n",
    "\n",
    "for i in range(5):\n",
    "    x = random.randint(10,51)\n",
    "    l2.append(x)\n",
    "    \n",
    "print(l2)"
   ]
  },
  {
   "cell_type": "code",
   "execution_count": 14,
   "metadata": {},
   "outputs": [
    {
     "data": {
      "text/plain": [
       "[14, 37, 46, 50, 29]"
      ]
     },
     "execution_count": 14,
     "metadata": {},
     "output_type": "execute_result"
    }
   ],
   "source": [
    "[random.randint(10,51) for i in range(5)]"
   ]
  },
  {
   "cell_type": "code",
   "execution_count": 15,
   "metadata": {},
   "outputs": [],
   "source": [
    "# Note: 1)Every list comprehension can be converted to for loops? True\n",
    "#       2)Every loop can be converted to a list comprehensioon? False"
   ]
  },
  {
   "cell_type": "code",
   "execution_count": 23,
   "metadata": {},
   "outputs": [
    {
     "name": "stdout",
     "output_type": "stream",
     "text": [
      "6.230048437000278\n"
     ]
    }
   ],
   "source": [
    "# Why should we use list compre??\n",
    "import timeit\n",
    "\n",
    "t = timeit.timeit(stmt=\n",
    "\"\"\"\n",
    "import random\n",
    "l2 = []\n",
    "for i in range(500000):\n",
    "    x = random.randint(10,51)\n",
    "    l2.append(x)\"\"\"\n",
    "\n",
    ",\n",
    "number=10)\n",
    "print(t)"
   ]
  },
  {
   "cell_type": "code",
   "execution_count": 24,
   "metadata": {},
   "outputs": [
    {
     "name": "stdout",
     "output_type": "stream",
     "text": [
      "5.942087917999743\n"
     ]
    }
   ],
   "source": [
    "t = timeit.timeit(stmt=\"\"\"\n",
    "import random\n",
    "[random.randint(10,51) for i in range(500000)]\n",
    " \"\"\",number=10)\n",
    "print(t)"
   ]
  },
  {
   "cell_type": "code",
   "execution_count": 25,
   "metadata": {},
   "outputs": [],
   "source": [
    "# list comprehensions are faster"
   ]
  },
  {
   "cell_type": "code",
   "execution_count": 26,
   "metadata": {},
   "outputs": [],
   "source": [
    "# map"
   ]
  },
  {
   "cell_type": "code",
   "execution_count": 32,
   "metadata": {},
   "outputs": [
    {
     "name": "stdout",
     "output_type": "stream",
     "text": [
      "<class 'map'> <map object at 0x10b8bfad0>\n"
     ]
    },
    {
     "data": {
      "text/plain": [
       "[100, 400, 900, 1600, 2500]"
      ]
     },
     "execution_count": 32,
     "metadata": {},
     "output_type": "execute_result"
    }
   ],
   "source": [
    "# map(function,iterables)\n",
    "\n",
    "def sqr(num1):\n",
    "    return num1*num1\n",
    "\n",
    "l = [10,20,30,40,50]\n",
    "\n",
    "m = map(sqr,l)\n",
    "\n",
    "print(type(m),m)\n",
    "\n",
    "list(m)"
   ]
  },
  {
   "cell_type": "code",
   "execution_count": 33,
   "metadata": {},
   "outputs": [
    {
     "name": "stdout",
     "output_type": "stream",
     "text": [
      "[100, 400, 900, 1600, 2500]\n"
     ]
    }
   ],
   "source": [
    "l3 = []\n",
    "for i in l:\n",
    "    l3.append(sqr(i))\n",
    "    \n",
    "print(l3)"
   ]
  },
  {
   "cell_type": "code",
   "execution_count": 38,
   "metadata": {},
   "outputs": [
    {
     "name": "stdout",
     "output_type": "stream",
     "text": [
      "{\"python\":3,\"django\":2}\n",
      "<class 'dict'>\n"
     ]
    }
   ],
   "source": [
    "# Practice Assessment problem? map?? map(int,input.split())\n",
    "\n",
    "# eval\n",
    "t = eval(input())\n",
    "# evaluate it to something to which python understands\n",
    "print(type(t))\n",
    "\n",
    "# print(t[0])"
   ]
  },
  {
   "cell_type": "code",
   "execution_count": 39,
   "metadata": {},
   "outputs": [
    {
     "data": {
      "text/plain": [
       "{'python': 3, 'django': 2}"
      ]
     },
     "execution_count": 39,
     "metadata": {},
     "output_type": "execute_result"
    }
   ],
   "source": [
    "t"
   ]
  },
  {
   "cell_type": "code",
   "execution_count": 40,
   "metadata": {},
   "outputs": [
    {
     "data": {
      "text/plain": [
       "[4, 6, 6, 4]"
      ]
     },
     "execution_count": 40,
     "metadata": {},
     "output_type": "execute_result"
    }
   ],
   "source": [
    "l = [\"sjfd\",\"487935\",\"python\",\"java\"]\n",
    "\n",
    "m = map(len,l)\n",
    "\n",
    "list(m)"
   ]
  },
  {
   "cell_type": "code",
   "execution_count": 42,
   "metadata": {},
   "outputs": [
    {
     "name": "stdout",
     "output_type": "stream",
     "text": [
      "[7, 10, 14, 17]\n"
     ]
    }
   ],
   "source": [
    "def add(v1,v2,v3):\n",
    "    return v1+v2+v3\n",
    "\n",
    "l1 = [1,2,3,4]\n",
    "l2 = [5,6,7,8]\n",
    "l3 = [1,2,4,5]\n",
    "\n",
    "test_list = list(map(add,l1,l2,l3))\n",
    "\n",
    "print(test_list)"
   ]
  },
  {
   "cell_type": "code",
   "execution_count": 56,
   "metadata": {},
   "outputs": [
    {
     "name": "stdout",
     "output_type": "stream",
     "text": [
      "[1,2,3] {4,5,6}\n"
     ]
    }
   ],
   "source": [
    "x = list(map(eval,input().split(\" \")))"
   ]
  },
  {
   "cell_type": "code",
   "execution_count": 58,
   "metadata": {},
   "outputs": [
    {
     "data": {
      "text/plain": [
       "list"
      ]
     },
     "execution_count": 58,
     "metadata": {},
     "output_type": "execute_result"
    }
   ],
   "source": [
    "type(x[0])"
   ]
  },
  {
   "cell_type": "code",
   "execution_count": 45,
   "metadata": {},
   "outputs": [],
   "source": [
    "l4 = []\n",
    "for i in x:\n",
    "    l4.append(int(i))"
   ]
  },
  {
   "cell_type": "code",
   "execution_count": 46,
   "metadata": {},
   "outputs": [
    {
     "data": {
      "text/plain": [
       "[23, 34, 45]"
      ]
     },
     "execution_count": 46,
     "metadata": {},
     "output_type": "execute_result"
    }
   ],
   "source": [
    "l4"
   ]
  },
  {
   "cell_type": "code",
   "execution_count": 59,
   "metadata": {},
   "outputs": [
    {
     "data": {
      "text/plain": [
       "8"
      ]
     },
     "execution_count": 59,
     "metadata": {},
     "output_type": "execute_result"
    }
   ],
   "source": [
    "# eval(\"2**3\")"
   ]
  },
  {
   "cell_type": "code",
   "execution_count": 62,
   "metadata": {},
   "outputs": [
    {
     "name": "stdout",
     "output_type": "stream",
     "text": [
      "python 3\n",
      "['python 3', 'djnago 2', 'java 8']\n"
     ]
    }
   ],
   "source": [
    "## Q1 Use map to convert these tuples into a list like ['python 3', 'djnago 2', 'java 8']\n",
    "tuple1 = ('python', 'djnago', 'java')\n",
    "tuple2 = (' 3', ' 2', ' 8')\n",
    "\n",
    "print(\"python\"+\" 3\")\n",
    "\n",
    "def plus(v1,v2):\n",
    "    return v1+v2\n",
    "\n",
    "s1 = list(map(plus,tuple1,tuple2))\n",
    "print(s1)"
   ]
  },
  {
   "cell_type": "markdown",
   "metadata": {},
   "source": [
    "## filter"
   ]
  },
  {
   "cell_type": "code",
   "execution_count": 66,
   "metadata": {},
   "outputs": [
    {
     "name": "stdout",
     "output_type": "stream",
     "text": [
      "[10, 20, 8, 24]\n"
     ]
    }
   ],
   "source": [
    "def even(num1):\n",
    "    if num1%2==0:\n",
    "        return True  ## bool(?)=> True?  1,\"23\",\"MOhit\",234,234,435,\n",
    "    else:\n",
    "        return False  ## bool(?)=> False? [],{},0,None\n",
    "    \n",
    "l = [10,20,3,7,8,9,24]\n",
    "\n",
    "f = filter(even,l)\n",
    "\n",
    "# print(f)\n",
    "\n",
    "print(list(f))"
   ]
  },
  {
   "cell_type": "code",
   "execution_count": 67,
   "metadata": {},
   "outputs": [],
   "source": [
    "# filter(function,iterable/sequence)"
   ]
  },
  {
   "cell_type": "code",
   "execution_count": 70,
   "metadata": {},
   "outputs": [
    {
     "name": "stdout",
     "output_type": "stream",
     "text": [
      "[15, 30, 90]\n"
     ]
    }
   ],
   "source": [
    "## Q2 Write a function and use filter to filter those numbers which are divisible by 3 and 5\n",
    "\n",
    "def divisible_of_3_5(num1):\n",
    "    if num1%3==0 and num1%5==0:\n",
    "        return True\n",
    "    else:\n",
    "        return False \n",
    "    \n",
    "l = [10,20,15,30,90,3,7,8,9,24]\n",
    "\n",
    "f = filter(divisible_of_3_5,l)\n",
    "print(list(f))"
   ]
  },
  {
   "cell_type": "markdown",
   "metadata": {},
   "source": [
    "## What if function is None?"
   ]
  },
  {
   "cell_type": "code",
   "execution_count": 72,
   "metadata": {},
   "outputs": [
    {
     "name": "stdout",
     "output_type": "stream",
     "text": [
      "[1, 2, 3, 4, 5, 6, 7, 8, 9, 10, 11, 12, 13, 14, 15, 16, 17, 18, 19, 20, 21, 22, 23, 24, 25, 26, 27, 28, 29, 30, 31, 32, 33, 34, 35, 36, 37, 38, 39, 40, 41, 42, 43, 44, 45, 46, 47, 48, 49, 50, 51, 52, 53, 54, 55, 56, 57, 58, 59, 60, 61, 62, 63, 64, 65, 66, 67, 68, 69, 70, 71, 72, 73, 74, 75, 76, 77, 78, 79, 80, 81, 82, 83, 84, 85, 86, 87, 88, 89, 90, 91, 92, 93, 94, 95, 96, 97, 98, 99, 100]\n"
     ]
    }
   ],
   "source": [
    "f = filter(None,range(0,101))\n",
    "\n",
    "print(list(f))"
   ]
  },
  {
   "cell_type": "code",
   "execution_count": 73,
   "metadata": {},
   "outputs": [
    {
     "name": "stdout",
     "output_type": "stream",
     "text": [
      "['Naveen', True, 1, 'Adarsh Mallick', {'Python': 3}, [12, 34]]\n"
     ]
    }
   ],
   "source": [
    "test_list = [\"Naveen\",True,False,0,1,\"Adarsh Mallick\",None,[],{},{\"Python\":3},[12,34]]\n",
    "\n",
    "f = filter(None,test_list)\n",
    "\n",
    "print(list(f))\n",
    "\n",
    "## the function defaults to Identity Function"
   ]
  },
  {
   "cell_type": "code",
   "execution_count": 75,
   "metadata": {},
   "outputs": [
    {
     "name": "stdout",
     "output_type": "stream",
     "text": [
      "['Naveen', True, 1, 'Adarsh Mallick', {'Python': 3}, [12, 34]]\n"
     ]
    }
   ],
   "source": [
    "def identity(value):\n",
    "    return value\n",
    "\n",
    "f = filter(identity,test_list)\n",
    "print(list(f))"
   ]
  },
  {
   "cell_type": "code",
   "execution_count": 76,
   "metadata": {},
   "outputs": [],
   "source": [
    "# all()\n",
    "# any()\n",
    "# bin()"
   ]
  },
  {
   "cell_type": "code",
   "execution_count": 77,
   "metadata": {},
   "outputs": [
    {
     "data": {
      "text/plain": [
       "False"
      ]
     },
     "execution_count": 77,
     "metadata": {},
     "output_type": "execute_result"
    }
   ],
   "source": [
    "test_list = [\"Naveen\",True,False,0,1,\"Adarsh Mallick\",None,[],{},{\"Python\":3},[12,34]]\n",
    "\n",
    "all(test_list)"
   ]
  },
  {
   "cell_type": "code",
   "execution_count": 78,
   "metadata": {},
   "outputs": [
    {
     "data": {
      "text/plain": [
       "True"
      ]
     },
     "execution_count": 78,
     "metadata": {},
     "output_type": "execute_result"
    }
   ],
   "source": [
    "all(['Naveen', True, 1, 'Adarsh Mallick', {'Python': 3}, [12, 34]])"
   ]
  },
  {
   "cell_type": "code",
   "execution_count": 80,
   "metadata": {},
   "outputs": [
    {
     "name": "stdout",
     "output_type": "stream",
     "text": [
      "not all the values are True inside this iterable\n"
     ]
    }
   ],
   "source": [
    "def test_fun(iterable):\n",
    "    if all(iterable):\n",
    "        print(\"all the values inside this iterable are True\")\n",
    "    else:\n",
    "        print(\"not all the values are True inside this iterable\")\n",
    "        \n",
    "t = ['Naveen', True, 1, 'Adarsh Mallick', {'Python': 3}, [12, 34],0]\n",
    "test_fun(t)"
   ]
  },
  {
   "cell_type": "code",
   "execution_count": 83,
   "metadata": {},
   "outputs": [
    {
     "data": {
      "text/plain": [
       "False"
      ]
     },
     "execution_count": 83,
     "metadata": {},
     "output_type": "execute_result"
    }
   ],
   "source": [
    "any([False,[],{},\"\",0])"
   ]
  },
  {
   "cell_type": "code",
   "execution_count": 87,
   "metadata": {},
   "outputs": [
    {
     "name": "stdout",
     "output_type": "stream",
     "text": [
      "atleast one of  the values inside this iterable are True\n"
     ]
    }
   ],
   "source": [
    "def test_fun(iterable):\n",
    "    if any(iterable):\n",
    "        print(\"atleast one of  the values inside this iterable are True\")\n",
    "    else:\n",
    "        print(\"none of values are True inside this iterable\")\n",
    "t =[False,[],{},\"\",0,1,34,45] \n",
    "\n",
    "test_fun(t)"
   ]
  },
  {
   "cell_type": "code",
   "execution_count": 88,
   "metadata": {},
   "outputs": [
    {
     "data": {
      "text/plain": [
       "'0b101'"
      ]
     },
     "execution_count": 88,
     "metadata": {},
     "output_type": "execute_result"
    }
   ],
   "source": [
    "bin(5)"
   ]
  },
  {
   "cell_type": "code",
   "execution_count": 89,
   "metadata": {},
   "outputs": [
    {
     "data": {
      "text/plain": [
       "str"
      ]
     },
     "execution_count": 89,
     "metadata": {},
     "output_type": "execute_result"
    }
   ],
   "source": [
    "type(bin(4))"
   ]
  },
  {
   "cell_type": "code",
   "execution_count": 90,
   "metadata": {},
   "outputs": [
    {
     "data": {
      "text/plain": [
       "'101'"
      ]
     },
     "execution_count": 90,
     "metadata": {},
     "output_type": "execute_result"
    }
   ],
   "source": [
    "bin(5)[2:]"
   ]
  },
  {
   "cell_type": "code",
   "execution_count": 92,
   "metadata": {},
   "outputs": [
    {
     "name": "stdout",
     "output_type": "stream",
     "text": [
      "1 ==> 1 --> 1\n",
      "2 ==> 10 --> 1\n",
      "3 ==> 11 --> 2\n",
      "4 ==> 100 --> 1\n",
      "5 ==> 101 --> 2\n",
      "6 ==> 110 --> 2\n",
      "7 ==> 111 --> 3\n",
      "8 ==> 1000 --> 1\n",
      "9 ==> 1001 --> 2\n",
      "10 ==> 1010 --> 2\n"
     ]
    }
   ],
   "source": [
    "## Q3 Count the number of ones in binary numbers from 1 to 10.\n",
    "\n",
    "for i in range(1,11):\n",
    "    binary_of_i = bin(i)\n",
    "    print(i,\"==>\",binary_of_i[2:],\"-->\",binary_of_i.count(\"1\"))"
   ]
  },
  {
   "cell_type": "code",
   "execution_count": 93,
   "metadata": {},
   "outputs": [],
   "source": [
    "## lambda functions"
   ]
  },
  {
   "cell_type": "code",
   "execution_count": 94,
   "metadata": {},
   "outputs": [],
   "source": [
    "# small one liner function, often used without a name\n",
    "\n",
    "# synatx\n",
    "lambda arguments: expression"
   ]
  },
  {
   "cell_type": "code",
   "execution_count": 95,
   "metadata": {},
   "outputs": [
    {
     "data": {
      "text/plain": [
       "8"
      ]
     },
     "execution_count": 95,
     "metadata": {},
     "output_type": "execute_result"
    }
   ],
   "source": [
    "# with name\n",
    "\n",
    "#normal fun\n",
    "# def x(a):\n",
    "#     return a*2\n",
    "\n",
    "# converted to a lambda fun like this...\n",
    "x = lambda a:a*2\n",
    "\n",
    "x(4)"
   ]
  },
  {
   "cell_type": "code",
   "execution_count": 96,
   "metadata": {},
   "outputs": [
    {
     "data": {
      "text/plain": [
       "8"
      ]
     },
     "execution_count": 96,
     "metadata": {},
     "output_type": "execute_result"
    }
   ],
   "source": [
    "# without a name\n",
    "(lambda a:a*2)(4)"
   ]
  },
  {
   "cell_type": "code",
   "execution_count": 97,
   "metadata": {},
   "outputs": [
    {
     "name": "stdout",
     "output_type": "stream",
     "text": [
      "['PYTHON', 'JAVA', 'DJANGO']\n"
     ]
    }
   ],
   "source": [
    "# inside other functions\n",
    "\n",
    "def make_upper(test_value):\n",
    "    return test_value.upper()\n",
    "\n",
    "# lambda test_value:test_value.upper()\n",
    "x = [\"python\",\"java\",\"django\"]\n",
    "\n",
    "y = []\n",
    "for i in x:\n",
    "    y.append(make_upper(i))\n",
    "    \n",
    "print(y)"
   ]
  },
  {
   "cell_type": "code",
   "execution_count": 99,
   "metadata": {},
   "outputs": [
    {
     "data": {
      "text/plain": [
       "['PYTHON', 'JAVA', 'DJANGO']"
      ]
     },
     "execution_count": 99,
     "metadata": {},
     "output_type": "execute_result"
    }
   ],
   "source": [
    "list(map(make_upper,x))"
   ]
  },
  {
   "cell_type": "code",
   "execution_count": 101,
   "metadata": {},
   "outputs": [
    {
     "data": {
      "text/plain": [
       "['PYTHON', 'JAVA', 'DJANGO']"
      ]
     },
     "execution_count": 101,
     "metadata": {},
     "output_type": "execute_result"
    }
   ],
   "source": [
    "# one liner for the whole above\n",
    "list(map(lambda test_value:test_value.upper(),x))"
   ]
  },
  {
   "cell_type": "code",
   "execution_count": 106,
   "metadata": {},
   "outputs": [
    {
     "name": "stdout",
     "output_type": "stream",
     "text": [
      "True\n",
      "False\n",
      "True\n"
     ]
    }
   ],
   "source": [
    "x = [\"python\",\"java\",\"django\"]\n",
    "\n",
    "# def special(test_value):\n",
    "#     if \"o\" in test_value:\n",
    "#         return True\n",
    "#     else:\n",
    "#         return False\n",
    "\n",
    "def special(test_value):\n",
    "    return \"o\" in test_value\n",
    "\n",
    "# lambda test_value:\"o\" in test_value\n",
    "    \n",
    "\n",
    "for value in x:\n",
    "    print(special(value))"
   ]
  },
  {
   "cell_type": "code",
   "execution_count": 104,
   "metadata": {},
   "outputs": [
    {
     "data": {
      "text/plain": [
       "False"
      ]
     },
     "execution_count": 104,
     "metadata": {},
     "output_type": "execute_result"
    }
   ],
   "source": [
    "\"K\" in \"python\""
   ]
  },
  {
   "cell_type": "code",
   "execution_count": 107,
   "metadata": {},
   "outputs": [
    {
     "data": {
      "text/plain": [
       "['python', 'django']"
      ]
     },
     "execution_count": 107,
     "metadata": {},
     "output_type": "execute_result"
    }
   ],
   "source": [
    "list(filter(lambda test_value:\"o\" in test_value,[\"python\",\"java\",\"django\"]))"
   ]
  },
  {
   "cell_type": "code",
   "execution_count": 108,
   "metadata": {},
   "outputs": [],
   "source": [
    "## Quiz: list compreh,map,filter,lambda ?"
   ]
  },
  {
   "cell_type": "code",
   "execution_count": 109,
   "metadata": {},
   "outputs": [],
   "source": [
    "# Note: lambda fun can take any no. of arguments, but can have only one expression"
   ]
  },
  {
   "cell_type": "code",
   "execution_count": 110,
   "metadata": {},
   "outputs": [
    {
     "data": {
      "text/plain": [
       "3"
      ]
     },
     "execution_count": 110,
     "metadata": {},
     "output_type": "execute_result"
    }
   ],
   "source": [
    "def fun2(val1,val2):\n",
    "    return val1+val2\n",
    "\n",
    "x = lambda val1,val2:val1+val2\n",
    "\n",
    "x(1,2)"
   ]
  },
  {
   "cell_type": "code",
   "execution_count": 111,
   "metadata": {},
   "outputs": [
    {
     "name": "stdout",
     "output_type": "stream",
     "text": [
      "['id1', 'id10', 'id100', 'id2', 'id22', 'id30']\n"
     ]
    }
   ],
   "source": [
    "## lambda into key functions\n",
    "\n",
    "# sort,sorted,min,max?\n",
    "\n",
    "ids = [\"id1\",\"id10\",\"id2\",\"id30\",\"id22\",\"id100\"]\n",
    "\n",
    "print(sorted(ids))"
   ]
  },
  {
   "cell_type": "code",
   "execution_count": 113,
   "metadata": {},
   "outputs": [
    {
     "name": "stdout",
     "output_type": "stream",
     "text": [
      "['id1', 'id2', 'id10', 'id22', 'id30', 'id100']\n"
     ]
    }
   ],
   "source": [
    "print(sorted(ids,key=lambda x: int(x[2:])))"
   ]
  },
  {
   "cell_type": "code",
   "execution_count": 114,
   "metadata": {},
   "outputs": [],
   "source": [
    "# homework: quiz 6,7"
   ]
  },
  {
   "cell_type": "code",
   "execution_count": 115,
   "metadata": {},
   "outputs": [],
   "source": [
    "#Q4 Make use of map and lambda to get output like [111,222,333,444,555]\n",
    "\n",
    "# l1 = [1,2,3,4,5]\n",
    "# l2 = [10,20,30,40,50]\n",
    "# l3 = [100,200,300,400,500]"
   ]
  },
  {
   "cell_type": "code",
   "execution_count": 116,
   "metadata": {},
   "outputs": [],
   "source": [
    "#Q5 Sort items in a dict corresponding to values and store the tuples in lists.\n",
    "## Hint: Use .items() to get the tuples you want to use.\n",
    "\n",
    "# d = {20:50,10:40,30:30,40:20,50:10}"
   ]
  },
  {
   "cell_type": "code",
   "execution_count": null,
   "metadata": {},
   "outputs": [],
   "source": [
    "# tomorrow topics: generator,iterator,itertools"
   ]
  }
 ],
 "metadata": {
  "kernelspec": {
   "display_name": "Python 3",
   "language": "python",
   "name": "python3"
  },
  "language_info": {
   "codemirror_mode": {
    "name": "ipython",
    "version": 3
   },
   "file_extension": ".py",
   "mimetype": "text/x-python",
   "name": "python",
   "nbconvert_exporter": "python",
   "pygments_lexer": "ipython3",
   "version": "3.7.4"
  }
 },
 "nbformat": 4,
 "nbformat_minor": 2
}
