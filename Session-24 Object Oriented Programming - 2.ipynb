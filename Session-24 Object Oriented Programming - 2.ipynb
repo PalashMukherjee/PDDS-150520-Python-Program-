{
 "cells": [
  {
   "cell_type": "code",
   "execution_count": 1,
   "metadata": {},
   "outputs": [],
   "source": [
    "# Revision\n",
    "# Quiz: Iterators\n",
    "## Regex:\n",
    "\n",
    "Metachars:\n",
    "    .\n",
    "    []\n",
    "    *\n",
    "    +\n",
    "    ^\n",
    "    $\n",
    "    ?\n",
    "    {3}"
   ]
  },
  {
   "cell_type": "code",
   "execution_count": 2,
   "metadata": {},
   "outputs": [
    {
     "name": "stdout",
     "output_type": "stream",
     "text": [
      "<re.Match object; span=(1, 3), match='m4'>\n"
     ]
    }
   ],
   "source": [
    "import re\n",
    "print(re.search(\"[a-z][0-9]\",\"jm45\"))"
   ]
  },
  {
   "cell_type": "code",
   "execution_count": 3,
   "metadata": {},
   "outputs": [],
   "source": [
    "def even():\n",
    "    num=0\n",
    "    while True:\n",
    "        yield num\n",
    "        num = num + 2\n",
    "        \n",
    "iter_obj = even()"
   ]
  },
  {
   "cell_type": "code",
   "execution_count": 7,
   "metadata": {},
   "outputs": [
    {
     "data": {
      "text/plain": [
       "6"
      ]
     },
     "execution_count": 7,
     "metadata": {},
     "output_type": "execute_result"
    }
   ],
   "source": [
    "next(iter_obj)"
   ]
  },
  {
   "cell_type": "code",
   "execution_count": 12,
   "metadata": {},
   "outputs": [],
   "source": [
    "l1 = [1,2,3]\n",
    "l2 = ['m','n','o']"
   ]
  },
  {
   "cell_type": "code",
   "execution_count": 20,
   "metadata": {},
   "outputs": [],
   "source": [
    "iter_obj  =  zip(l1,l2)"
   ]
  },
  {
   "cell_type": "code",
   "execution_count": 21,
   "metadata": {},
   "outputs": [
    {
     "data": {
      "text/plain": [
       "(1, 'm')"
      ]
     },
     "execution_count": 21,
     "metadata": {},
     "output_type": "execute_result"
    }
   ],
   "source": [
    "next(iter_obj)"
   ]
  },
  {
   "cell_type": "code",
   "execution_count": 22,
   "metadata": {},
   "outputs": [
    {
     "data": {
      "text/plain": [
       "(2, 'n')"
      ]
     },
     "execution_count": 22,
     "metadata": {},
     "output_type": "execute_result"
    }
   ],
   "source": [
    "next(iter_obj)"
   ]
  },
  {
   "cell_type": "code",
   "execution_count": 23,
   "metadata": {},
   "outputs": [
    {
     "data": {
      "text/plain": [
       "(3, 'o')"
      ]
     },
     "execution_count": 23,
     "metadata": {},
     "output_type": "execute_result"
    }
   ],
   "source": [
    "next(iter_obj)"
   ]
  },
  {
   "cell_type": "code",
   "execution_count": 24,
   "metadata": {},
   "outputs": [
    {
     "ename": "StopIteration",
     "evalue": "",
     "output_type": "error",
     "traceback": [
      "\u001b[0;31m---------------------------------------------------------------------------\u001b[0m",
      "\u001b[0;31mStopIteration\u001b[0m                             Traceback (most recent call last)",
      "\u001b[0;32m<ipython-input-24-7e96fd445ff1>\u001b[0m in \u001b[0;36m<module>\u001b[0;34m\u001b[0m\n\u001b[0;32m----> 1\u001b[0;31m \u001b[0mnext\u001b[0m\u001b[0;34m(\u001b[0m\u001b[0miter_obj\u001b[0m\u001b[0;34m)\u001b[0m\u001b[0;34m\u001b[0m\u001b[0;34m\u001b[0m\u001b[0m\n\u001b[0m",
      "\u001b[0;31mStopIteration\u001b[0m: "
     ]
    }
   ],
   "source": [
    "next(iter_obj)"
   ]
  },
  {
   "cell_type": "code",
   "execution_count": 26,
   "metadata": {},
   "outputs": [],
   "source": [
    "l1 = [1,2,3]\n",
    "l2 = ['m','n','o']\n",
    "l2_iter_obj = iter(l2)\n",
    "l1_iter_obj = iter(l1)"
   ]
  },
  {
   "cell_type": "code",
   "execution_count": 27,
   "metadata": {},
   "outputs": [],
   "source": [
    "final_zip_iter_obj = zip(l2_iter_obj,l1_iter_obj)"
   ]
  },
  {
   "cell_type": "code",
   "execution_count": 28,
   "metadata": {},
   "outputs": [
    {
     "data": {
      "text/plain": [
       "('m', 1)"
      ]
     },
     "execution_count": 28,
     "metadata": {},
     "output_type": "execute_result"
    }
   ],
   "source": [
    "next(final_zip_iter_obj)"
   ]
  },
  {
   "cell_type": "code",
   "execution_count": 29,
   "metadata": {},
   "outputs": [
    {
     "data": {
      "text/plain": [
       "('n', 2)"
      ]
     },
     "execution_count": 29,
     "metadata": {},
     "output_type": "execute_result"
    }
   ],
   "source": [
    "next(final_zip_iter_obj)"
   ]
  },
  {
   "cell_type": "code",
   "execution_count": 30,
   "metadata": {},
   "outputs": [
    {
     "data": {
      "text/plain": [
       "('o', 3)"
      ]
     },
     "execution_count": 30,
     "metadata": {},
     "output_type": "execute_result"
    }
   ],
   "source": [
    "next(final_zip_iter_obj)"
   ]
  },
  {
   "cell_type": "code",
   "execution_count": 47,
   "metadata": {},
   "outputs": [],
   "source": [
    "## difference arises when we pass same iter obj twice in the zip\n",
    "l1 = [1,2,3,4,5,6]\n",
    "l1_iter_obj = iter(l1)\n",
    "final_zip_iter_obj = zip(l1_iter_obj,l1_iter_obj)"
   ]
  },
  {
   "cell_type": "code",
   "execution_count": 48,
   "metadata": {},
   "outputs": [
    {
     "data": {
      "text/plain": [
       "(1, 2)"
      ]
     },
     "execution_count": 48,
     "metadata": {},
     "output_type": "execute_result"
    }
   ],
   "source": [
    "next(final_zip_iter_obj)"
   ]
  },
  {
   "cell_type": "code",
   "execution_count": 49,
   "metadata": {},
   "outputs": [
    {
     "data": {
      "text/plain": [
       "(3, 4)"
      ]
     },
     "execution_count": 49,
     "metadata": {},
     "output_type": "execute_result"
    }
   ],
   "source": [
    "next(final_zip_iter_obj)"
   ]
  },
  {
   "cell_type": "code",
   "execution_count": 50,
   "metadata": {},
   "outputs": [
    {
     "data": {
      "text/plain": [
       "(5, 6)"
      ]
     },
     "execution_count": 50,
     "metadata": {},
     "output_type": "execute_result"
    }
   ],
   "source": [
    "next(final_zip_iter_obj)"
   ]
  },
  {
   "cell_type": "code",
   "execution_count": 51,
   "metadata": {},
   "outputs": [
    {
     "ename": "StopIteration",
     "evalue": "",
     "output_type": "error",
     "traceback": [
      "\u001b[0;31m---------------------------------------------------------------------------\u001b[0m",
      "\u001b[0;31mStopIteration\u001b[0m                             Traceback (most recent call last)",
      "\u001b[0;32m<ipython-input-51-473bbf78dc1e>\u001b[0m in \u001b[0;36m<module>\u001b[0;34m\u001b[0m\n\u001b[0;32m----> 1\u001b[0;31m \u001b[0mnext\u001b[0m\u001b[0;34m(\u001b[0m\u001b[0mfinal_zip_iter_obj\u001b[0m\u001b[0;34m)\u001b[0m\u001b[0;34m\u001b[0m\u001b[0;34m\u001b[0m\u001b[0m\n\u001b[0m",
      "\u001b[0;31mStopIteration\u001b[0m: "
     ]
    }
   ],
   "source": [
    "next(final_zip_iter_obj)"
   ]
  },
  {
   "cell_type": "code",
   "execution_count": 37,
   "metadata": {},
   "outputs": [],
   "source": [
    "l1 = [1,2,3,4,5,6]\n",
    "final_zip_iter_obj = zip(l1,l1)"
   ]
  },
  {
   "cell_type": "code",
   "execution_count": 38,
   "metadata": {},
   "outputs": [
    {
     "data": {
      "text/plain": [
       "(1, 1)"
      ]
     },
     "execution_count": 38,
     "metadata": {},
     "output_type": "execute_result"
    }
   ],
   "source": [
    "next(final_zip_iter_obj)"
   ]
  },
  {
   "cell_type": "code",
   "execution_count": 39,
   "metadata": {},
   "outputs": [
    {
     "data": {
      "text/plain": [
       "(2, 2)"
      ]
     },
     "execution_count": 39,
     "metadata": {},
     "output_type": "execute_result"
    }
   ],
   "source": [
    "next(final_zip_iter_obj)"
   ]
  },
  {
   "cell_type": "code",
   "execution_count": 42,
   "metadata": {},
   "outputs": [],
   "source": [
    "l1 = [1,2,3,4,5,6]\n",
    "l1_iter_obj_1 = iter(l1)\n",
    "l1_iter_obj_2 = iter(l1)\n",
    "final_zip_iter_obj = zip(l1_iter_obj_1,l1_iter_obj_2)"
   ]
  },
  {
   "cell_type": "code",
   "execution_count": 46,
   "metadata": {},
   "outputs": [
    {
     "data": {
      "text/plain": [
       "(4, 4)"
      ]
     },
     "execution_count": 46,
     "metadata": {},
     "output_type": "execute_result"
    }
   ],
   "source": [
    "next(final_zip_iter_obj)"
   ]
  },
  {
   "cell_type": "code",
   "execution_count": null,
   "metadata": {},
   "outputs": [],
   "source": [
    "## OBJECT ORIENTED PROGRAMMING\n",
    "\n",
    "CLASS IS LIKE A BLUEPRINT OR AN APPLICATION FORM (LIKE AN EMPTY THING)\n",
    "OBJECTS OF AN CLASS ARE LIKE ONE OF THE FILLED FORM"
   ]
  },
  {
   "cell_type": "code",
   "execution_count": 60,
   "metadata": {},
   "outputs": [],
   "source": [
    "class Person:\n",
    "    def __init__(self,name,gender):  ## THE VERY FIRST FUNCCTION WHICH RUNS IS INIT.(automally runs when object is created)\n",
    "        print(\"Family is born with baby\",gender)\n",
    "        self.NAME = name   ## SELF IS POINTING TO THE OBJECT THROUGH WHICH WE ACESSED THIS METHOD OR ATTRIBUTE\n",
    "        self.GENDER = gender  ## instance/object variables:\n",
    "        self.friends = []\n",
    "        \n",
    "    def eat(self):  ## instance/object methods/function\n",
    "        print(self.NAME,\"is eating\")\n",
    "        \n",
    "    def make_friends(self,friend):\n",
    "        self.friends.append(friend)\n",
    "        \n",
    "        "
   ]
  },
  {
   "cell_type": "code",
   "execution_count": 62,
   "metadata": {},
   "outputs": [
    {
     "name": "stdout",
     "output_type": "stream",
     "text": [
      "Family is born with baby girl\n"
     ]
    }
   ],
   "source": [
    "jhoga = Person(\"jhoga parth\",\"girl\")"
   ]
  },
  {
   "cell_type": "code",
   "execution_count": 63,
   "metadata": {},
   "outputs": [
    {
     "name": "stdout",
     "output_type": "stream",
     "text": [
      "Family is born with baby boy\n"
     ]
    }
   ],
   "source": [
    "navneet = Person(\"navneet kashyap\",\"boy\")"
   ]
  },
  {
   "cell_type": "code",
   "execution_count": 57,
   "metadata": {},
   "outputs": [],
   "source": [
    "## instance variable and instance function means."
   ]
  },
  {
   "cell_type": "code",
   "execution_count": 68,
   "metadata": {},
   "outputs": [],
   "source": [
    "jhoga.make_friends(\"aadarsh\")"
   ]
  },
  {
   "cell_type": "code",
   "execution_count": 69,
   "metadata": {},
   "outputs": [
    {
     "data": {
      "text/plain": [
       "['divya', 'albert', 'aadarsh']"
      ]
     },
     "execution_count": 69,
     "metadata": {},
     "output_type": "execute_result"
    }
   ],
   "source": [
    "jhoga.friends"
   ]
  },
  {
   "cell_type": "code",
   "execution_count": 70,
   "metadata": {},
   "outputs": [],
   "source": [
    "##CLASS VARIABLES AND CLASS METHODS\n",
    "COMMON BETWEEN ALL THE OBJECTS (ALL OBJECTS SHARE THE CLASS VARIABLES)\n",
    "CLASS METHODS ARE USED TO ACCESS CLASS VARIABLES (PLAY WITH CLASS VARIABLES)"
   ]
  },
  {
   "cell_type": "code",
   "execution_count": 71,
   "metadata": {},
   "outputs": [],
   "source": [
    "class Person:\n",
    "    SPECIES = \"HOMOSAPIENS\"\n",
    "    def __init__(self,name,gender):  ## THE VERY FIRST FUNCCTION WHICH RUNS IS INIT.(automally runs when object is created)\n",
    "        print(\"Family is born with baby\",gender)\n",
    "        self.NAME = name   ## SELF IS POINTING TO THE OBJECT THROUGH WHICH WE ACESSED THIS METHOD OR ATTRIBUTE\n",
    "        self.GENDER = gender  ## instance/object variables:\n",
    "        self.friends = []\n",
    "        \n",
    "    def eat(self):  ## instance/object methods/function\n",
    "        print(self.NAME,\"is eating\")\n",
    "        \n",
    "    def make_friends(self,friend):\n",
    "        self.friends.append(friend)"
   ]
  },
  {
   "cell_type": "code",
   "execution_count": 72,
   "metadata": {},
   "outputs": [
    {
     "name": "stdout",
     "output_type": "stream",
     "text": [
      "Family is born with baby girl\n",
      "Family is born with baby boy\n"
     ]
    }
   ],
   "source": [
    "jhoga = Person(\"jhoga parth\",\"girl\")\n",
    "navneet = Person(\"navneet kashyap\",\"boy\")"
   ]
  },
  {
   "cell_type": "code",
   "execution_count": 73,
   "metadata": {},
   "outputs": [
    {
     "data": {
      "text/plain": [
       "'HOMOSAPIENS'"
      ]
     },
     "execution_count": 73,
     "metadata": {},
     "output_type": "execute_result"
    }
   ],
   "source": [
    "jhoga.SPECIES"
   ]
  },
  {
   "cell_type": "code",
   "execution_count": 74,
   "metadata": {},
   "outputs": [
    {
     "data": {
      "text/plain": [
       "'HOMOSAPIENS'"
      ]
     },
     "execution_count": 74,
     "metadata": {},
     "output_type": "execute_result"
    }
   ],
   "source": [
    "navneet.SPECIES"
   ]
  },
  {
   "cell_type": "code",
   "execution_count": 75,
   "metadata": {},
   "outputs": [
    {
     "data": {
      "text/plain": [
       "'HOMOSAPIENS'"
      ]
     },
     "execution_count": 75,
     "metadata": {},
     "output_type": "execute_result"
    }
   ],
   "source": [
    "Person.SPECIES # WE CAN ACCESS THE CLASS VARIABLE WITH CLASS NAME"
   ]
  },
  {
   "cell_type": "code",
   "execution_count": 76,
   "metadata": {},
   "outputs": [
    {
     "ename": "AttributeError",
     "evalue": "type object 'Person' has no attribute 'NAME'",
     "output_type": "error",
     "traceback": [
      "\u001b[0;31m---------------------------------------------------------------------------\u001b[0m",
      "\u001b[0;31mAttributeError\u001b[0m                            Traceback (most recent call last)",
      "\u001b[0;32m<ipython-input-76-2a7164a55c2e>\u001b[0m in \u001b[0;36m<module>\u001b[0;34m\u001b[0m\n\u001b[0;32m----> 1\u001b[0;31m \u001b[0mPerson\u001b[0m\u001b[0;34m.\u001b[0m\u001b[0mNAME\u001b[0m\u001b[0;34m\u001b[0m\u001b[0;34m\u001b[0m\u001b[0m\n\u001b[0m",
      "\u001b[0;31mAttributeError\u001b[0m: type object 'Person' has no attribute 'NAME'"
     ]
    }
   ],
   "source": [
    "Person.NAME  ## WE CANNOT ACESS THE INSTANCE VARIABLES WITH THE CLASS NAME"
   ]
  },
  {
   "cell_type": "code",
   "execution_count": 78,
   "metadata": {},
   "outputs": [
    {
     "name": "stdout",
     "output_type": "stream",
     "text": [
      "{'NAME': 'jhoga parth', 'GENDER': 'girl', 'friends': []}\n"
     ]
    }
   ],
   "source": [
    "print(jhoga.__dict__)  ## ALL THE INSTANCE VARIABLES OF JHOGA"
   ]
  },
  {
   "cell_type": "code",
   "execution_count": 79,
   "metadata": {},
   "outputs": [
    {
     "name": "stdout",
     "output_type": "stream",
     "text": [
      "{'NAME': 'navneet kashyap', 'GENDER': 'boy', 'friends': []}\n"
     ]
    }
   ],
   "source": [
    "print(navneet.__dict__) ## ALL THE INSTANCE VARIABLES OF NAVNEET"
   ]
  },
  {
   "cell_type": "code",
   "execution_count": 80,
   "metadata": {},
   "outputs": [
    {
     "name": "stdout",
     "output_type": "stream",
     "text": [
      "{'__module__': '__main__', 'SPECIES': 'HOMOSAPIENS', '__init__': <function Person.__init__ at 0x1103c0290>, 'eat': <function Person.eat at 0x1103c0440>, 'make_friends': <function Person.make_friends at 0x1103c0050>, '__dict__': <attribute '__dict__' of 'Person' objects>, '__weakref__': <attribute '__weakref__' of 'Person' objects>, '__doc__': None}\n"
     ]
    }
   ],
   "source": [
    "print(Person.__dict__) # CONTAINS ALL THE CLASS VARIABLES"
   ]
  },
  {
   "cell_type": "code",
   "execution_count": 85,
   "metadata": {},
   "outputs": [],
   "source": [
    "Person.SPECIES = \"HOMO-S\""
   ]
  },
  {
   "cell_type": "code",
   "execution_count": 86,
   "metadata": {},
   "outputs": [
    {
     "data": {
      "text/plain": [
       "'HOMO-S'"
      ]
     },
     "execution_count": 86,
     "metadata": {},
     "output_type": "execute_result"
    }
   ],
   "source": [
    "jhoga.SPECIES"
   ]
  },
  {
   "cell_type": "code",
   "execution_count": 87,
   "metadata": {},
   "outputs": [
    {
     "data": {
      "text/plain": [
       "'HOMO-S'"
      ]
     },
     "execution_count": 87,
     "metadata": {},
     "output_type": "execute_result"
    }
   ],
   "source": [
    "navneet.SPECIES"
   ]
  },
  {
   "cell_type": "code",
   "execution_count": 88,
   "metadata": {},
   "outputs": [
    {
     "data": {
      "text/plain": [
       "'HOMO-S'"
      ]
     },
     "execution_count": 88,
     "metadata": {},
     "output_type": "execute_result"
    }
   ],
   "source": [
    "Person.SPECIES"
   ]
  },
  {
   "cell_type": "code",
   "execution_count": 89,
   "metadata": {},
   "outputs": [],
   "source": [
    "jhoga.SPECIES = \"HOMO SAPIENS ADVANCED\""
   ]
  },
  {
   "cell_type": "code",
   "execution_count": 90,
   "metadata": {},
   "outputs": [
    {
     "name": "stdout",
     "output_type": "stream",
     "text": [
      "{'NAME': 'jhoga parth', 'GENDER': 'girl', 'friends': [], 'SPECIES': 'HOMO SAPIENS ADVANCED'}\n"
     ]
    }
   ],
   "source": [
    "print(jhoga.__dict__) ## ALL THE INSTANCE VARIABLES OF JHOGA"
   ]
  },
  {
   "cell_type": "code",
   "execution_count": 91,
   "metadata": {},
   "outputs": [
    {
     "data": {
      "text/plain": [
       "'HOMO-S'"
      ]
     },
     "execution_count": 91,
     "metadata": {},
     "output_type": "execute_result"
    }
   ],
   "source": [
    "navneet.SPECIES"
   ]
  },
  {
   "cell_type": "code",
   "execution_count": 92,
   "metadata": {},
   "outputs": [
    {
     "data": {
      "text/plain": [
       "'HOMO-S'"
      ]
     },
     "execution_count": 92,
     "metadata": {},
     "output_type": "execute_result"
    }
   ],
   "source": [
    "Person.SPECIES"
   ]
  },
  {
   "cell_type": "code",
   "execution_count": 93,
   "metadata": {},
   "outputs": [
    {
     "name": "stdout",
     "output_type": "stream",
     "text": [
      "{'__module__': '__main__', 'SPECIES': 'HOMO-S', '__init__': <function Person.__init__ at 0x1103c0290>, 'eat': <function Person.eat at 0x1103c0440>, 'make_friends': <function Person.make_friends at 0x1103c0050>, '__dict__': <attribute '__dict__' of 'Person' objects>, '__weakref__': <attribute '__weakref__' of 'Person' objects>, '__doc__': None}\n"
     ]
    }
   ],
   "source": [
    "print(Person.__dict__) # CONTAINS ALL THE CLASS VARIABLES"
   ]
  },
  {
   "cell_type": "code",
   "execution_count": 113,
   "metadata": {},
   "outputs": [],
   "source": [
    "## class methods\n",
    "\n",
    "class Person:\n",
    "    SPECIES = \"HOMOSAPIENS\"\n",
    "    def __init__(self,name,gender):  ## THE VERY FIRST FUNCCTION WHICH RUNS IS INIT.(automally runs when object is created)\n",
    "        print(\"Family is born with baby\",gender)\n",
    "        self.NAME = name   ## SELF IS POINTING TO THE OBJECT THROUGH WHICH WE ACESSED THIS METHOD OR ATTRIBUTE\n",
    "        self.GENDER = gender  ## instance/object variables:\n",
    "        self.friends = []\n",
    "        \n",
    "    def eat(self):  ## instance/object methods/function\n",
    "        print(self.NAME,\"is eating\")\n",
    "        \n",
    "    def make_friends(self,friend):\n",
    "        self.friends.append(friend)\n",
    "        \n",
    "    @classmethod   # use everytime we wrtie a class method\n",
    "    def mutate_species(cls): ## cls is pointing to the class which we called\n",
    "        cls.SPECIES = \"homo-sapiens ++\"  ##SPECIES IS THE CLASS VARIABLE\n",
    "        print(\"Mutation Successfull\")\n",
    "        \n",
    "## OBJECT VARIABLES (WHICH ARE DIFF FOR EACH OBJ): NAME,GENDER,friends\n",
    "\n",
    "## CLASS VARIABLES (WHICH ARE SAME FOR EACH OBJ): SPECIES\n",
    "\n",
    "## OBJECT FUNCTIONS (WHICH ARE USED TO MODIFY/ACCESS OBJECT VAR): eat,make_friends,__init__\n",
    "\n",
    "## CLASS FUNCTIONS (WHICH ARE USED TO MODIFY/ACCESS CLASS VAR): mutate_species\n",
    "\n",
    "## special fun: init (automally runs when object is created)\n",
    "\n"
   ]
  },
  {
   "cell_type": "code",
   "execution_count": 114,
   "metadata": {},
   "outputs": [
    {
     "name": "stdout",
     "output_type": "stream",
     "text": [
      "Family is born with baby girl\n",
      "Family is born with baby boy\n"
     ]
    }
   ],
   "source": [
    "jhoga = Person(\"jhoga parth\",\"girl\")\n",
    "navneet = Person(\"navneet kashyap\",\"boy\")"
   ]
  },
  {
   "cell_type": "code",
   "execution_count": 115,
   "metadata": {},
   "outputs": [
    {
     "data": {
      "text/plain": [
       "'HOMOSAPIENS'"
      ]
     },
     "execution_count": 115,
     "metadata": {},
     "output_type": "execute_result"
    }
   ],
   "source": [
    "jhoga.SPECIES"
   ]
  },
  {
   "cell_type": "code",
   "execution_count": 116,
   "metadata": {},
   "outputs": [
    {
     "data": {
      "text/plain": [
       "'HOMOSAPIENS'"
      ]
     },
     "execution_count": 116,
     "metadata": {},
     "output_type": "execute_result"
    }
   ],
   "source": [
    "navneet.SPECIES"
   ]
  },
  {
   "cell_type": "code",
   "execution_count": 111,
   "metadata": {},
   "outputs": [
    {
     "data": {
      "text/plain": [
       "'HOMOSAPIENS'"
      ]
     },
     "execution_count": 111,
     "metadata": {},
     "output_type": "execute_result"
    }
   ],
   "source": [
    "Person.SPECIES"
   ]
  },
  {
   "cell_type": "code",
   "execution_count": 117,
   "metadata": {},
   "outputs": [
    {
     "name": "stdout",
     "output_type": "stream",
     "text": [
      "Mutation Successfull\n"
     ]
    }
   ],
   "source": [
    "Person.mutate_species()"
   ]
  },
  {
   "cell_type": "code",
   "execution_count": 118,
   "metadata": {},
   "outputs": [
    {
     "data": {
      "text/plain": [
       "'homo-sapiens ++'"
      ]
     },
     "execution_count": 118,
     "metadata": {},
     "output_type": "execute_result"
    }
   ],
   "source": [
    "Person.SPECIES"
   ]
  },
  {
   "cell_type": "code",
   "execution_count": 119,
   "metadata": {},
   "outputs": [],
   "source": [
    "## Q2 Make an user profile of a google account\n",
    "## the imitation game\n",
    "User \n",
    "    user_name  =>obj_var\n",
    "    email =>obj_var\n",
    "    password => obj_var\n",
    "    \n",
    "    add_contact => obj_fun\n",
    "    update_contact => obj_fun\n",
    "    \n",
    "    \n",
    "    class_var => gmail\n",
    "    \n",
    "    class_fun => update_gmail\n",
    "    "
   ]
  },
  {
   "cell_type": "code",
   "execution_count": 120,
   "metadata": {},
   "outputs": [],
   "source": [
    "# 8:49\n",
    "\n",
    "# gmail = 5\n",
    "\n",
    "# update_gmail(cls):\n",
    "#     cls.gmail = 6\n",
    "#     print(\"gmail just got updated!!\")\n",
    "\n",
    "class User:\n",
    "    gmail = 5\n",
    "    def __init__(self,user_name,email,password):\n",
    "        self.user_name = user_name\n",
    "        self.email = email\n",
    "        self.password = password\n",
    "        self.contacts = {}\n",
    "        \n",
    "    def add_contact(self,name,no):\n",
    "        self.contacts[name] = no\n",
    "        print(\"contact added successfully\")\n",
    "        \n",
    "    def update_contact(self,name,no,no2):\n",
    "        self.contacts[name] = no2\n",
    "        print(\"contact updated successfully\")\n",
    "        \n",
    "    @classmethod\n",
    "    def update_gmail(cls,version):\n",
    "        cls.gmail = version\n",
    "        print(\"gmail is new new\")"
   ]
  },
  {
   "cell_type": "code",
   "execution_count": 121,
   "metadata": {},
   "outputs": [],
   "source": [
    "mohit = User(\"mohit_singh\",\"mohit@gmail.com\",\"gmail@mohit\")"
   ]
  },
  {
   "cell_type": "code",
   "execution_count": 122,
   "metadata": {},
   "outputs": [
    {
     "data": {
      "text/plain": [
       "{}"
      ]
     },
     "execution_count": 122,
     "metadata": {},
     "output_type": "execute_result"
    }
   ],
   "source": [
    "mohit.contacts"
   ]
  },
  {
   "cell_type": "code",
   "execution_count": 123,
   "metadata": {},
   "outputs": [
    {
     "name": "stdout",
     "output_type": "stream",
     "text": [
      "contact added successfully\n"
     ]
    }
   ],
   "source": [
    "mohit.add_contact(\"rohit\",\"789\")"
   ]
  },
  {
   "cell_type": "code",
   "execution_count": 124,
   "metadata": {},
   "outputs": [
    {
     "data": {
      "text/plain": [
       "{'rohit': '789'}"
      ]
     },
     "execution_count": 124,
     "metadata": {},
     "output_type": "execute_result"
    }
   ],
   "source": [
    "mohit.contacts"
   ]
  },
  {
   "cell_type": "code",
   "execution_count": 125,
   "metadata": {},
   "outputs": [
    {
     "name": "stdout",
     "output_type": "stream",
     "text": [
      "contact added successfully\n"
     ]
    }
   ],
   "source": [
    "mohit.add_contact(\"jhoga\",\"123\")"
   ]
  },
  {
   "cell_type": "code",
   "execution_count": 126,
   "metadata": {},
   "outputs": [
    {
     "data": {
      "text/plain": [
       "{'rohit': '789', 'jhoga': '123'}"
      ]
     },
     "execution_count": 126,
     "metadata": {},
     "output_type": "execute_result"
    }
   ],
   "source": [
    "mohit.contacts"
   ]
  },
  {
   "cell_type": "code",
   "execution_count": 127,
   "metadata": {},
   "outputs": [
    {
     "name": "stdout",
     "output_type": "stream",
     "text": [
      "<class 'list'>\n"
     ]
    }
   ],
   "source": [
    "# EVERYTHING IN PYTHON IS AN OBJECT\n",
    "# magic methods\n",
    "LIST1 = [1,2,3]\n",
    "\n",
    "print(type(LIST1))"
   ]
  },
  {
   "cell_type": "code",
   "execution_count": 128,
   "metadata": {},
   "outputs": [],
   "source": [
    "list1 = list()"
   ]
  },
  {
   "cell_type": "code",
   "execution_count": 129,
   "metadata": {},
   "outputs": [
    {
     "name": "stdout",
     "output_type": "stream",
     "text": [
      "<class 'list'>\n"
     ]
    }
   ],
   "source": [
    "print(type(list1))"
   ]
  },
  {
   "cell_type": "code",
   "execution_count": 135,
   "metadata": {},
   "outputs": [
    {
     "name": "stdout",
     "output_type": "stream",
     "text": [
      "[1, 2, 3]\n"
     ]
    },
    {
     "data": {
      "text/plain": [
       "3"
      ]
     },
     "execution_count": 135,
     "metadata": {},
     "output_type": "execute_result"
    }
   ],
   "source": [
    "LIST1 = [1,2,3]\n",
    "print(LIST1)\n",
    "\n",
    "len(LIST1)"
   ]
  },
  {
   "cell_type": "code",
   "execution_count": 131,
   "metadata": {},
   "outputs": [
    {
     "name": "stdout",
     "output_type": "stream",
     "text": [
      "<__main__.User object at 0x1103c7410>\n"
     ]
    }
   ],
   "source": [
    "print(mohit)"
   ]
  },
  {
   "cell_type": "code",
   "execution_count": 132,
   "metadata": {},
   "outputs": [],
   "source": [
    "class User:\n",
    "    gmail = 5\n",
    "    def __init__(self,user_name,email,password):\n",
    "        self.user_name = user_name\n",
    "        self.email = email\n",
    "        self.password = password\n",
    "        self.contacts = {}\n",
    "        \n",
    "    def add_contact(self,name,no):\n",
    "        self.contacts[name] = no\n",
    "        print(\"contact added successfully\")\n",
    "        \n",
    "    def update_contact(self,name,no,no2):\n",
    "        self.contacts[name] = no2\n",
    "        print(\"contact updated successfully\")\n",
    "        \n",
    "    @classmethod\n",
    "    def update_gmail(cls,version):\n",
    "        cls.gmail = version\n",
    "        print(\"gmail is new new\")\n",
    "        \n",
    "    def __str__(self):\n",
    "        return self.email"
   ]
  },
  {
   "cell_type": "code",
   "execution_count": 133,
   "metadata": {},
   "outputs": [],
   "source": [
    "mohit = User(\"mohit_singh\",\"mohit@gmail.com\",\"gmail@mohit\")"
   ]
  },
  {
   "cell_type": "code",
   "execution_count": 134,
   "metadata": {},
   "outputs": [
    {
     "name": "stdout",
     "output_type": "stream",
     "text": [
      "mohit@gmail.com\n"
     ]
    }
   ],
   "source": [
    "print(mohit)"
   ]
  },
  {
   "cell_type": "code",
   "execution_count": 137,
   "metadata": {},
   "outputs": [],
   "source": [
    "# len(mohit)"
   ]
  },
  {
   "cell_type": "code",
   "execution_count": 138,
   "metadata": {},
   "outputs": [],
   "source": [
    "# zip(iterables or iterator objects) # zip returns an iterator obj"
   ]
  },
  {
   "cell_type": "code",
   "execution_count": 144,
   "metadata": {},
   "outputs": [],
   "source": [
    "# zip(iterables)\n",
    "l1 = [1,2,3]\n",
    "iter_obj = zip(l1,l1)\n",
    "\n",
    "# when iterables are passed, each one of them are used to create an different iterator object even if the same list is\n",
    "# passed \n",
    "# finally it create an iterator_obj from the above iterator_objects!!"
   ]
  },
  {
   "cell_type": "code",
   "execution_count": 145,
   "metadata": {},
   "outputs": [
    {
     "name": "stdout",
     "output_type": "stream",
     "text": [
      "(1, 1)\n",
      "(2, 2)\n",
      "(3, 3)\n"
     ]
    },
    {
     "ename": "StopIteration",
     "evalue": "",
     "output_type": "error",
     "traceback": [
      "\u001b[0;31m---------------------------------------------------------------------------\u001b[0m",
      "\u001b[0;31mStopIteration\u001b[0m                             Traceback (most recent call last)",
      "\u001b[0;32m<ipython-input-145-fd39807a9045>\u001b[0m in \u001b[0;36m<module>\u001b[0;34m\u001b[0m\n\u001b[1;32m      1\u001b[0m \u001b[0;32mwhile\u001b[0m \u001b[0;32mTrue\u001b[0m\u001b[0;34m:\u001b[0m\u001b[0;34m\u001b[0m\u001b[0;34m\u001b[0m\u001b[0m\n\u001b[0;32m----> 2\u001b[0;31m     \u001b[0mprint\u001b[0m\u001b[0;34m(\u001b[0m\u001b[0mnext\u001b[0m\u001b[0;34m(\u001b[0m\u001b[0miter_obj\u001b[0m\u001b[0;34m)\u001b[0m\u001b[0;34m)\u001b[0m\u001b[0;34m\u001b[0m\u001b[0;34m\u001b[0m\u001b[0m\n\u001b[0m",
      "\u001b[0;31mStopIteration\u001b[0m: "
     ]
    }
   ],
   "source": [
    "while True:\n",
    "    print(next(iter_obj))"
   ]
  },
  {
   "cell_type": "code",
   "execution_count": 152,
   "metadata": {},
   "outputs": [],
   "source": [
    "# zip(iterator_objects directly)\n",
    "l1 = [1,2,3,4]\n",
    "\n",
    "iter_obj_l1 = iter(l1)"
   ]
  },
  {
   "cell_type": "code",
   "execution_count": 153,
   "metadata": {},
   "outputs": [],
   "source": [
    "iter_obj = zip(iter_obj_l1,iter_obj_l1)\n",
    "\n",
    "#zip does not create iterator_obj in this case because they are already there.\n",
    "# it uses these to create a final iter_obj"
   ]
  },
  {
   "cell_type": "code",
   "execution_count": 154,
   "metadata": {},
   "outputs": [
    {
     "name": "stdout",
     "output_type": "stream",
     "text": [
      "(1, 2)\n",
      "(3, 4)\n"
     ]
    },
    {
     "ename": "StopIteration",
     "evalue": "",
     "output_type": "error",
     "traceback": [
      "\u001b[0;31m---------------------------------------------------------------------------\u001b[0m",
      "\u001b[0;31mStopIteration\u001b[0m                             Traceback (most recent call last)",
      "\u001b[0;32m<ipython-input-154-fd39807a9045>\u001b[0m in \u001b[0;36m<module>\u001b[0;34m\u001b[0m\n\u001b[1;32m      1\u001b[0m \u001b[0;32mwhile\u001b[0m \u001b[0;32mTrue\u001b[0m\u001b[0;34m:\u001b[0m\u001b[0;34m\u001b[0m\u001b[0;34m\u001b[0m\u001b[0m\n\u001b[0;32m----> 2\u001b[0;31m     \u001b[0mprint\u001b[0m\u001b[0;34m(\u001b[0m\u001b[0mnext\u001b[0m\u001b[0;34m(\u001b[0m\u001b[0miter_obj\u001b[0m\u001b[0;34m)\u001b[0m\u001b[0;34m)\u001b[0m\u001b[0;34m\u001b[0m\u001b[0;34m\u001b[0m\u001b[0m\n\u001b[0m",
      "\u001b[0;31mStopIteration\u001b[0m: "
     ]
    }
   ],
   "source": [
    "while True:\n",
    "    print(next(iter_obj))"
   ]
  },
  {
   "cell_type": "code",
   "execution_count": null,
   "metadata": {},
   "outputs": [],
   "source": []
  }
 ],
 "metadata": {
  "kernelspec": {
   "display_name": "Python 3",
   "language": "python",
   "name": "python3"
  },
  "language_info": {
   "codemirror_mode": {
    "name": "ipython",
    "version": 3
   },
   "file_extension": ".py",
   "mimetype": "text/x-python",
   "name": "python",
   "nbconvert_exporter": "python",
   "pygments_lexer": "ipython3",
   "version": "3.7.4"
  }
 },
 "nbformat": 4,
 "nbformat_minor": 2
}
