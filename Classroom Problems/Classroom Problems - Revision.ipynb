{
 "cells": [
  {
   "cell_type": "markdown",
   "metadata": {},
   "source": [
    "# Q1)Generate a Default password consisting of the following, It is mandatory to use random functions :\n",
    "    1 Upper case \n",
    "    1 lower case\n",
    "    1 special char \n",
    "    5 digits \n"
   ]
  },
  {
   "cell_type": "markdown",
   "metadata": {},
   "source": [
    "# Q2) Given a list, write a Python program to convert the given list to dictionary such that all the odd elements have the key, and even number elements have the value\n",
    "\n",
    "     Input = [\"python\",3,\"java\",8,\"django\",2]\n",
    "     Output = {'python': 3, 'java': 8, 'django': 2}\n",
    "\n",
    "### Pseudocode:\n",
    "    1.)Loop over the elements 2 at a time\n",
    "    2.)save by taking 1st as key and the 2nd as value"
   ]
  },
  {
   "cell_type": "markdown",
   "metadata": {},
   "source": [
    "# Q3)Given a list of string, write a Python program to convert it into sorted list of integer.\n",
    "(only use functions which we have taught)\n",
    "\n",
    "    Input =  ['21', '1', '131', '12', '15']\n",
    "    Output =  [1, 12, 15, 21, 131]"
   ]
  },
  {
   "cell_type": "markdown",
   "metadata": {},
   "source": [
    "# Q4)Remove the dictionary corresponding to particular key in a list of dictionaries\n",
    "\n",
    "    test_list = [ {\"id\" : 1, \"data\" : \"python\"} , \n",
    "                  {\"id\" : 2, \"data\" : \"django\"} , \n",
    "                  {\"id\" : 3, \"data\" : \"numpy\"} ]\n",
    "                  \n",
    "    id_to_delete = 2\n",
    "    \n",
    "    test_list = [ {\"id\" : 1, \"data\" : \"python\"} , \n",
    "                    {\"id\" : 3, \"data\" : \"numpy\"} ]\n",
    "                    \n",
    "                    \n",
    "### Intuition: Use del for deleting an object.\n",
    "    \n",
    "    \n",
    "### Pseudocode:\n",
    "    1.)Loop Over each dict object.\n",
    "    2.)Check their id\n",
    "    3.)if id==2 , delete the object.\n",
    "        "
   ]
  },
  {
   "cell_type": "markdown",
   "metadata": {},
   "source": [
    "# Q5) From the list containing ints,strings, and floats , make three lists to store them separately.\n",
    "    mix_list = [\"python\",3,\"ok\",45,12.5,\"apple\",56.56]\n",
    "    str_list = [\"python\",\"ok\",\"apple\"]\n",
    "    number_list = [3,45,12.5,56.56]\n",
    "    \n",
    "### Intuition: how about using type() function? and 2 empty lists??\n",
    "\n",
    "### Pseudocode:\n",
    "    1.)Take 2 empty list\n",
    "    2.)Loop over each element of mix_list\n",
    "    3.)Check type of each one.\n",
    "    4.)If it is str put them in 1, else in the other"
   ]
  }
 ],
 "metadata": {
  "kernelspec": {
   "display_name": "Python 3",
   "language": "python",
   "name": "python3"
  },
  "language_info": {
   "codemirror_mode": {
    "name": "ipython",
    "version": 3
   },
   "file_extension": ".py",
   "mimetype": "text/x-python",
   "name": "python",
   "nbconvert_exporter": "python",
   "pygments_lexer": "ipython3",
   "version": "3.8.3"
  }
 },
 "nbformat": 4,
 "nbformat_minor": 4
}
