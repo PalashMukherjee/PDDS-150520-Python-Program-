{
 "cells": [
  {
   "cell_type": "markdown",
   "metadata": {},
   "source": [
    "## Q1)Given a string. The task is to print all words with even length in the given string.\n",
    "given_string = \"Sarcasm is good\"\n",
    "\n",
    "## Intuition: Can we use len function for each  word?\n",
    "\n",
    "### Hint: Remember split?\n"
   ]
  },
  {
   "cell_type": "markdown",
   "metadata": {},
   "source": [
    "## Q2)Given a pair of non empty strings. Count the number of matching characters in those strings (consider the single count for the character which have duplicates in the strings).\n",
    "\n",
    "    string1 = \"apple\"\n",
    "    string2 = \"allofpython\"\n",
    "\n",
    "### Intuition and Pseudocode: \n",
    "                1.)how do i remove duplicates ?\n",
    "                2.)duplicates???? oh we have set that does not contain duplicates?\n",
    "                3.)can i convert a string to a set?\n",
    "                4.)Now without duplicates I just have to find common elements between sets?\n",
    "                5.) Intersection??"
   ]
  },
  {
   "cell_type": "markdown",
   "metadata": {},
   "source": [
    "## Q3)Check which of the following string contains all the 26 Alphabets\n",
    "##    a)\"the quick brown fox jumps over a lazy dog\"\n",
    "##    b)\"the quick red fox jumps over a lazy dog\"\n",
    "\n",
    "### Intuition:Can we use ASCII values to store in a list the alphabet number present in the string.\n",
    "\n",
    "### Pseudocode:\n",
    "    1)make a list with 0's of size 26\n",
    "    2)loop through the string and calculate ascii value.\n",
    "    2.1) subtract the lowest ascii value to get the alphabet position (Remember 0 indexed)\n",
    "    2.2) replace the 0 with 1 in the list for that alphabet\n",
    "    3) sum the values in the list, it should be 26."
   ]
  },
  {
   "cell_type": "markdown",
   "metadata": {},
   "source": [
    "## Q4)For the given sentence as input, censor a specific word with asterisks ‘ * ‘.\n",
    "[Remember * will be equal to the character present in that word]\n",
    "\n",
    "### Intuition and Pseudocode:\n",
    "    1.) I already know that I can get words separated out of this string using split().\n",
    "    2.) I can compare every word with censor\n",
    "    3.) List are mutable, so i can replace it with *.\n",
    "    4.) I need a string back, what about using join??"
   ]
  },
  {
   "cell_type": "code",
   "execution_count": 32,
   "metadata": {},
   "outputs": [],
   "source": [
    "# string1 = \"hey you , are you a piece of offensive , Can you please don't try to be offensive\"\n",
    "\n",
    "# censor = \"offensive\"\n",
    "\n",
    "# string1 = \"hey you , are you a piece of ********* , Can you please don't try to be *********\""
   ]
  },
  {
   "cell_type": "code",
   "execution_count": null,
   "metadata": {},
   "outputs": [],
   "source": []
  }
 ],
 "metadata": {
  "kernelspec": {
   "display_name": "Python 3",
   "language": "python",
   "name": "python3"
  },
  "language_info": {
   "codemirror_mode": {
    "name": "ipython",
    "version": 3
   },
   "file_extension": ".py",
   "mimetype": "text/x-python",
   "name": "python",
   "nbconvert_exporter": "python",
   "pygments_lexer": "ipython3",
   "version": "3.7.4"
  }
 },
 "nbformat": 4,
 "nbformat_minor": 4
}
