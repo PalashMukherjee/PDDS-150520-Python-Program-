{
 "cells": [
  {
   "cell_type": "markdown",
   "metadata": {},
   "source": [
    "## 1\n",
    "\n",
    "* Take two numbers\n",
    "* Check if first number is even\n",
    "* If first number is even, multiply them\n",
    "* Else product them\n",
    "* Return the result"
   ]
  },
  {
   "cell_type": "markdown",
   "metadata": {},
   "source": [
    "## 2\n",
    "* Jack & Jill Game\n",
    "* Jack increments by 2\n",
    "* Jill decrements by 1"
   ]
  },
  {
   "cell_type": "markdown",
   "metadata": {},
   "source": [
    "## 3\n",
    "\n",
    "    1. Write a function a takes a string\n",
    "    2. Check if the string contains a vowel ( a )\n",
    "    3. If it does, print the word once \n",
    "    4. else print the word n times (n should be passed by the user)\n",
    "    \n",
    "Intuition :\n",
    "    1. Write a function to check if the word contains vowel\n",
    "    2. Use the output from above to print desired number of times"
   ]
  },
  {
   "cell_type": "code",
   "execution_count": null,
   "metadata": {},
   "outputs": [],
   "source": []
  }
 ],
 "metadata": {
  "kernelspec": {
   "display_name": "Python 3",
   "language": "python",
   "name": "python3"
  },
  "language_info": {
   "codemirror_mode": {
    "name": "ipython",
    "version": 3
   },
   "file_extension": ".py",
   "mimetype": "text/x-python",
   "name": "python",
   "nbconvert_exporter": "python",
   "pygments_lexer": "ipython3",
   "version": "3.7.4"
  }
 },
 "nbformat": 4,
 "nbformat_minor": 4
}
