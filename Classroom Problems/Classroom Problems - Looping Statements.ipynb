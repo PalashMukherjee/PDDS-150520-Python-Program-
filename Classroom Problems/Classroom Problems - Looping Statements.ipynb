{
 "cells": [
  {
   "cell_type": "markdown",
   "metadata": {},
   "source": [
    "## Q1) Print if x is divisible by 3 and 5 both\n",
    "\n",
    "### Intuition: since 4 is divisible by 2 it outputs remainder = 0\n",
    "\n",
    "### PseudoCode:\n",
    "    1)Check if remainder obtained by 3 is 0\n",
    "    2)Check if remainder obtained by 5 is 0\n",
    "    3)If anyone of the above 2 are false, than print nope."
   ]
  },
  {
   "cell_type": "markdown",
   "metadata": {},
   "source": [
    "## Q2) Print divisors of a given number x using loop and if condition.(lets take x = 6)\n",
    "\n",
    "### Intuition: What is a divisor? How to obtain a divisor the most simplest way possible?\n",
    "### Pseudocode:\n",
    "    1)Loop from 1 to x (Later: Do we really have to loop till x? why not x/2?)\n",
    "    2)Check if each item is a divisor of x (Hint: Modulus Operator)\n",
    "    \n",
    "    ### Optional Homework : Find a better way than above to get divisors of a number."
   ]
  },
  {
   "cell_type": "markdown",
   "metadata": {},
   "source": [
    "## Q3) Check if a number is perfect\n",
    "\n",
    "### In number theory, a perfect number is a positive integer that is equal to the sum of its positive divisors, excluding the number itself\n",
    "\n",
    "### Pseudocode:\n",
    "    0) Lets take the number x = 6\n",
    "    1) take a variable sum1 = 0\n",
    "    1) Loop from 1 to x/2\n",
    "    2) Check if each item is divisor of our number:\n",
    "        if yes:\n",
    "           sum1=sum1 + item\n",
    "    3) Finally if sum1 = x:\n",
    "                    print(\"yes\")\n",
    "               else:\n",
    "                    print(\"no\")"
   ]
  },
  {
   "cell_type": "markdown",
   "metadata": {},
   "source": [
    "## Q4) Print multiplication table of 5\n",
    "\n",
    "### Pseudocode:\n",
    "    1)loop from 1 to 10\n",
    "    2)for each item, print * of 5 with it."
   ]
  },
  {
   "cell_type": "markdown",
   "metadata": {},
   "source": [
    "## Q5) Write a program to create the following triangle\n",
    "\n",
    "\n",
    "# * \n",
    "\n",
    "# * * \n",
    "\n",
    "# * * * \n",
    "\n",
    "# * * * *\n",
    "\n",
    "### Intuition: See that * is increasing by 1 in each line, loop can give us that functionality\n",
    "\n",
    "### Pseudocode:\n",
    "    1)Outer loop run till number of lines in * pattern:\n",
    "    2)Inner loop run till line number"
   ]
  },
  {
   "cell_type": "code",
   "execution_count": null,
   "metadata": {},
   "outputs": [],
   "source": []
  }
 ],
 "metadata": {
  "kernelspec": {
   "display_name": "Python 3",
   "language": "python",
   "name": "python3"
  },
  "language_info": {
   "codemirror_mode": {
    "name": "ipython",
    "version": 3
   },
   "file_extension": ".py",
   "mimetype": "text/x-python",
   "name": "python",
   "nbconvert_exporter": "python",
   "pygments_lexer": "ipython3",
   "version": "3.8.3"
  }
 },
 "nbformat": 4,
 "nbformat_minor": 2
}
