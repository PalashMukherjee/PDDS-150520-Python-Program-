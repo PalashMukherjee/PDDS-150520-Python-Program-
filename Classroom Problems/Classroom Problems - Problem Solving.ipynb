{
 "cells": [
  {
   "cell_type": "markdown",
   "metadata": {},
   "source": [
    "### Q1)Reverse key value in a dictionary\n",
    "Input : { 'a':20, 'b':20, 'c':22 , 'd':20}\n",
    "\n",
    "Output : {20: ['a', 'b', 'd'], 22: 'c'}"
   ]
  },
  {
   "cell_type": "code",
   "execution_count": 1,
   "metadata": {},
   "outputs": [],
   "source": [
    "db = { 'a':20, 'b':20, 'c':22 , 'd':20}"
   ]
  },
  {
   "cell_type": "markdown",
   "metadata": {},
   "source": [
    "## Q2.find the missing number in given integer array of 1 to 10.\n",
    "    l = [1,2,3,4,5,6,7,7,9,10]\n",
    "\n",
    "\n",
    "### Intuition:\n",
    " => Range(1,11)\n",
    "\n",
    " => Sum of n natural nos : n (n+1) / 2\n",
    "     sum => 1 to 10 \n",
    "     sum_list   \n",
    "     missing element = sum - sum_list \n",
    "\n",
    "=> Sets  only unique elemnts "
   ]
  },
  {
   "cell_type": "markdown",
   "metadata": {},
   "source": [
    "## Q3 Find an element in array such that sum of left array is equal to sum of right array.\n",
    "\n",
    "l = [1,2,3,1,1,1]\n",
    "\n",
    "### Intuition \n",
    "    Basic Method:\n",
    "    1.) What is the most basic way? For each element sum left side and right side and check if they are equal?\n",
    "    \n",
    "    Amazing Method:\n",
    "    1.)think in terms of cumulative sum? and total sum? Recognize pattern\n"
   ]
  },
  {
   "cell_type": "markdown",
   "metadata": {},
   "source": [
    "## Q4.Write a program to find the first non repeated character of a given String of small letter alphabets\n",
    "    string1 = \"hellopython\"  =>e\n",
    "    string2 = \"appleappleok\"  =>o\n",
    "\n",
    "### Intuition:\n",
    "    1.)Is it good to use something which is unordered? why why not?\n",
    "    2.)Can we use list to update each index based on the ord value of alphabets?\n",
    "    3.)if yes, than how to use that list to find out first non repeated charater?\n",
    "    \n",
    "    Can we use dictionary? If we have Python 3.6+?"
   ]
  },
  {
   "cell_type": "code",
   "execution_count": 2,
   "metadata": {},
   "outputs": [],
   "source": [
    "string1 = \"hellopython\"\n",
    "string2 = \"appleappleok\" "
   ]
  },
  {
   "cell_type": "markdown",
   "metadata": {},
   "source": [
    "## what happens with dictionaries?\n",
    "\n",
    "Are dictionaries ordered in Python 3.6+?\n",
    "\n",
    "They are insertion ordered[1]. As of Python 3.6, for the CPython implementation of Python, dictionaries remember the order of\n",
    "items inserted. This is considered an implementation detail in Python 3.6; you need to use OrderedDict if you want insertion\n",
    "ordering that's guaranteed across other implementations of Python (and other ordered behavior[1])."
   ]
  },
  {
   "cell_type": "markdown",
   "metadata": {},
   "source": [
    "## Q5 .Given 3 strings: first,  second, and third.Third String is said to be a shuffle of first and second if it can be formed by\n",
    "interleaving the characters of first and second String in a way that maintains the left to right ordering of the characters\n",
    "from each string.\n",
    "\n",
    "For example, given first = \"abc\" and second = \"def\",  third = \"dabecf\"  is a valid shuffle since it preserves the character \n",
    "ordering of the two strings. So, given these 3 strings write a program that detects whether the third String is a valid shuffle\n",
    "of first and second String.\n",
    "\n",
    "### Intuition:\n",
    "     1 Iterate over s3 \n",
    "     2. Check if char is present in S1 or S2 \n",
    "     3. s1_pointer = 1 s2_pointer = 1 "
   ]
  },
  {
   "cell_type": "code",
   "execution_count": null,
   "metadata": {},
   "outputs": [],
   "source": []
  }
 ],
 "metadata": {
  "kernelspec": {
   "display_name": "Python 3",
   "language": "python",
   "name": "python3"
  },
  "language_info": {
   "codemirror_mode": {
    "name": "ipython",
    "version": 3
   },
   "file_extension": ".py",
   "mimetype": "text/x-python",
   "name": "python",
   "nbconvert_exporter": "python",
   "pygments_lexer": "ipython3",
   "version": "3.7.4"
  }
 },
 "nbformat": 4,
 "nbformat_minor": 4
}
