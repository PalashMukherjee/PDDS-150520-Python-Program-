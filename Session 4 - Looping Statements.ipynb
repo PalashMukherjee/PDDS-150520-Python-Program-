{
 "cells": [
  {
   "cell_type": "code",
   "execution_count": 2,
   "metadata": {},
   "outputs": [],
   "source": [
    "# Revision\n",
    "\n",
    "# Mutable datatypes?? list,dict,set\n",
    "\n",
    "# Immutable?? strings,tuples,float,"
   ]
  },
  {
   "cell_type": "code",
   "execution_count": 3,
   "metadata": {},
   "outputs": [
    {
     "data": {
      "text/plain": [
       "4565874512"
      ]
     },
     "execution_count": 3,
     "metadata": {},
     "output_type": "execute_result"
    }
   ],
   "source": [
    "a = 23\n",
    "id(a)"
   ]
  },
  {
   "cell_type": "code",
   "execution_count": 4,
   "metadata": {},
   "outputs": [
    {
     "data": {
      "text/plain": [
       "int"
      ]
     },
     "execution_count": 4,
     "metadata": {},
     "output_type": "execute_result"
    }
   ],
   "source": [
    "type(a)"
   ]
  },
  {
   "cell_type": "code",
   "execution_count": 5,
   "metadata": {},
   "outputs": [
    {
     "data": {
      "text/plain": [
       "False"
      ]
     },
     "execution_count": 5,
     "metadata": {},
     "output_type": "execute_result"
    }
   ],
   "source": [
    "# what are conditional statements??\n",
    "# does they always require conditions??\n",
    "\n",
    "a>45"
   ]
  },
  {
   "cell_type": "code",
   "execution_count": 7,
   "metadata": {},
   "outputs": [
    {
     "name": "stdout",
     "output_type": "stream",
     "text": [
      "something else\n"
     ]
    }
   ],
   "source": [
    "if False:\n",
    "    print(\"something\")\n",
    "else:\n",
    "    print(\"something else\")"
   ]
  },
  {
   "cell_type": "code",
   "execution_count": 8,
   "metadata": {},
   "outputs": [
    {
     "name": "stdout",
     "output_type": "stream",
     "text": [
      "4604791472\n",
      "4606951216\n"
     ]
    }
   ],
   "source": [
    "A = \"mohit\"\n",
    "# string is immutable right??\n",
    "print(id(A))\n",
    "\n",
    "A = A + \"singh\"\n",
    "print(id(A))\n"
   ]
  },
  {
   "cell_type": "markdown",
   "metadata": {},
   "source": [
    "## Q1) Print yes if x is divisible by 3 and 5 both\n",
    "\n",
    "### Intuition: since 4 is divisible by 2 it outputs remainder = 0\n",
    "\n",
    "### PseudoCode:\n",
    "    1)Check if remainder obtained by 3 is 0\n",
    "    2)Check if remainder obtained by 5 is 0\n",
    "    3)If anyone of the above 2 are false, than print nope."
   ]
  },
  {
   "cell_type": "code",
   "execution_count": 14,
   "metadata": {},
   "outputs": [
    {
     "name": "stdout",
     "output_type": "stream",
     "text": [
      "yes\n"
     ]
    }
   ],
   "source": [
    "x = 30\n",
    "\n",
    "if (not x%3) and (not x%5):\n",
    "    print(\"yes\")\n",
    "else:\n",
    "    print(\"no\")"
   ]
  },
  {
   "cell_type": "code",
   "execution_count": 12,
   "metadata": {},
   "outputs": [
    {
     "data": {
      "text/plain": [
       "True"
      ]
     },
     "execution_count": 12,
     "metadata": {},
     "output_type": "execute_result"
    }
   ],
   "source": [
    "not bool(0)"
   ]
  },
  {
   "cell_type": "code",
   "execution_count": 15,
   "metadata": {},
   "outputs": [
    {
     "name": "stdout",
     "output_type": "stream",
     "text": [
      "23\n",
      "23\n"
     ]
    }
   ],
   "source": [
    "x = input()\n",
    "\n",
    "print(x)"
   ]
  },
  {
   "cell_type": "markdown",
   "metadata": {},
   "source": [
    "## Looping Statements"
   ]
  },
  {
   "cell_type": "code",
   "execution_count": 16,
   "metadata": {},
   "outputs": [
    {
     "name": "stdout",
     "output_type": "stream",
     "text": [
      "this person is not covid+\n",
      "this person is covid +\n",
      "this person is not covid+\n",
      "this person is not covid+\n",
      "this person is not covid+\n",
      "this person is not covid+\n",
      "this person is covid +\n"
     ]
    }
   ],
   "source": [
    "bus = [False,True,False,False,False,False,True]\n",
    "\n",
    "for i in bus:\n",
    "    if i==True:\n",
    "        print(\"this person is covid +\")\n",
    "    else:\n",
    "        print(\"this person is not covid+\")"
   ]
  },
  {
   "cell_type": "code",
   "execution_count": 17,
   "metadata": {},
   "outputs": [],
   "source": [
    "for [userdefined_variable] in [iterable_datatype]:\n",
    "    [statements]\n",
    "[other statements]"
   ]
  },
  {
   "cell_type": "code",
   "execution_count": 20,
   "metadata": {},
   "outputs": [
    {
     "name": "stdout",
     "output_type": "stream",
     "text": [
      "1\n",
      "2\n",
      "apple\n",
      "4\n",
      "(4, 5)\n"
     ]
    }
   ],
   "source": [
    "l = [1,2,\"apple\",4,(4,5)]\n",
    "\n",
    "for item in l:\n",
    "    print(item)"
   ]
  },
  {
   "cell_type": "code",
   "execution_count": 19,
   "metadata": {},
   "outputs": [
    {
     "name": "stdout",
     "output_type": "stream",
     "text": [
      "T\n",
      "h\n",
      "i\n",
      "s\n",
      " \n",
      "i\n",
      "s\n",
      " \n",
      "a\n",
      " \n",
      "S\n",
      "t\n",
      "r\n",
      "i\n",
      "n\n",
      "g\n"
     ]
    }
   ],
   "source": [
    "for value in \"This is a String\":\n",
    "    print(value)"
   ]
  },
  {
   "cell_type": "code",
   "execution_count": 21,
   "metadata": {},
   "outputs": [
    {
     "name": "stdout",
     "output_type": "stream",
     "text": [
      "phone\n",
      "name\n"
     ]
    }
   ],
   "source": [
    "d = {\"phone\":900,\"name\":\"raam\"}\n",
    "\n",
    "for item in d:\n",
    "    print(item)"
   ]
  },
  {
   "cell_type": "code",
   "execution_count": 22,
   "metadata": {},
   "outputs": [
    {
     "name": "stdout",
     "output_type": "stream",
     "text": [
      "150\n"
     ]
    }
   ],
   "source": [
    "l = [10,20,30,40,50]\n",
    "\n",
    "# sum = 0\n",
    "# sum = 10\n",
    "# sum = 10+20+30+40+50....?\n",
    "\n",
    "sum = 0\n",
    "\n",
    "for value in l:\n",
    "    sum = sum + value\n",
    "\n",
    "print(sum)\n"
   ]
  },
  {
   "cell_type": "markdown",
   "metadata": {},
   "source": [
    "## range"
   ]
  },
  {
   "cell_type": "code",
   "execution_count": 23,
   "metadata": {},
   "outputs": [
    {
     "data": {
      "text/plain": [
       "range(0, 10)"
      ]
     },
     "execution_count": 23,
     "metadata": {},
     "output_type": "execute_result"
    }
   ],
   "source": [
    "# range(x,y,z)\n",
    "\n",
    "range(0,10)"
   ]
  },
  {
   "cell_type": "code",
   "execution_count": 28,
   "metadata": {},
   "outputs": [
    {
     "name": "stdout",
     "output_type": "stream",
     "text": [
      "0\n",
      "1\n",
      "2\n",
      "3\n",
      "4\n",
      "5\n",
      "6\n",
      "7\n",
      "8\n",
      "9\n"
     ]
    }
   ],
   "source": [
    "for i in range(0,10,1):\n",
    "    print(i)"
   ]
  },
  {
   "cell_type": "code",
   "execution_count": 29,
   "metadata": {},
   "outputs": [],
   "source": [
    "# pass\n",
    "# continue\n",
    "# break"
   ]
  },
  {
   "cell_type": "code",
   "execution_count": 51,
   "metadata": {
    "scrolled": true
   },
   "outputs": [
    {
     "name": "stdout",
     "output_type": "stream",
     "text": [
      "10\n",
      "20\n",
      "Number is -ve\n",
      "-30\n",
      "40\n",
      "50\n",
      "value of the item when we were out of the loop 50\n"
     ]
    }
   ],
   "source": [
    "l = [10,20,-30,40,50]\n",
    "for item in l:\n",
    "    if item < 0:\n",
    "        print(\"Number is -ve\")\n",
    "    else:\n",
    "        pass\n",
    "    print(item)\n",
    "    \n",
    "print(\"value of the item when we were out of the loop\",item)"
   ]
  },
  {
   "cell_type": "markdown",
   "metadata": {},
   "source": [
    "#pass"
   ]
  },
  {
   "cell_type": "code",
   "execution_count": 49,
   "metadata": {},
   "outputs": [
    {
     "name": "stdout",
     "output_type": "stream",
     "text": [
      "hi\n",
      "okk\n"
     ]
    }
   ],
   "source": [
    "if True:\n",
    "    print(\"hi\")\n",
    "\n",
    "\n",
    "\n",
    "print(\"okk\")"
   ]
  },
  {
   "cell_type": "code",
   "execution_count": 38,
   "metadata": {},
   "outputs": [
    {
     "data": {
      "text/plain": [
       "True"
      ]
     },
     "execution_count": 38,
     "metadata": {},
     "output_type": "execute_result"
    }
   ],
   "source": [
    "bool(100)"
   ]
  },
  {
   "cell_type": "code",
   "execution_count": 46,
   "metadata": {},
   "outputs": [
    {
     "data": {
      "text/plain": [
       "False"
      ]
     },
     "execution_count": 46,
     "metadata": {},
     "output_type": "execute_result"
    }
   ],
   "source": [
    "bool(None)"
   ]
  },
  {
   "cell_type": "markdown",
   "metadata": {},
   "source": [
    "# for - else"
   ]
  },
  {
   "cell_type": "code",
   "execution_count": 55,
   "metadata": {},
   "outputs": [
    {
     "name": "stdout",
     "output_type": "stream",
     "text": [
      "we did not\n"
     ]
    }
   ],
   "source": [
    "nums = [10,20,30,40,50,60]\n",
    "key = 10\n",
    "flag = 0 # assuming we did not find the key initially\n",
    "\n",
    "for item in nums:\n",
    "    if item == key:\n",
    "        flag = 1 # we found the key\n",
    "        break\n",
    "    else:\n",
    "        pass\n",
    "    \n",
    "if flag == 1:\n",
    "    print(\"found the key\")\n",
    "else:\n",
    "    print(\"we did not\")"
   ]
  },
  {
   "cell_type": "code",
   "execution_count": 60,
   "metadata": {},
   "outputs": [
    {
     "name": "stdout",
     "output_type": "stream",
     "text": [
      "key is present at index 2\n"
     ]
    }
   ],
   "source": [
    "nums = [10,20,30,40,50,60]\n",
    "key = 30\n",
    "\n",
    "for index,item in enumerate(nums):\n",
    "    if item==key:\n",
    "        print(\"key is present at index\",index)\n",
    "        break\n",
    "else:\n",
    "    print(\"key is not present\")"
   ]
  },
  {
   "cell_type": "markdown",
   "metadata": {},
   "source": [
    "## enumerate"
   ]
  },
  {
   "cell_type": "code",
   "execution_count": 62,
   "metadata": {},
   "outputs": [
    {
     "name": "stdout",
     "output_type": "stream",
     "text": [
      "40\n"
     ]
    }
   ],
   "source": [
    "l = [10,20,30,40,50]\n",
    "print(l[3])\n",
    "# for index,value in enumerate(l):\n",
    "#     print(index,value)"
   ]
  },
  {
   "cell_type": "markdown",
   "metadata": {},
   "source": [
    "## Q2) Print divisors of a given number x using loop and if condition.(lets take x = 6)\n",
    "\n",
    "### Intuition: What is a divisor? How to obtain a divisor the most simplest way possible?\n",
    "### Pseudocode:\n",
    "    1)Loop from 1 to x (Later: Do we really have to loop till x? why not x/2?)\n",
    "    2)Check if each item is a divisor of x (Hint: Modulus Operator)\n",
    "    \n",
    "    ### Optional Homework : Find a better way than above to get divisors of a number."
   ]
  },
  {
   "cell_type": "code",
   "execution_count": 66,
   "metadata": {},
   "outputs": [
    {
     "name": "stdout",
     "output_type": "stream",
     "text": [
      "1\n",
      "2\n",
      "3\n",
      "6\n"
     ]
    }
   ],
   "source": [
    "# Most Basic \n",
    "\n",
    "x = 6 \n",
    "# = 1+2+3\n",
    "\n",
    "for i in range(1,x//2+1):\n",
    "    if x%i==0:\n",
    "        print(i)\n",
    "else:\n",
    "    print(x)"
   ]
  },
  {
   "cell_type": "code",
   "execution_count": 69,
   "metadata": {},
   "outputs": [
    {
     "name": "stdout",
     "output_type": "stream",
     "text": [
      "1\n",
      "2\n",
      "3\n",
      "4\n",
      "5\n",
      "6\n",
      "7\n",
      "8\n",
      "9\n",
      "10\n"
     ]
    }
   ],
   "source": [
    "for i in range(1,10+1):\n",
    "    print(i)"
   ]
  },
  {
   "cell_type": "code",
   "execution_count": 70,
   "metadata": {},
   "outputs": [],
   "source": [
    "## better solution than this for the above program"
   ]
  },
  {
   "cell_type": "markdown",
   "metadata": {},
   "source": [
    "## Q3) Check if a number is perfect\n",
    "\n",
    "### In number theory, a perfect number is a positive integer that is equal to the sum of its positive divisors, excluding the number itself\n",
    "\n",
    "### Pseudocode:\n",
    "    0) Lets take the number x = 6\n",
    "    1) take a variable sum1 = 0\n",
    "    1) Loop from 1 to x/2\n",
    "    2) Check if each item is divisor of our number:\n",
    "        if yes:\n",
    "           sum1=sum1 + item\n",
    "    3) Finally if sum1 = x:\n",
    "                    print(\"yes\")\n",
    "               else:\n",
    "                    print(\"no\")"
   ]
  },
  {
   "cell_type": "code",
   "execution_count": 73,
   "metadata": {},
   "outputs": [
    {
     "name": "stdout",
     "output_type": "stream",
     "text": [
      "hey this no. is perfect!\n"
     ]
    }
   ],
   "source": [
    "num1 = 6\n",
    "\n",
    "sum1 = 0\n",
    "\n",
    "for value in range(1,num1//2 + 1):\n",
    "    if num1%value == 0:\n",
    "        sum1 = sum1+value\n",
    "        \n",
    "if sum1 == num1:\n",
    "    print(\"hey this no. is perfect!\")\n",
    "else:\n",
    "    print(\"nope not a perfect no.\")"
   ]
  },
  {
   "cell_type": "markdown",
   "metadata": {},
   "source": [
    "## Q4) Print multiplication table of 5\n",
    "\n",
    "### Pseudocode:\n",
    "    1)loop from 1 to 10\n",
    "    2)for each item, print * of 5 with it."
   ]
  },
  {
   "cell_type": "markdown",
   "metadata": {},
   "source": [
    "## Q5) Write a program to create the following triangle\n",
    "\n",
    "\n",
    "# * \n",
    "\n",
    "# * * \n",
    "\n",
    "# * * * \n",
    "\n",
    "# * * * *\n",
    "\n",
    "### Intuition: See that * is increasing by 1 in each line, loop can give us that functionality\n",
    "\n",
    "### Pseudocode:\n",
    "    1)Outer loop run till number of lines in * pattern:\n",
    "    2)Inner loop run till line number"
   ]
  },
  {
   "cell_type": "code",
   "execution_count": null,
   "metadata": {},
   "outputs": [],
   "source": []
  }
 ],
 "metadata": {
  "kernelspec": {
   "display_name": "Python 3",
   "language": "python",
   "name": "python3"
  },
  "language_info": {
   "codemirror_mode": {
    "name": "ipython",
    "version": 3
   },
   "file_extension": ".py",
   "mimetype": "text/x-python",
   "name": "python",
   "nbconvert_exporter": "python",
   "pygments_lexer": "ipython3",
   "version": "3.7.4"
  }
 },
 "nbformat": 4,
 "nbformat_minor": 2
}
