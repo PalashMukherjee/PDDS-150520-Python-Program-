{
 "cells": [
  {
   "cell_type": "code",
   "execution_count": 1,
   "metadata": {},
   "outputs": [],
   "source": [
    "## REVISION\n",
    "\n",
    "#REGEX\n",
    "# METACHARS: \n",
    "#     .\n",
    "#     []\n",
    "#     *\n",
    "#     +\n",
    "#     ?\n",
    "#     {2}\n",
    "#     ^\n",
    "#     $"
   ]
  },
  {
   "cell_type": "code",
   "execution_count": 3,
   "metadata": {},
   "outputs": [
    {
     "data": {
      "text/plain": [
       "'([0-9])\\\\1'"
      ]
     },
     "execution_count": 3,
     "metadata": {},
     "output_type": "execute_result"
    }
   ],
   "source": [
    "r\"([0-9])\\1\""
   ]
  },
  {
   "cell_type": "code",
   "execution_count": null,
   "metadata": {},
   "outputs": [],
   "source": [
    "## Property of Iterators:\n",
    "__next__ and __iter___\n",
    "\n",
    "# next on an iterator and it's value gets exhausted it gives an Stopeiteration\n",
    "# next always take to the next value while giving the current one."
   ]
  },
  {
   "cell_type": "code",
   "execution_count": 6,
   "metadata": {
    "scrolled": true
   },
   "outputs": [
    {
     "name": "stdout",
     "output_type": "stream",
     "text": [
      "(2, 2)\n"
     ]
    },
    {
     "data": {
      "text/plain": [
       "(4, 4)"
      ]
     },
     "execution_count": 6,
     "metadata": {},
     "output_type": "execute_result"
    }
   ],
   "source": [
    "## zip(with iterables)\n",
    "even_list = [2,4,6,8]  # this is an iterable\n",
    "\n",
    "final_iter_obj = zip(even_list,even_list)  # inside it is going to create two diff iterator objects and than final 1 from it\n",
    "print(next(final_iter_obj)) \n",
    "next(final_iter_obj)"
   ]
  },
  {
   "cell_type": "code",
   "execution_count": 7,
   "metadata": {},
   "outputs": [
    {
     "name": "stdout",
     "output_type": "stream",
     "text": [
      "(2, 4)\n"
     ]
    },
    {
     "data": {
      "text/plain": [
       "(6, 8)"
      ]
     },
     "execution_count": 7,
     "metadata": {},
     "output_type": "execute_result"
    }
   ],
   "source": [
    "## zip(with iterators)\n",
    "even_list = [2,4,6,8]\n",
    "even_list_iter_obj = iter(even_list)\n",
    "\n",
    "final_iter_obj = zip(even_list_iter_obj,even_list_iter_obj) # do not make iter obj of those 2 because we already passed iter_obj\n",
    "\n",
    "print(next(final_iter_obj)) \n",
    "next(final_iter_obj)"
   ]
  },
  {
   "cell_type": "code",
   "execution_count": 8,
   "metadata": {},
   "outputs": [],
   "source": [
    "# Class: Blueprint\n",
    "# Object: Instance of Class"
   ]
  },
  {
   "cell_type": "code",
   "execution_count": 9,
   "metadata": {},
   "outputs": [],
   "source": [
    "#Object Var: they are diff for diff objects\n",
    "#Class Var: they are same for diff objects(obj share them)\n",
    "#Object method: Access/Modify obj var\n",
    "#Class method: Access/Modify class var"
   ]
  },
  {
   "cell_type": "code",
   "execution_count": null,
   "metadata": {},
   "outputs": [],
   "source": [
    "self:(access the obj)(var)(very first argument)\n",
    "cls:(access the class)(var)(vary first argument)"
   ]
  },
  {
   "cell_type": "code",
   "execution_count": 10,
   "metadata": {},
   "outputs": [],
   "source": [
    "# Magic Methods"
   ]
  },
  {
   "cell_type": "code",
   "execution_count": 20,
   "metadata": {},
   "outputs": [],
   "source": [
    "class User:\n",
    "    gmail = 5\n",
    "    def __init__(self,user_name,email,password):\n",
    "        self.user_name = user_name\n",
    "        self.email = email\n",
    "        self.password = password\n",
    "        self.contacts = {}\n",
    "        \n",
    "    def add_contact(self,name,no):\n",
    "        self.contacts[name] = no\n",
    "        print(\"contact added successfully\")\n",
    "        \n",
    "    def update_contact(self,name,no,no2):\n",
    "        self.contacts[name] = no2\n",
    "        print(\"contact updated successfully\")\n",
    "        \n",
    "    @classmethod\n",
    "    def update_gmail(cls,version):\n",
    "        cls.gmail = version\n",
    "        print(\"gmail is new new\")\n",
    "        \n",
    "    def __str__(self):\n",
    "        return self.user_name"
   ]
  },
  {
   "cell_type": "code",
   "execution_count": 21,
   "metadata": {},
   "outputs": [],
   "source": [
    "mohit = User(\"mohit_singh\",\"mohit@gmail.com\",\"gmail@mohit\")"
   ]
  },
  {
   "cell_type": "code",
   "execution_count": 22,
   "metadata": {},
   "outputs": [
    {
     "name": "stdout",
     "output_type": "stream",
     "text": [
      "mohit_singh\n"
     ]
    }
   ],
   "source": [
    "print(mohit)"
   ]
  },
  {
   "cell_type": "code",
   "execution_count": null,
   "metadata": {},
   "outputs": [],
   "source": [
    "__str__\n",
    "__add__=> mohit+rohit\n",
    "__len__=> len(mohit) => whatever we define in the __len__ inside class"
   ]
  },
  {
   "cell_type": "code",
   "execution_count": 41,
   "metadata": {},
   "outputs": [],
   "source": [
    "import random\n",
    "class Person:\n",
    "    SPECIES = \"HOMOSAPIENS\"\n",
    "    def __init__(self,name,gender):  ## THE VERY FIRST FUNCCTION WHICH RUNS IS INIT.(automally runs when object is created)\n",
    "        print(\"Family is born with baby\",gender)\n",
    "        self.NAME = name   ## SELF IS POINTING TO THE OBJECT THROUGH WHICH WE ACESSED THIS METHOD OR ATTRIBUTE\n",
    "        self.GENDER = gender  ## instance/object variables:\n",
    "        self.friends = []\n",
    "        self.contagious_to_covid = \"Negative\"\n",
    "        self.height = random.randint(45,60)\n",
    "        \n",
    "    def eat(self):  ## instance/object methods/function\n",
    "        print(self.NAME,\"is eating\")\n",
    "        \n",
    "    def make_friends(self,friend):\n",
    "        self.friends.append(friend)\n",
    "        \n",
    "    def __add__(self,other): # mohit+rohit => self=>mohit, other=>rohit\n",
    "        other.contagious_to_covid = self.contagious_to_covid\n",
    "        print(other.NAME,\"is also infected/cured\")\n",
    "        \n",
    "    def __len__(self):\n",
    "        return self.height\n",
    "        \n",
    "    @classmethod   # use everytime we wrtie a class method\n",
    "    def mutate_species(cls): ## cls is pointing to the class which we called\n",
    "        cls.SPECIES = \"homo-sapiens ++\"  ##SPECIES IS THE CLASS VARIABLE\n",
    "        print(\"Mutation Successfull\")"
   ]
  },
  {
   "cell_type": "code",
   "execution_count": 42,
   "metadata": {},
   "outputs": [
    {
     "name": "stdout",
     "output_type": "stream",
     "text": [
      "Family is born with baby boy\n"
     ]
    }
   ],
   "source": [
    "mohit = Person(\"mohit singh\",\"boy\")"
   ]
  },
  {
   "cell_type": "code",
   "execution_count": 43,
   "metadata": {},
   "outputs": [
    {
     "name": "stdout",
     "output_type": "stream",
     "text": [
      "Family is born with baby boy\n"
     ]
    }
   ],
   "source": [
    "rohit = Person(\"rohit singh\",\"boy\")"
   ]
  },
  {
   "cell_type": "code",
   "execution_count": 36,
   "metadata": {},
   "outputs": [],
   "source": [
    "mohit.contagious_to_covid = \"Positive\""
   ]
  },
  {
   "cell_type": "code",
   "execution_count": 29,
   "metadata": {},
   "outputs": [],
   "source": [
    "rohit.contagious_to_covid = \"Positive\""
   ]
  },
  {
   "cell_type": "code",
   "execution_count": 37,
   "metadata": {},
   "outputs": [
    {
     "data": {
      "text/plain": [
       "'Negative'"
      ]
     },
     "execution_count": 37,
     "metadata": {},
     "output_type": "execute_result"
    }
   ],
   "source": [
    "rohit.contagious_to_covid"
   ]
  },
  {
   "cell_type": "code",
   "execution_count": 39,
   "metadata": {},
   "outputs": [
    {
     "name": "stdout",
     "output_type": "stream",
     "text": [
      "mohit singh is also infected/cured\n"
     ]
    }
   ],
   "source": [
    "# mohit+rohit\n",
    "rohit+mohit"
   ]
  },
  {
   "cell_type": "code",
   "execution_count": 40,
   "metadata": {},
   "outputs": [
    {
     "data": {
      "text/plain": [
       "'Negative'"
      ]
     },
     "execution_count": 40,
     "metadata": {},
     "output_type": "execute_result"
    }
   ],
   "source": [
    "mohit.contagious_to_covid"
   ]
  },
  {
   "cell_type": "code",
   "execution_count": 44,
   "metadata": {},
   "outputs": [
    {
     "data": {
      "text/plain": [
       "56"
      ]
     },
     "execution_count": 44,
     "metadata": {},
     "output_type": "execute_result"
    }
   ],
   "source": [
    "len(mohit)"
   ]
  },
  {
   "cell_type": "code",
   "execution_count": 45,
   "metadata": {},
   "outputs": [
    {
     "data": {
      "text/plain": [
       "49"
      ]
     },
     "execution_count": 45,
     "metadata": {},
     "output_type": "execute_result"
    }
   ],
   "source": [
    "len(rohit)"
   ]
  },
  {
   "cell_type": "code",
   "execution_count": 46,
   "metadata": {},
   "outputs": [
    {
     "data": {
      "text/plain": [
       "56"
      ]
     },
     "execution_count": 46,
     "metadata": {},
     "output_type": "execute_result"
    }
   ],
   "source": [
    "mohit.height"
   ]
  },
  {
   "cell_type": "code",
   "execution_count": 47,
   "metadata": {},
   "outputs": [
    {
     "data": {
      "text/plain": [
       "49"
      ]
     },
     "execution_count": 47,
     "metadata": {},
     "output_type": "execute_result"
    }
   ],
   "source": [
    "rohit.height"
   ]
  },
  {
   "cell_type": "code",
   "execution_count": 48,
   "metadata": {},
   "outputs": [
    {
     "data": {
      "text/plain": [
       "4"
      ]
     },
     "execution_count": 48,
     "metadata": {},
     "output_type": "execute_result"
    }
   ],
   "source": [
    "list1 = [1,2,3,4]\n",
    "\n",
    "len(list1)"
   ]
  },
  {
   "cell_type": "code",
   "execution_count": 49,
   "metadata": {},
   "outputs": [
    {
     "data": {
      "text/plain": [
       "list"
      ]
     },
     "execution_count": 49,
     "metadata": {},
     "output_type": "execute_result"
    }
   ],
   "source": [
    "type(list1)"
   ]
  },
  {
   "cell_type": "code",
   "execution_count": null,
   "metadata": {},
   "outputs": [],
   "source": [
    "class list:\n",
    "    def __len__(self):\n",
    "        #what could be this code?"
   ]
  },
  {
   "cell_type": "code",
   "execution_count": 50,
   "metadata": {},
   "outputs": [
    {
     "data": {
      "text/plain": [
       "7"
      ]
     },
     "execution_count": 50,
     "metadata": {},
     "output_type": "execute_result"
    }
   ],
   "source": [
    "string1 = \"mallick\"\n",
    "len(string1)"
   ]
  },
  {
   "cell_type": "code",
   "execution_count": 51,
   "metadata": {},
   "outputs": [
    {
     "data": {
      "text/plain": [
       "4"
      ]
     },
     "execution_count": 51,
     "metadata": {},
     "output_type": "execute_result"
    }
   ],
   "source": [
    "tuple1 = (1,2,3,4)\n",
    "\n",
    "len(tuple1)"
   ]
  },
  {
   "cell_type": "code",
   "execution_count": null,
   "metadata": {},
   "outputs": [],
   "source": [
    "## Q3 Create a Student Record containing:-\n",
    "Student:\n",
    "    name\n",
    "    roll_no\n",
    "    marks = {\"history\":0,\"mechanics\":0,\"chemistry\":0}\n",
    "    \n",
    "    add_marks()\n",
    "    \n",
    "    find_topper():classmethod, student_list:class, total_marks:class\n",
    "    find_failed():below 33% a student get fail,  fail_percent:33 (class)\n",
    "    obj_var? percentage? \n",
    "# 7:58"
   ]
  },
  {
   "cell_type": "code",
   "execution_count": 54,
   "metadata": {},
   "outputs": [],
   "source": [
    "class Student:\n",
    "    student_list = []\n",
    "    total_marks = 300\n",
    "    fail_percent = 33\n",
    "    def __init__(self,name,roll_no):\n",
    "        self.name = name\n",
    "        self.roll_no = roll_no\n",
    "        self.marks = {\"history\":0,\"mechanics\":0,\"chemistry\":0}\n",
    "        Student.student_list.append(self)\n",
    "        \n",
    "    def add_marks(self,marks):\n",
    "        self.marks = marks\n",
    "        self.percentage = ((sum(marks.values()))/Student.total_marks)*100\n",
    "        if self.percentage<Student.fail_percent:\n",
    "            self.fail = True\n",
    "        else:\n",
    "            self.fail = False\n",
    "\n",
    "    def __str__(self):\n",
    "        return self.name\n",
    "    \n",
    "    @classmethod\n",
    "    def find_topper(cls):\n",
    "        highest_percent = float(\"-inf\")\n",
    "        current_topper = cls.student_list[0]\n",
    "        for i in cls.student_list:\n",
    "            if i.percentage>highest_percent:\n",
    "                highest_percent = i.percentage\n",
    "                current_topper = i\n",
    "        return current_topper\n",
    "    \n",
    "    @classmethod\n",
    "    def find_failed(cls):\n",
    "        fail_list = []\n",
    "        for i in cls.student_list:\n",
    "            if i.fail == True:\n",
    "                fail_list.append(i)\n",
    "        return fail_list"
   ]
  },
  {
   "cell_type": "code",
   "execution_count": 55,
   "metadata": {},
   "outputs": [],
   "source": [
    "Pranab = Student(\"PRANAB KUMAR MOHARANA\",30)\n",
    "akansha = Student(\"akansha srivastava\",3)\n",
    "mohit = Student(\"mohit chouhan\",19)\n",
    "rohit = Student(\"rohit chouhan\",38)"
   ]
  },
  {
   "cell_type": "code",
   "execution_count": 56,
   "metadata": {},
   "outputs": [
    {
     "data": {
      "text/plain": [
       "{'history': 0, 'mechanics': 0, 'chemistry': 0}"
      ]
     },
     "execution_count": 56,
     "metadata": {},
     "output_type": "execute_result"
    }
   ],
   "source": [
    "Pranab.marks"
   ]
  },
  {
   "cell_type": "code",
   "execution_count": 57,
   "metadata": {},
   "outputs": [
    {
     "data": {
      "text/plain": [
       "{'history': 0, 'mechanics': 0, 'chemistry': 0}"
      ]
     },
     "execution_count": 57,
     "metadata": {},
     "output_type": "execute_result"
    }
   ],
   "source": [
    "akansha.marks"
   ]
  },
  {
   "cell_type": "code",
   "execution_count": 58,
   "metadata": {},
   "outputs": [],
   "source": [
    "Pranab.add_marks({\"history\":80,\"mechanics\":60,\"chemistry\":30})\n",
    "akansha.add_marks({\"history\":50,\"mechanics\":80,\"chemistry\":90})\n",
    "mohit.add_marks({\"history\":70,\"mechanics\":5,\"chemistry\":20})\n",
    "rohit.add_marks({\"history\":10,\"mechanics\":30,\"chemistry\":30})"
   ]
  },
  {
   "cell_type": "code",
   "execution_count": 59,
   "metadata": {},
   "outputs": [
    {
     "data": {
      "text/plain": [
       "{'history': 80, 'mechanics': 60, 'chemistry': 30}"
      ]
     },
     "execution_count": 59,
     "metadata": {},
     "output_type": "execute_result"
    }
   ],
   "source": [
    "Pranab.marks"
   ]
  },
  {
   "cell_type": "code",
   "execution_count": 60,
   "metadata": {},
   "outputs": [
    {
     "data": {
      "text/plain": [
       "{'history': 50, 'mechanics': 80, 'chemistry': 90}"
      ]
     },
     "execution_count": 60,
     "metadata": {},
     "output_type": "execute_result"
    }
   ],
   "source": [
    "akansha.marks"
   ]
  },
  {
   "cell_type": "code",
   "execution_count": 61,
   "metadata": {},
   "outputs": [
    {
     "name": "stdout",
     "output_type": "stream",
     "text": [
      "akansha srivastava\n"
     ]
    }
   ],
   "source": [
    "print(Student.find_topper())"
   ]
  },
  {
   "cell_type": "code",
   "execution_count": 64,
   "metadata": {},
   "outputs": [
    {
     "name": "stdout",
     "output_type": "stream",
     "text": [
      "mohit chouhan\n",
      "rohit chouhan\n"
     ]
    }
   ],
   "source": [
    "for obj in Student.find_failed():\n",
    "    print(obj)"
   ]
  },
  {
   "cell_type": "code",
   "execution_count": 66,
   "metadata": {},
   "outputs": [
    {
     "name": "stdout",
     "output_type": "stream",
     "text": [
      "mohit chouhan\n"
     ]
    }
   ],
   "source": [
    "print(mohit)"
   ]
  },
  {
   "cell_type": "code",
   "execution_count": 12,
   "metadata": {},
   "outputs": [
    {
     "data": {
      "text/plain": [
       "<__main__.Student at 0x5f34400>"
      ]
     },
     "execution_count": 12,
     "metadata": {},
     "output_type": "execute_result"
    }
   ],
   "source": [
    "rohit"
   ]
  },
  {
   "cell_type": "code",
   "execution_count": 43,
   "metadata": {},
   "outputs": [
    {
     "data": {
      "text/plain": [
       "33.33333333333333"
      ]
     },
     "execution_count": 43,
     "metadata": {},
     "output_type": "execute_result"
    }
   ],
   "source": [
    "mohit.percentage"
   ]
  },
  {
   "cell_type": "code",
   "execution_count": 67,
   "metadata": {},
   "outputs": [
    {
     "data": {
      "text/plain": [
       "{'name': 'mohit chouhan',\n",
       " 'roll_no': 19,\n",
       " 'marks': {'history': 70, 'mechanics': 5, 'chemistry': 20},\n",
       " 'percentage': 31.666666666666664,\n",
       " 'fail': True}"
      ]
     },
     "execution_count": 67,
     "metadata": {},
     "output_type": "execute_result"
    }
   ],
   "source": [
    "mohit.__dict__"
   ]
  },
  {
   "cell_type": "code",
   "execution_count": 68,
   "metadata": {},
   "outputs": [
    {
     "data": {
      "text/plain": [
       "mappingproxy({'__module__': '__main__',\n",
       "              'student_list': [<__main__.Student at 0x4d17958>,\n",
       "               <__main__.Student at 0x4d17cb8>,\n",
       "               <__main__.Student at 0x4d177d8>,\n",
       "               <__main__.Student at 0x4d17c58>],\n",
       "              'total_marks': 300,\n",
       "              'fail_percent': 33,\n",
       "              '__init__': <function __main__.Student.__init__(self, name, roll_no)>,\n",
       "              'add_marks': <function __main__.Student.add_marks(self, marks)>,\n",
       "              '__str__': <function __main__.Student.__str__(self)>,\n",
       "              'find_topper': <classmethod at 0x4d296a0>,\n",
       "              'find_failed': <classmethod at 0x4d29700>,\n",
       "              '__dict__': <attribute '__dict__' of 'Student' objects>,\n",
       "              '__weakref__': <attribute '__weakref__' of 'Student' objects>,\n",
       "              '__doc__': None})"
      ]
     },
     "execution_count": 68,
     "metadata": {},
     "output_type": "execute_result"
    }
   ],
   "source": [
    "Student.__dict__"
   ]
  },
  {
   "cell_type": "code",
   "execution_count": 69,
   "metadata": {},
   "outputs": [],
   "source": [
    "# static method\n",
    "# neither takes self, nor cls.\n",
    "# though it works for class.\n",
    "# static mehtod does not care about either class var or object var"
   ]
  },
  {
   "cell_type": "code",
   "execution_count": 74,
   "metadata": {},
   "outputs": [],
   "source": [
    "class Student:\n",
    "    student_list = []\n",
    "    total_marks = 300\n",
    "    fail_percent = 33\n",
    "    def __init__(self,name,roll_no):\n",
    "        self.name = name\n",
    "        self.roll_no = roll_no\n",
    "        self.marks = {\"history\":0,\"mechanics\":0,\"chemistry\":0}\n",
    "        Student.student_list.append(self)\n",
    "        \n",
    "    def add_marks(self,marks):\n",
    "        self.marks = marks\n",
    "        self.percentage = self.percent_formula(sum(marks.values()),Student.total_marks)\n",
    "        if self.percentage<Student.fail_percent:\n",
    "            self.fail = True\n",
    "        else:\n",
    "            self.fail = False\n",
    "\n",
    "    def __str__(self):\n",
    "        return self.name\n",
    "    \n",
    "    @classmethod\n",
    "    def find_topper(cls):\n",
    "        highest_percent = float(\"-inf\")\n",
    "        current_topper = cls.student_list[0]\n",
    "        for i in cls.student_list:\n",
    "            if i.percentage>highest_percent:\n",
    "                highest_percent = i.percentage\n",
    "                current_topper = i\n",
    "        return current_topper\n",
    "    \n",
    "    @classmethod\n",
    "    def find_failed(cls):\n",
    "        fail_list = []\n",
    "        for i in cls.student_list:\n",
    "            if i.fail == True:\n",
    "                fail_list.append(i)\n",
    "        return fail_list\n",
    "    \n",
    "    @staticmethod\n",
    "    def percent_formula(marks,total_marks):\n",
    "        percent = (marks/total_marks)*100 + 10 # bonus 10 for pandemic\n",
    "        if percent > 100:\n",
    "            percent = 100\n",
    "        return percent"
   ]
  },
  {
   "cell_type": "code",
   "execution_count": 75,
   "metadata": {},
   "outputs": [],
   "source": [
    "Pranab = Student(\"PRANAB KUMAR MOHARANA\",30)\n",
    "akansha = Student(\"akansha srivastava\",3)\n",
    "mohit = Student(\"mohit chouhan\",19)\n",
    "rohit = Student(\"rohit chouhan\",38)"
   ]
  },
  {
   "cell_type": "code",
   "execution_count": 76,
   "metadata": {},
   "outputs": [],
   "source": [
    "Pranab.add_marks({\"history\":80,\"mechanics\":60,\"chemistry\":30})\n",
    "akansha.add_marks({\"history\":50,\"mechanics\":80,\"chemistry\":90})\n",
    "mohit.add_marks({\"history\":70,\"mechanics\":5,\"chemistry\":20})\n",
    "rohit.add_marks({\"history\":10,\"mechanics\":30,\"chemistry\":30})"
   ]
  },
  {
   "cell_type": "code",
   "execution_count": 77,
   "metadata": {},
   "outputs": [
    {
     "name": "stdout",
     "output_type": "stream",
     "text": [
      "akansha srivastava\n"
     ]
    }
   ],
   "source": [
    "print(Student.find_topper())"
   ]
  },
  {
   "cell_type": "code",
   "execution_count": 78,
   "metadata": {},
   "outputs": [],
   "source": [
    "for obj in Student.find_failed():\n",
    "    print(obj)"
   ]
  },
  {
   "cell_type": "code",
   "execution_count": null,
   "metadata": {},
   "outputs": [],
   "source": [
    "# getters and setters"
   ]
  },
  {
   "cell_type": "code",
   "execution_count": 79,
   "metadata": {},
   "outputs": [
    {
     "data": {
      "text/plain": [
       "41.666666666666664"
      ]
     },
     "execution_count": 79,
     "metadata": {},
     "output_type": "execute_result"
    }
   ],
   "source": [
    "mohit.percentage"
   ]
  },
  {
   "cell_type": "code",
   "execution_count": 80,
   "metadata": {},
   "outputs": [],
   "source": [
    "mohit.percentage = 95"
   ]
  },
  {
   "cell_type": "code",
   "execution_count": 81,
   "metadata": {},
   "outputs": [
    {
     "data": {
      "text/plain": [
       "95"
      ]
     },
     "execution_count": 81,
     "metadata": {},
     "output_type": "execute_result"
    }
   ],
   "source": [
    "mohit.percentage"
   ]
  },
  {
   "cell_type": "code",
   "execution_count": 109,
   "metadata": {},
   "outputs": [],
   "source": [
    "class Student:\n",
    "    student_list = []\n",
    "    total_marks = 300\n",
    "    fail_percent = 33\n",
    "    def __init__(self,name,roll_no):\n",
    "        self.name = name\n",
    "        self.roll_no = roll_no\n",
    "        self.marks = {\"history\":0,\"mechanics\":0,\"chemistry\":0}\n",
    "        Student.student_list.append(self)\n",
    "        \n",
    "    def add_marks(self,marks):\n",
    "        self.marks = marks\n",
    "        self.__percentage = self.percent_formula(sum(marks.values()),Student.total_marks)\n",
    "        if self.__percentage<Student.fail_percent:\n",
    "            self.fail = True\n",
    "        else:\n",
    "            self.fail = False\n",
    "\n",
    "    def __str__(self):\n",
    "        return self.name\n",
    "    \n",
    "    @classmethod\n",
    "    def find_topper(cls):\n",
    "        highest_percent = float(\"-inf\")\n",
    "        current_topper = cls.student_list[0]\n",
    "        for i in cls.student_list:\n",
    "            if i.__percentage>highest_percent:\n",
    "                highest_percent = i.__percentage\n",
    "                current_topper = i\n",
    "        return current_topper\n",
    "    \n",
    "    @classmethod\n",
    "    def find_failed(cls):\n",
    "        fail_list = []\n",
    "        for i in cls.student_list:\n",
    "            if i.fail == True:\n",
    "                fail_list.append(i)\n",
    "        return fail_list\n",
    "    \n",
    "    @staticmethod\n",
    "    def percent_formula(marks,total_marks):\n",
    "        percent = (marks/total_marks)*100 + 10 # bonus 10 for pandemic\n",
    "        if percent > 100:\n",
    "            percent = 100\n",
    "        return percent\n",
    "    \n",
    "    def get_percentage(self):\n",
    "        return self.__percentage\n",
    "    \n",
    "    def set_percentage(self,percent):\n",
    "        self.__percentage = percent"
   ]
  },
  {
   "cell_type": "code",
   "execution_count": 110,
   "metadata": {},
   "outputs": [],
   "source": [
    "Pranab = Student(\"PRANAB KUMAR MOHARANA\",30)\n",
    "akansha = Student(\"akansha srivastava\",3)\n",
    "mohit = Student(\"mohit chouhan\",19)\n",
    "rohit = Student(\"rohit chouhan\",38)"
   ]
  },
  {
   "cell_type": "code",
   "execution_count": 111,
   "metadata": {},
   "outputs": [],
   "source": [
    "Pranab.add_marks({\"history\":80,\"mechanics\":60,\"chemistry\":30})\n",
    "akansha.add_marks({\"history\":50,\"mechanics\":80,\"chemistry\":90})\n",
    "mohit.add_marks({\"history\":70,\"mechanics\":5,\"chemistry\":20})\n",
    "rohit.add_marks({\"history\":10,\"mechanics\":30,\"chemistry\":30})"
   ]
  },
  {
   "cell_type": "code",
   "execution_count": 112,
   "metadata": {},
   "outputs": [
    {
     "name": "stdout",
     "output_type": "stream",
     "text": [
      "akansha srivastava\n"
     ]
    }
   ],
   "source": [
    "print(Student.find_topper())"
   ]
  },
  {
   "cell_type": "code",
   "execution_count": 113,
   "metadata": {},
   "outputs": [],
   "source": [
    "for obj in Student.find_failed():\n",
    "    print(obj)"
   ]
  },
  {
   "cell_type": "code",
   "execution_count": 114,
   "metadata": {},
   "outputs": [
    {
     "name": "stdout",
     "output_type": "stream",
     "text": [
      "41.666666666666664\n"
     ]
    }
   ],
   "source": [
    "print(mohit.get_percentage())"
   ]
  },
  {
   "cell_type": "code",
   "execution_count": 116,
   "metadata": {},
   "outputs": [],
   "source": [
    "# getters and setters"
   ]
  },
  {
   "cell_type": "code",
   "execution_count": 117,
   "metadata": {},
   "outputs": [],
   "source": [
    "mohit.set_percentage(99)"
   ]
  },
  {
   "cell_type": "code",
   "execution_count": 118,
   "metadata": {},
   "outputs": [
    {
     "name": "stdout",
     "output_type": "stream",
     "text": [
      "99\n"
     ]
    }
   ],
   "source": [
    "print(mohit.get_percentage())"
   ]
  },
  {
   "cell_type": "code",
   "execution_count": null,
   "metadata": {},
   "outputs": [],
   "source": []
  }
 ],
 "metadata": {
  "kernelspec": {
   "display_name": "Python 3",
   "language": "python",
   "name": "python3"
  },
  "language_info": {
   "codemirror_mode": {
    "name": "ipython",
    "version": 3
   },
   "file_extension": ".py",
   "mimetype": "text/x-python",
   "name": "python",
   "nbconvert_exporter": "python",
   "pygments_lexer": "ipython3",
   "version": "3.8.3"
  }
 },
 "nbformat": 4,
 "nbformat_minor": 4
}
