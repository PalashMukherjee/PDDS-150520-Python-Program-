{
 "cells": [
  {
   "cell_type": "code",
   "execution_count": 1,
   "metadata": {},
   "outputs": [],
   "source": [
    "# Quiz - 3 LIST | TUPLE -> FRIDAY,SATURDAY,SUNDAY\n",
    "# Quiz - 4 DICT | SET   -> FRIDAY,SATURDAY,SUNDAY\n",
    "\n",
    "# ASSIGNMENT - 1  --> TIMINGS WILL BE SENT ON MAIL: MOST PROBABLY SATURDAY AND SUNDAY\n",
    "\n",
    "\n",
    "# homwork optional\n",
    "# advance homework super super optional"
   ]
  },
  {
   "cell_type": "code",
   "execution_count": null,
   "metadata": {},
   "outputs": [],
   "source": [
    "## REVISION\n",
    "\n",
    "PYTHOON DATA TYPES: NUMBERS(INT AND FLOAT),STRING,LIST,TUPLE,DICT,SET,\n",
    "    \n",
    "IMMUTABLE: NO UPDATE,DLETE, METHODS\n",
    "    NUMBERS\n",
    "    STRINGS\n",
    "    TUPLES\n",
    "    \n",
    "MUTABLE: UPDATE,DELETE\n",
    "    LIST\n",
    "    DICT\n",
    "    SET\n",
    "    \n",
    "ORDERED? INDEXING AND SLICING\n",
    "    LIST\n",
    "    STRING\n",
    "    TUPLES\n",
    "    \n",
    "UNORDRED: SET,DICT(WITH AN EXCEPTION? SEE DOWN)\n",
    "    \n",
    "HETERO? LIST,TUPLE,SET,DICT\n",
    "\n",
    "ITERABLES? WHICH CAN BE LOOPED OVER:\n",
    "    STRRINGS\n",
    "    SET\n",
    "    LIST\n",
    "    DICT\n",
    "    RANGE() (FUN)\n",
    "    TUPLES\n",
    "    \n",
    "    \n",
    "NOT ITERABBLES? NUMMBBERS\n",
    "\n",
    "2 MOST IMP PROPERTY OF DICT AND SET?\n",
    "1)KEY IS UNIQUE\n",
    "2)KEYS ARE IMMUTABLE\n",
    "    \n"
   ]
  },
  {
   "cell_type": "code",
   "execution_count": 6,
   "metadata": {},
   "outputs": [
    {
     "name": "stdout",
     "output_type": "stream",
     "text": [
      "python\n",
      "java\n"
     ]
    }
   ],
   "source": [
    "# bool? (True/False):\n",
    "#     Comaprisoon ==,!=,<,>\n",
    "#     Identity is , is not \n",
    "#     Membership? in , not in\n",
    "#     [],None,{}\n",
    "#     Numbers\n",
    "\n",
    "# == values\n",
    "# is memloc\n",
    "\n",
    "# enumerate?\n",
    "# for index,value = in enumerate(iterable):\n",
    "    \n",
    "    \n",
    "dict = {\"python\":3,\"java\":8}\n",
    "\n",
    "for key,value in dict.items():\n",
    "    print(key)\n",
    "\n",
    "for-else?\n",
    "\n",
    "if-else?\n",
    "\n",
    "    "
   ]
  },
  {
   "cell_type": "code",
   "execution_count": 10,
   "metadata": {},
   "outputs": [
    {
     "name": "stdout",
     "output_type": "stream",
     "text": [
      "1\n",
      "2\n",
      "\n",
      "3\n",
      "we are in else part\n"
     ]
    }
   ],
   "source": [
    "for i in range(1,4):\n",
    "    if i==3:\n",
    "        print(\"\")\n",
    "    print(i)\n",
    "else:\n",
    "    print(\"we are in else part\")"
   ]
  },
  {
   "cell_type": "code",
   "execution_count": 11,
   "metadata": {},
   "outputs": [],
   "source": [
    "# ord(),chr()?"
   ]
  },
  {
   "cell_type": "markdown",
   "metadata": {},
   "source": [
    "### Q1)Reverse key value in a dictionary\n",
    "Input : { 'a':20, 'b':20, 'c':22 , 'd':20}\n",
    "\n",
    "Output : {20: ['a', 'b', 'd'], 22: 'c'}"
   ]
  },
  {
   "cell_type": "code",
   "execution_count": 16,
   "metadata": {},
   "outputs": [
    {
     "name": "stdout",
     "output_type": "stream",
     "text": [
      "{20: ['a', 'b', 'd'], 22: 'c'}\n"
     ]
    }
   ],
   "source": [
    "# 7:33\n",
    "\n",
    "db = { 'a':20, 'b':20, 'c':22 , 'd':20}\n",
    "\n",
    "newdb = {20:[\"a\",\"b\"}\n",
    "\n",
    "for k,v in db.items():\n",
    "    # if v is appearing first time as a key\n",
    "    if v not in newdb:\n",
    "        newdb[v] = k\n",
    "    # if v is appearing not first time\n",
    "    else:\n",
    "        # if value is not yet a list, create one\n",
    "        if type(newdb[v]) != type([]):\n",
    "            temp = newdb[v]\n",
    "            newdb[v] = [temp,k]\n",
    "        # if value is a list, append k here    \n",
    "        else:\n",
    "            newdb[v].append(k)\n",
    "             \n",
    "print(newdb)"
   ]
  },
  {
   "cell_type": "code",
   "execution_count": 17,
   "metadata": {},
   "outputs": [],
   "source": [
    "# try to understand it after else part ## homework"
   ]
  },
  {
   "cell_type": "markdown",
   "metadata": {},
   "source": [
    "## Q2.find the missing number in given integer array of 1 to 10.\n",
    "    l = [1,2,3,4,5,6,7,7,9,10]\n",
    "\n",
    "\n",
    "### Intuition:\n",
    " => Range(1,11)\n",
    "\n",
    " => Sum of n natural nos : n (n+1) / 2\n",
    "     sum => 1 to 10 \n",
    "     sum_list   \n",
    "     missing element = sum - sum_list \n",
    "\n",
    "=> Sets  only unique elemnts "
   ]
  },
  {
   "cell_type": "code",
   "execution_count": 18,
   "metadata": {},
   "outputs": [
    {
     "name": "stdout",
     "output_type": "stream",
     "text": [
      "{1, 2, 3, 4, 5, 6, 7, 9, 10}\n"
     ]
    }
   ],
   "source": [
    "l = [1,2,3,4,5,6,7,7,9,10]\n",
    "set1 = set(l)\n",
    "\n",
    "print(set1)\n",
    "\n",
    "# 7:58"
   ]
  },
  {
   "cell_type": "code",
   "execution_count": 19,
   "metadata": {},
   "outputs": [
    {
     "name": "stdout",
     "output_type": "stream",
     "text": [
      "[8]\n"
     ]
    }
   ],
   "source": [
    "all_nums = list(range(1,11))\n",
    "l = [1,2,3,4,5,6,7,7,9,10]\n",
    "missing_element = []\n",
    "\n",
    "for value in all_nums:\n",
    "    if value not in l:\n",
    "        missing_element.append(value)\n",
    "        \n",
    "print(missing_element)"
   ]
  },
  {
   "cell_type": "code",
   "execution_count": 23,
   "metadata": {},
   "outputs": [
    {
     "name": "stdout",
     "output_type": "stream",
     "text": [
      "55.0\n",
      "8.0\n"
     ]
    }
   ],
   "source": [
    "l = set([1,2,3,4,5,6,7,7,9,10])\n",
    "n = 10\n",
    "\n",
    "expected_sum = n*(n+1)/2\n",
    "print(expected_sum)\n",
    "\n",
    "actual_sum = sum(l)\n",
    "\n",
    "missing_no = expected_sum-actual_sum\n",
    "\n",
    "print(missing_no)"
   ]
  },
  {
   "cell_type": "code",
   "execution_count": 25,
   "metadata": {},
   "outputs": [
    {
     "name": "stdout",
     "output_type": "stream",
     "text": [
      "{8, 9}\n"
     ]
    }
   ],
   "source": [
    "l = set([1,2,3,4,5,6,7,7,10])\n",
    "all_nums = set(list(range(1,11)))\n",
    "print(all_nums.difference(l))"
   ]
  },
  {
   "cell_type": "code",
   "execution_count": 27,
   "metadata": {},
   "outputs": [
    {
     "name": "stdout",
     "output_type": "stream",
     "text": [
      "<class 'int'>\n",
      "<class 'int'>\n"
     ]
    }
   ],
   "source": [
    "dict1 = {\"python\":3,\"java\":8}\n",
    "\n",
    "for k,v in dict1.items():\n",
    "    print(type(v))"
   ]
  },
  {
   "cell_type": "markdown",
   "metadata": {},
   "source": [
    "## Q3 Find an element in array such that sum of left array is equal to sum of right array.\n",
    "\n",
    "    l1 = [1,2,3,1,1,1]\n",
    "    l2 = [1,2,1,1,5,1,4]\n",
    "\n",
    "### Intuition \n",
    "    Basic Method:\n",
    "    1.) What is the most basic way? For each element sum left side and right side and check if they are equal?\n",
    "    \n",
    "    Amazing Method:\n",
    "    1.)think in terms of cumulative sum? and total sum? Recognize pattern"
   ]
  },
  {
   "cell_type": "code",
   "execution_count": 29,
   "metadata": {},
   "outputs": [],
   "source": [
    "l1 = [1,2,3,1,1,1]  \n",
    "# left = 3 , right = 3\n",
    "\n",
    "l2 = [1,2,1,1,5,1,4]\n",
    "\n",
    "index = 2"
   ]
  },
  {
   "cell_type": "code",
   "execution_count": 33,
   "metadata": {},
   "outputs": [
    {
     "data": {
      "text/plain": [
       "3"
      ]
     },
     "execution_count": 33,
     "metadata": {},
     "output_type": "execute_result"
    }
   ],
   "source": [
    "sum(l1[:i])"
   ]
  },
  {
   "cell_type": "code",
   "execution_count": 34,
   "metadata": {},
   "outputs": [
    {
     "data": {
      "text/plain": [
       "3"
      ]
     },
     "execution_count": 34,
     "metadata": {},
     "output_type": "execute_result"
    }
   ],
   "source": [
    "sum(l1[i+1:])"
   ]
  },
  {
   "cell_type": "code",
   "execution_count": 38,
   "metadata": {},
   "outputs": [
    {
     "name": "stdout",
     "output_type": "stream",
     "text": [
      "index_position =  2 element is =  3\n"
     ]
    }
   ],
   "source": [
    "for i in range(len(l1)):\n",
    "    left = sum(l1[:i])\n",
    "    right = sum(l1[i+1:])\n",
    "    if left==right:\n",
    "        print(\"index_position = \",i,\"element is = \",l1[i])"
   ]
  },
  {
   "cell_type": "code",
   "execution_count": 43,
   "metadata": {},
   "outputs": [
    {
     "name": "stdout",
     "output_type": "stream",
     "text": [
      "[1, 3, 4, 5, 10, 11, 15]\n",
      "index_position =  4 element is =  5\n"
     ]
    }
   ],
   "source": [
    "l1 = [1,2,1,1,5,1,4]\n",
    "\n",
    "# 8:32\n",
    "\n",
    "cumulative_sum = [1]\n",
    "\n",
    "for i in range(1,len(l1)):\n",
    "    cumulative_sum.append(cumulative_sum[i-1]+l1[i])\n",
    "    \n",
    "print(cumulative_sum)\n",
    "\n",
    "total_sum = cumulative_sum[-1]\n",
    "\n",
    "for i in range(len(l1)):\n",
    "    right = total_sum - cumulative_sum[i]\n",
    "    left = cumulative_sum[i-1] # cumulative_sum[i] - l[i]\n",
    "    if left==right:\n",
    "        print(\"index_position = \",i,\"element is = \",l1[i])"
   ]
  },
  {
   "cell_type": "markdown",
   "metadata": {},
   "source": [
    "## Q4.Write a program to find the first non repeated character of a given String of small letter alphabets\n",
    "    string1 = \"hellopython\"  =>e\n",
    "    string2 = \"appleappleok\"  =>o\n",
    "\n",
    "### Intuition:\n",
    "    1.)Is it good to use something which is unordered? why why not?\n",
    "    2.)Can we use list to update each index based on the ord value of alphabets?\n",
    "    3.)if yes, than how to use that list to find out first non repeated charater?\n",
    "    \n",
    "    Can we use dictionary? If we have Python 3.6+?"
   ]
  },
  {
   "cell_type": "code",
   "execution_count": 45,
   "metadata": {},
   "outputs": [
    {
     "name": "stdout",
     "output_type": "stream",
     "text": [
      "[1.0, 0, 0, 0, 1.0, 0, 0, 2.0, 0, 0, 0, 2.0, 0, 1.0, 2.0, 1.0, 0, 0, 0, 1.0, 0, 0, 0, 0, 1.0, 0]\n"
     ]
    }
   ],
   "source": [
    "list_of_alphabets = [0]*26\n",
    "\n",
    "string1 = \"hellopythona\"\n",
    "\n",
    "for char in string1:\n",
    "    list_of_alphabets[ord(char)-97]+=1. # a+=b ==>> a = a+b\n",
    "\n",
    "print(list_of_alphabets)"
   ]
  },
  {
   "cell_type": "code",
   "execution_count": 46,
   "metadata": {},
   "outputs": [
    {
     "name": "stdout",
     "output_type": "stream",
     "text": [
      "e\n"
     ]
    }
   ],
   "source": [
    "for char in string1:\n",
    "    if list_of_alphabets[ord(char)-97] == 1:\n",
    "        print(char)\n",
    "        break\n",
    "        \n",
    "## homework: Print last char which appeared"
   ]
  },
  {
   "cell_type": "markdown",
   "metadata": {},
   "source": [
    "## can we use dictionaries here?\n",
    "\n",
    "Are dictionaries ordered in Python 3.6+?\n",
    "\n",
    "They are insertion ordered[1]. As of Python 3.6, for the CPython implementation of Python, dictionaries remember the order of\n",
    "items inserted. This is considered an implementation detail in Python 3.6; you need to use OrderedDict if you want insertion\n",
    "ordering that's guaranteed across other implementations of Python (and other ordered behavior[1])."
   ]
  },
  {
   "cell_type": "code",
   "execution_count": 48,
   "metadata": {},
   "outputs": [],
   "source": [
    "## homework : use dictionary to solve q4"
   ]
  },
  {
   "cell_type": "code",
   "execution_count": 49,
   "metadata": {},
   "outputs": [],
   "source": [
    "# Advance homework q5"
   ]
  },
  {
   "cell_type": "markdown",
   "metadata": {},
   "source": [
    "## Q5 .Given 3 strings: first,  second, and third.Third String is said to be a shuffle of first and second if it can be formed by\n",
    "interleaving the characters of first and second String in a way that maintains the left to right ordering of the characters\n",
    "from each string.\n",
    "\n",
    "For example, given first = \"abc\" and second = \"def\",  third = \"dabecf\"  is a valid shuffle since it preserves the character \n",
    "ordering of the two strings. So, given these 3 strings write a program that detects whether the third String is a valid shuffle\n",
    "of first and second String.\n",
    "\n",
    "### Intuition:\n",
    "     1 Iterate over s3 \n",
    "     2. Check if char is present in S1 or S2 \n",
    "     3. s1_pointer = 1 s2_pointer = 1 "
   ]
  },
  {
   "cell_type": "code",
   "execution_count": null,
   "metadata": {},
   "outputs": [],
   "source": []
  }
 ],
 "metadata": {
  "kernelspec": {
   "display_name": "Python 3",
   "language": "python",
   "name": "python3"
  },
  "language_info": {
   "codemirror_mode": {
    "name": "ipython",
    "version": 3
   },
   "file_extension": ".py",
   "mimetype": "text/x-python",
   "name": "python",
   "nbconvert_exporter": "python",
   "pygments_lexer": "ipython3",
   "version": "3.7.4"
  }
 },
 "nbformat": 4,
 "nbformat_minor": 2
}
