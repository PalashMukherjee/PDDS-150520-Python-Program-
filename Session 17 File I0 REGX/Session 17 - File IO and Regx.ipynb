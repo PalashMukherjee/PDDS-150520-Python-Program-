{
 "cells": [
  {
   "cell_type": "code",
   "execution_count": 2,
   "metadata": {},
   "outputs": [
    {
     "name": "stdout",
     "output_type": "stream",
     "text": [
      "rohan MIT\n"
     ]
    }
   ],
   "source": [
    "## Revision\n",
    "\n",
    "# Default arguments?\n",
    "\n",
    "def tast(name,college=\"MIT\"):\n",
    "    print(name,college)\n",
    "    \n",
    "tast(\"rohan\")"
   ]
  },
  {
   "cell_type": "code",
   "execution_count": 3,
   "metadata": {},
   "outputs": [
    {
     "name": "stdout",
     "output_type": "stream",
     "text": [
      "mohan AIB\n"
     ]
    }
   ],
   "source": [
    "# keyword arguments?\n",
    "\n",
    "def tast(name,college=\"MIT\"):\n",
    "    print(name,college)\n",
    "\n",
    "tast(college=\"AIB\",name=\"mohan\")"
   ]
  },
  {
   "cell_type": "code",
   "execution_count": 4,
   "metadata": {},
   "outputs": [],
   "source": [
    "# Variable arguments? \n",
    "\n",
    "# * =>tuple\n",
    "# ** => dict"
   ]
  },
  {
   "cell_type": "code",
   "execution_count": 5,
   "metadata": {},
   "outputs": [],
   "source": [
    "# package and modules? \n",
    "\n",
    "# __init__.py file inside package?\n",
    "\n",
    "# Package initializer.\n",
    "\n",
    "# import package\n",
    "\n",
    "# dir()"
   ]
  },
  {
   "cell_type": "code",
   "execution_count": 6,
   "metadata": {},
   "outputs": [],
   "source": [
    "# __name__?\n",
    "\n",
    "# if __name__ == \"__main__\":\n",
    "    \n",
    "# module1.py. __all__ = ['spacex','ibm']\n",
    "\n",
    "# from module1 import *"
   ]
  },
  {
   "cell_type": "code",
   "execution_count": 7,
   "metadata": {},
   "outputs": [],
   "source": [
    "# file => apple.py\n",
    "\n",
    "# print(__name__)\n",
    "\n",
    "# python apple.py\n",
    "\n",
    "# __name__ == __main__:\n",
    "#     unit test\n",
    "\n",
    "# import apple\n",
    "\n"
   ]
  },
  {
   "cell_type": "code",
   "execution_count": 8,
   "metadata": {},
   "outputs": [],
   "source": [
    "## file operations"
   ]
  },
  {
   "cell_type": "code",
   "execution_count": 9,
   "metadata": {},
   "outputs": [],
   "source": [
    "# modes: r,r+,w,w+,a,a+\n",
    "    \n",
    "# diff b/w=> r+ and w+\n",
    "\n",
    "# w+ overwrites, create a new file if not present.\n",
    "# r+ does not do that."
   ]
  },
  {
   "cell_type": "code",
   "execution_count": 18,
   "metadata": {},
   "outputs": [],
   "source": [
    "# how to write in a file\n",
    "fo = open(\"test1\",\"w+\")\n",
    "\n",
    "\n",
    "for i in range(1,10):\n",
    "    string_to_be_written = \"line\"+str(i)+\"\\n\"\n",
    "    fo.write(string_to_be_written)\n",
    "\n",
    "fo.close()"
   ]
  },
  {
   "cell_type": "code",
   "execution_count": 16,
   "metadata": {},
   "outputs": [],
   "source": [
    "# read(size)\n",
    "\n",
    "# if the size parameter is not given, it returns till the EOF."
   ]
  },
  {
   "cell_type": "code",
   "execution_count": 21,
   "metadata": {},
   "outputs": [
    {
     "name": "stdout",
     "output_type": "stream",
     "text": [
      "line1\n",
      "line2\n",
      "line3\n",
      "line4\n",
      "line5\n",
      "line6\n",
      "line7\n",
      "line8\n",
      "line9\n",
      "\n"
     ]
    }
   ],
   "source": [
    "fo = open(\"test1\",\"r+\")\n",
    "\n",
    "content = fo.read()\n",
    "\n",
    "print(content)\n",
    "\n",
    "fo.close()"
   ]
  },
  {
   "cell_type": "code",
   "execution_count": 27,
   "metadata": {},
   "outputs": [
    {
     "name": "stdout",
     "output_type": "stream",
     "text": [
      "content2 is  e1\n",
      "\n",
      "lin\n"
     ]
    }
   ],
   "source": [
    "fo = open(\"test1\",\"r+\")\n",
    "\n",
    "content = fo.read(3)\n",
    "\n",
    "content2 = fo.read(3)\n",
    "\n",
    "print(\"content2 is \",content2)\n",
    "\n",
    "\n",
    "\n",
    "print(content)\n",
    "\n",
    "fo.close()"
   ]
  },
  {
   "cell_type": "code",
   "execution_count": 23,
   "metadata": {},
   "outputs": [
    {
     "name": "stdout",
     "output_type": "stream",
     "text": [
      "['line1\\n', 'line2\\n', 'line3\\n', 'line4\\n', 'line5\\n', 'line6\\n', 'line7\\n', 'line8\\n', 'line9\\n']\n"
     ]
    }
   ],
   "source": [
    "fo = open(\"test1\",\"r+\")\n",
    "\n",
    "content = fo.readlines()\n",
    "\n",
    "print(content)\n",
    "\n",
    "fo.close()"
   ]
  },
  {
   "cell_type": "code",
   "execution_count": 25,
   "metadata": {},
   "outputs": [],
   "source": [
    "# for line in content:\n",
    "#     print(line)"
   ]
  },
  {
   "cell_type": "code",
   "execution_count": 33,
   "metadata": {},
   "outputs": [
    {
     "name": "stdout",
     "output_type": "stream",
     "text": [
      "line1\n",
      "\n",
      "content2 is  line2\n",
      "\n"
     ]
    }
   ],
   "source": [
    "# what if we have a huge data, cannot fit into a memory: like you have 4 gb ram, filesize is 5gb.\n",
    "\n",
    "fo = open(\"test1\",\"r+\")\n",
    "\n",
    "content = fo.readline()\n",
    "\n",
    "print(content)\n",
    "\n",
    "content2 = fo.readline(10000)\n",
    "\n",
    "print(\"content2 is \",content2)\n",
    "\n",
    "fo.close()"
   ]
  },
  {
   "cell_type": "code",
   "execution_count": 35,
   "metadata": {},
   "outputs": [
    {
     "name": "stdout",
     "output_type": "stream",
     "text": [
      "content2 is  line1\n",
      "line2\n",
      "line3\n",
      "line4\n",
      "line5\n",
      "line6\n",
      "line7\n",
      "line8\n",
      "line9\n",
      "\n"
     ]
    }
   ],
   "source": [
    "fo = open(\"test1\",\"r+\")\n",
    "\n",
    "content2 = fo.read(10000)\n",
    "\n",
    "print(\"content2 is \",content2)\n",
    "\n",
    "fo.close()"
   ]
  },
  {
   "cell_type": "code",
   "execution_count": 36,
   "metadata": {},
   "outputs": [],
   "source": [
    "## encoodings - 'ASCII', 'UTF-8'  # by default python encoding for file is ASCII"
   ]
  },
  {
   "cell_type": "code",
   "execution_count": 37,
   "metadata": {},
   "outputs": [],
   "source": [
    "# KLJSDFLKJDFJLJDF;#$#^$%^$%^##$%-0==++"
   ]
  },
  {
   "cell_type": "code",
   "execution_count": 39,
   "metadata": {},
   "outputs": [],
   "source": [
    "fo = open(\"test_ascii\",\"w+\")\n",
    "\n",
    "fo.close()"
   ]
  },
  {
   "cell_type": "code",
   "execution_count": 41,
   "metadata": {},
   "outputs": [
    {
     "ename": "UnicodeDecodeError",
     "evalue": "'ascii' codec can't decode byte 0xd6 in position 0: ordinal not in range(128)",
     "output_type": "error",
     "traceback": [
      "\u001b[0;31m---------------------------------------------------------------------------\u001b[0m",
      "\u001b[0;31mUnicodeDecodeError\u001b[0m                        Traceback (most recent call last)",
      "\u001b[0;32m<ipython-input-41-954d2443ff52>\u001b[0m in \u001b[0;36m<module>\u001b[0;34m\u001b[0m\n\u001b[1;32m      1\u001b[0m \u001b[0mfo\u001b[0m \u001b[0;34m=\u001b[0m \u001b[0mopen\u001b[0m\u001b[0;34m(\u001b[0m\u001b[0;34m\"test_ascii\"\u001b[0m\u001b[0;34m,\u001b[0m\u001b[0;34m\"r+\"\u001b[0m\u001b[0;34m,\u001b[0m\u001b[0mencoding\u001b[0m\u001b[0;34m=\u001b[0m\u001b[0;34m'ascii'\u001b[0m\u001b[0;34m)\u001b[0m\u001b[0;34m\u001b[0m\u001b[0;34m\u001b[0m\u001b[0m\n\u001b[1;32m      2\u001b[0m \u001b[0;34m\u001b[0m\u001b[0m\n\u001b[0;32m----> 3\u001b[0;31m \u001b[0mcontent\u001b[0m \u001b[0;34m=\u001b[0m \u001b[0mfo\u001b[0m\u001b[0;34m.\u001b[0m\u001b[0mread\u001b[0m\u001b[0;34m(\u001b[0m\u001b[0;34m)\u001b[0m\u001b[0;34m\u001b[0m\u001b[0;34m\u001b[0m\u001b[0m\n\u001b[0m\u001b[1;32m      4\u001b[0m \u001b[0;34m\u001b[0m\u001b[0m\n\u001b[1;32m      5\u001b[0m \u001b[0mprint\u001b[0m\u001b[0;34m(\u001b[0m\u001b[0mcontent\u001b[0m\u001b[0;34m)\u001b[0m\u001b[0;34m\u001b[0m\u001b[0;34m\u001b[0m\u001b[0m\n",
      "\u001b[0;32m~/opt/anaconda3/lib/python3.7/encodings/ascii.py\u001b[0m in \u001b[0;36mdecode\u001b[0;34m(self, input, final)\u001b[0m\n\u001b[1;32m     24\u001b[0m \u001b[0;32mclass\u001b[0m \u001b[0mIncrementalDecoder\u001b[0m\u001b[0;34m(\u001b[0m\u001b[0mcodecs\u001b[0m\u001b[0;34m.\u001b[0m\u001b[0mIncrementalDecoder\u001b[0m\u001b[0;34m)\u001b[0m\u001b[0;34m:\u001b[0m\u001b[0;34m\u001b[0m\u001b[0;34m\u001b[0m\u001b[0m\n\u001b[1;32m     25\u001b[0m     \u001b[0;32mdef\u001b[0m \u001b[0mdecode\u001b[0m\u001b[0;34m(\u001b[0m\u001b[0mself\u001b[0m\u001b[0;34m,\u001b[0m \u001b[0minput\u001b[0m\u001b[0;34m,\u001b[0m \u001b[0mfinal\u001b[0m\u001b[0;34m=\u001b[0m\u001b[0;32mFalse\u001b[0m\u001b[0;34m)\u001b[0m\u001b[0;34m:\u001b[0m\u001b[0;34m\u001b[0m\u001b[0;34m\u001b[0m\u001b[0m\n\u001b[0;32m---> 26\u001b[0;31m         \u001b[0;32mreturn\u001b[0m \u001b[0mcodecs\u001b[0m\u001b[0;34m.\u001b[0m\u001b[0mascii_decode\u001b[0m\u001b[0;34m(\u001b[0m\u001b[0minput\u001b[0m\u001b[0;34m,\u001b[0m \u001b[0mself\u001b[0m\u001b[0;34m.\u001b[0m\u001b[0merrors\u001b[0m\u001b[0;34m)\u001b[0m\u001b[0;34m[\u001b[0m\u001b[0;36m0\u001b[0m\u001b[0;34m]\u001b[0m\u001b[0;34m\u001b[0m\u001b[0;34m\u001b[0m\u001b[0m\n\u001b[0m\u001b[1;32m     27\u001b[0m \u001b[0;34m\u001b[0m\u001b[0m\n\u001b[1;32m     28\u001b[0m \u001b[0;32mclass\u001b[0m \u001b[0mStreamWriter\u001b[0m\u001b[0;34m(\u001b[0m\u001b[0mCodec\u001b[0m\u001b[0;34m,\u001b[0m\u001b[0mcodecs\u001b[0m\u001b[0;34m.\u001b[0m\u001b[0mStreamWriter\u001b[0m\u001b[0;34m)\u001b[0m\u001b[0;34m:\u001b[0m\u001b[0;34m\u001b[0m\u001b[0;34m\u001b[0m\u001b[0m\n",
      "\u001b[0;31mUnicodeDecodeError\u001b[0m: 'ascii' codec can't decode byte 0xd6 in position 0: ordinal not in range(128)"
     ]
    }
   ],
   "source": [
    "fo = open(\"test_ascii\",\"r+\",encoding='ascii')\n",
    "\n",
    "content = fo.read()\n",
    "\n",
    "print(content)\n",
    "\n",
    "fo.close()"
   ]
  },
  {
   "cell_type": "code",
   "execution_count": 42,
   "metadata": {},
   "outputs": [
    {
     "name": "stdout",
     "output_type": "stream",
     "text": [
      "֍\n"
     ]
    }
   ],
   "source": [
    "fo = open(\"test_ascii\",\"r+\",encoding='utf-8')\n",
    "\n",
    "content = fo.read()\n",
    "\n",
    "print(content)\n",
    "\n",
    "fo.close()"
   ]
  },
  {
   "cell_type": "code",
   "execution_count": 44,
   "metadata": {},
   "outputs": [
    {
     "name": "stdout",
     "output_type": "stream",
     "text": [
      "<class '_io.TextIOWrapper'>\n",
      "<class 'str'>\n",
      "֍\n"
     ]
    }
   ],
   "source": [
    "fo = open(\"test_ascii\",\"r+\",encoding='utf-8')\n",
    "\n",
    "print(type(fo))\n",
    "\n",
    "content = fo.read()\n",
    "\n",
    "print(type(content))\n",
    "\n",
    "print(content)\n",
    "\n",
    "fo.close()"
   ]
  },
  {
   "cell_type": "code",
   "execution_count": 45,
   "metadata": {},
   "outputs": [],
   "source": [
    "# why file closing is important?"
   ]
  },
  {
   "cell_type": "code",
   "execution_count": 46,
   "metadata": {},
   "outputs": [
    {
     "name": "stdout",
     "output_type": "stream",
     "text": [
      "\n"
     ]
    }
   ],
   "source": [
    "#to save the file\n",
    "fo = open(\"test2\",\"w+\")\n",
    "\n",
    "\n",
    "for i in range(1,10):\n",
    "    string_to_be_written = \"line\"+str(i)+\"\\n\"\n",
    "    fo.write(string_to_be_written)\n",
    "\n",
    "fo2 = open(\"test2\",\"r+\")\n",
    "\n",
    "print(fo2.read())"
   ]
  },
  {
   "cell_type": "code",
   "execution_count": 47,
   "metadata": {},
   "outputs": [],
   "source": [
    "# memory will keep piling, and it might overshoot"
   ]
  },
  {
   "cell_type": "code",
   "execution_count": 48,
   "metadata": {},
   "outputs": [],
   "source": [
    "# iterables?? file_object"
   ]
  },
  {
   "cell_type": "code",
   "execution_count": 49,
   "metadata": {},
   "outputs": [
    {
     "name": "stdout",
     "output_type": "stream",
     "text": [
      "1\n"
     ]
    }
   ],
   "source": [
    "# iterators? small intro\n",
    "alist = [1,2,3,4,5]\n",
    "iterator_obj = iter(alist)\n",
    "\n",
    "print(next(iterator_obj))"
   ]
  },
  {
   "cell_type": "code",
   "execution_count": 50,
   "metadata": {},
   "outputs": [
    {
     "name": "stdout",
     "output_type": "stream",
     "text": [
      "2\n"
     ]
    }
   ],
   "source": [
    "print(next(iterator_obj))"
   ]
  },
  {
   "cell_type": "code",
   "execution_count": 51,
   "metadata": {},
   "outputs": [
    {
     "name": "stdout",
     "output_type": "stream",
     "text": [
      "3\n"
     ]
    }
   ],
   "source": [
    "print(next(iterator_obj))"
   ]
  },
  {
   "cell_type": "code",
   "execution_count": 57,
   "metadata": {},
   "outputs": [],
   "source": [
    "fo = open(\"test1\",\"r+\",encoding='utf-8')\n",
    "\n",
    "# print(next(fo))\n"
   ]
  },
  {
   "cell_type": "code",
   "execution_count": 54,
   "metadata": {},
   "outputs": [
    {
     "name": "stdout",
     "output_type": "stream",
     "text": [
      "line2\n",
      "\n"
     ]
    }
   ],
   "source": [
    "print(next(fo))"
   ]
  },
  {
   "cell_type": "code",
   "execution_count": 55,
   "metadata": {},
   "outputs": [
    {
     "name": "stdout",
     "output_type": "stream",
     "text": [
      "line3\n",
      "\n"
     ]
    }
   ],
   "source": [
    "print(next(fo))"
   ]
  },
  {
   "cell_type": "code",
   "execution_count": 56,
   "metadata": {},
   "outputs": [
    {
     "name": "stdout",
     "output_type": "stream",
     "text": [
      "line4\n",
      "\n",
      "line5\n",
      "\n",
      "line6\n",
      "\n",
      "line7\n",
      "\n",
      "line8\n",
      "\n",
      "line9\n",
      "\n"
     ]
    },
    {
     "ename": "StopIteration",
     "evalue": "",
     "output_type": "error",
     "traceback": [
      "\u001b[0;31m---------------------------------------------------------------------------\u001b[0m",
      "\u001b[0;31mStopIteration\u001b[0m                             Traceback (most recent call last)",
      "\u001b[0;32m<ipython-input-56-836fc95bd42d>\u001b[0m in \u001b[0;36m<module>\u001b[0;34m\u001b[0m\n\u001b[1;32m      5\u001b[0m \u001b[0mprint\u001b[0m\u001b[0;34m(\u001b[0m\u001b[0mnext\u001b[0m\u001b[0;34m(\u001b[0m\u001b[0mfo\u001b[0m\u001b[0;34m)\u001b[0m\u001b[0;34m)\u001b[0m\u001b[0;34m\u001b[0m\u001b[0;34m\u001b[0m\u001b[0m\n\u001b[1;32m      6\u001b[0m \u001b[0mprint\u001b[0m\u001b[0;34m(\u001b[0m\u001b[0mnext\u001b[0m\u001b[0;34m(\u001b[0m\u001b[0mfo\u001b[0m\u001b[0;34m)\u001b[0m\u001b[0;34m)\u001b[0m\u001b[0;34m\u001b[0m\u001b[0;34m\u001b[0m\u001b[0m\n\u001b[0;32m----> 7\u001b[0;31m \u001b[0mprint\u001b[0m\u001b[0;34m(\u001b[0m\u001b[0mnext\u001b[0m\u001b[0;34m(\u001b[0m\u001b[0mfo\u001b[0m\u001b[0;34m)\u001b[0m\u001b[0;34m)\u001b[0m\u001b[0;34m\u001b[0m\u001b[0;34m\u001b[0m\u001b[0m\n\u001b[0m\u001b[1;32m      8\u001b[0m \u001b[0mprint\u001b[0m\u001b[0;34m(\u001b[0m\u001b[0mnext\u001b[0m\u001b[0;34m(\u001b[0m\u001b[0mfo\u001b[0m\u001b[0;34m)\u001b[0m\u001b[0;34m)\u001b[0m\u001b[0;34m\u001b[0m\u001b[0;34m\u001b[0m\u001b[0m\n\u001b[1;32m      9\u001b[0m \u001b[0mprint\u001b[0m\u001b[0;34m(\u001b[0m\u001b[0mnext\u001b[0m\u001b[0;34m(\u001b[0m\u001b[0mfo\u001b[0m\u001b[0;34m)\u001b[0m\u001b[0;34m)\u001b[0m\u001b[0;34m\u001b[0m\u001b[0;34m\u001b[0m\u001b[0m\n",
      "\u001b[0;31mStopIteration\u001b[0m: "
     ]
    }
   ],
   "source": [
    "print(next(fo))\n",
    "print(next(fo))\n",
    "print(next(fo))\n",
    "print(next(fo))\n",
    "print(next(fo))\n",
    "print(next(fo))\n",
    "print(next(fo))\n",
    "print(next(fo))\n",
    "print(next(fo))"
   ]
  },
  {
   "cell_type": "code",
   "execution_count": 58,
   "metadata": {},
   "outputs": [
    {
     "name": "stdout",
     "output_type": "stream",
     "text": [
      "line1\n",
      "\n",
      "line2\n",
      "\n",
      "line3\n",
      "\n",
      "line4\n",
      "\n",
      "line5\n",
      "\n",
      "line6\n",
      "\n",
      "line7\n",
      "\n",
      "line8\n",
      "\n",
      "line9\n",
      "\n"
     ]
    }
   ],
   "source": [
    "for line in fo:\n",
    "    print(line)"
   ]
  },
  {
   "cell_type": "markdown",
   "metadata": {},
   "source": [
    "## Q1 Write to a file numbbers from 1 to 10 in diff lines, Read that file again and access each\n",
    "## value and print only even numbers."
   ]
  },
  {
   "cell_type": "code",
   "execution_count": 60,
   "metadata": {},
   "outputs": [],
   "source": [
    "# 8:32 type()"
   ]
  },
  {
   "cell_type": "code",
   "execution_count": 63,
   "metadata": {},
   "outputs": [],
   "source": [
    "fo = open(\"question\",\"w+\")\n",
    "\n",
    "\n",
    "for i in range(1,11):\n",
    "    string_to_be_written = str(i)+\"\\n\"\n",
    "    fo.write(string_to_be_written)\n",
    "\n",
    "fo.close()"
   ]
  },
  {
   "cell_type": "code",
   "execution_count": 65,
   "metadata": {},
   "outputs": [
    {
     "name": "stdout",
     "output_type": "stream",
     "text": [
      "2\n",
      "4\n",
      "6\n",
      "8\n",
      "10\n"
     ]
    }
   ],
   "source": [
    "fo = open(\"question\",\"r+\")\n",
    "\n",
    "for line in fo.readlines():\n",
    "    no = int(line)\n",
    "    if no%2==0:\n",
    "        print(no)"
   ]
  },
  {
   "cell_type": "code",
   "execution_count": 66,
   "metadata": {},
   "outputs": [
    {
     "name": "stdout",
     "output_type": "stream",
     "text": [
      "2\n",
      "4\n",
      "6\n",
      "8\n",
      "10\n"
     ]
    }
   ],
   "source": [
    "# closing file is imp?\n",
    "\n",
    "with open(\"question\",\"r+\") as fo:\n",
    "    for line in fo.readlines():\n",
    "        no = int(line)\n",
    "        if no%2==0:\n",
    "            print(no)\n",
    "    "
   ]
  },
  {
   "cell_type": "code",
   "execution_count": 67,
   "metadata": {},
   "outputs": [],
   "source": [
    "# tell(): finds the current position of fp\n",
    "# seek(): change the position of fp to desired place"
   ]
  },
  {
   "cell_type": "code",
   "execution_count": 70,
   "metadata": {},
   "outputs": [
    {
     "name": "stdout",
     "output_type": "stream",
     "text": [
      "tell is telling ==> 10\n",
      "content2 is  line1\n",
      "line\n"
     ]
    }
   ],
   "source": [
    "fo = open(\"test1\",\"r+\")\n",
    "\n",
    "content2 = fo.read(10)\n",
    "print(\"tell is telling ==>\",fo.tell())\n",
    "\n",
    "print(\"content2 is \",content2)\n",
    "\n",
    "fo.close()"
   ]
  },
  {
   "cell_type": "code",
   "execution_count": 71,
   "metadata": {},
   "outputs": [],
   "source": [
    "fo.seek(offset,referece_position)\n",
    "\n",
    "reference_position are:\n",
    "    0: start of the file\n",
    "    1: current position\n",
    "    2: end of the file"
   ]
  },
  {
   "cell_type": "code",
   "execution_count": 74,
   "metadata": {},
   "outputs": [
    {
     "name": "stdout",
     "output_type": "stream",
     "text": [
      "tell is telling ==> 10\n",
      "10\n",
      "after seeking 10\n",
      "content2 is  line1\n",
      "line\n"
     ]
    }
   ],
   "source": [
    "fo = open(\"test1\",\"r+\")\n",
    "\n",
    "content2 = fo.read(10)\n",
    "print(\"tell is telling ==>\",fo.tell())\n",
    "\n",
    "result = fo.seek(0,1)\n",
    "\n",
    "print(result)\n",
    "\n",
    "print(\"after seeking\",fo.tell())\n",
    "print(\"content2 is \",content2)\n",
    "\n",
    "fo.close()"
   ]
  },
  {
   "cell_type": "code",
   "execution_count": 75,
   "metadata": {},
   "outputs": [],
   "source": [
    "## homework? seek()"
   ]
  },
  {
   "cell_type": "markdown",
   "metadata": {},
   "source": [
    "## Regular Expression"
   ]
  },
  {
   "cell_type": "code",
   "execution_count": 79,
   "metadata": {},
   "outputs": [],
   "source": [
    "\"Screenshot-12-June-2020-8-48\"\n",
    "\n",
    "1) Pattern extraction\n",
    "2) Pattern Validaton\n",
    "\n",
    "\"sdhfjkskdlfjsldfj\" # invalid mail address.\n",
    "\"toking@notoking.com\" #valid \n",
    "\n",
    "# re-regular expression"
   ]
  },
  {
   "cell_type": "code",
   "execution_count": 80,
   "metadata": {},
   "outputs": [],
   "source": [
    "import re"
   ]
  },
  {
   "cell_type": "code",
   "execution_count": 81,
   "metadata": {},
   "outputs": [
    {
     "name": "stdout",
     "output_type": "stream",
     "text": [
      "['ab', 'ab']\n"
     ]
    }
   ],
   "source": [
    "s = \"abhdfgkljdfglab\"\n",
    "r = re.compile(\"ab\")\n",
    "l = re.findall(r,s)\n",
    "\n",
    "print(l)"
   ]
  },
  {
   "cell_type": "code",
   "execution_count": 82,
   "metadata": {},
   "outputs": [],
   "source": [
    "# Pattern includes Regx Metacharacters:\n",
    "    . => match with all the chars(alpha,digits,specialchars) except newline(\"\\n\") => single occurence\n",
    "    [] =>  a set of chars\n",
    "    [A-Z] => return us all the capital alpha (single occurence)\n",
    "    [a-z] => small (single occurence)\n",
    "    [A-Za-z] => small+capital (single occurence)\n",
    "    [0-9] =>digits, single occurence\n",
    "    + => atleast 1 or more occurence\n",
    "    * => 0 or more\n",
    "    ^ => start of the string\n",
    "    $ => ending of the string\n",
    "    {} count stuff\n",
    "    [a-z]{2}\n",
    "    [a-z]{3,4}\n",
    "    ? optional"
   ]
  },
  {
   "cell_type": "code",
   "execution_count": 84,
   "metadata": {},
   "outputs": [
    {
     "name": "stdout",
     "output_type": "stream",
     "text": [
      "['a', 'b', 'h', 'd', 'f', 'g', 'k', 'l', 'j', 'd', 'f', 'g', 'l', 'a', 'b', '@', '#', '$', '%', '#', '$', '%', '#', '3', '8', '4', '9', '5', '7', '3']\n"
     ]
    }
   ],
   "source": [
    "# .\n",
    "s = \"abhdfgkljdfglab@#$%#$%#3849573\\n\"\n",
    "r = re.compile(\".\")\n",
    "l = re.findall(r,s)\n",
    "\n",
    "print(l)"
   ]
  },
  {
   "cell_type": "code",
   "execution_count": 85,
   "metadata": {},
   "outputs": [
    {
     "name": "stdout",
     "output_type": "stream",
     "text": [
      "['a', 'a', '%', '%']\n"
     ]
    }
   ],
   "source": [
    "# []\n",
    "s = \"abhdfgkljdfglab@#$%#$%#3849573\\n\"\n",
    "r = re.compile(\"[%,a]\")\n",
    "l = re.findall(r,s)\n",
    "\n",
    "print(l)"
   ]
  },
  {
   "cell_type": "code",
   "execution_count": 87,
   "metadata": {},
   "outputs": [
    {
     "name": "stdout",
     "output_type": "stream",
     "text": [
      "['A', 'B', 'Z']\n"
     ]
    }
   ],
   "source": [
    "# [A-Z]\n",
    "s = \"abhdfgkljdfAglab@#$%#$%#3B84957Z3\\n\"\n",
    "r = re.compile(\"[A-Z]\")\n",
    "l = re.findall(r,s)\n",
    "\n",
    "print(l)"
   ]
  },
  {
   "cell_type": "code",
   "execution_count": 88,
   "metadata": {},
   "outputs": [
    {
     "name": "stdout",
     "output_type": "stream",
     "text": [
      "['a', 'b', 'h', 'd', 'f', 'g', 'k', 'l', 'j', 'd', 'f', 'g', 'l', 'a', 'b']\n"
     ]
    }
   ],
   "source": [
    "# [a-z]\n",
    "s = \"abhdfgkljdfAglab@#$%#$%#3B84957Z3\\n\"\n",
    "r = re.compile(\"[a-z]\")\n",
    "l = re.findall(r,s)\n",
    "\n",
    "print(l)"
   ]
  },
  {
   "cell_type": "code",
   "execution_count": 89,
   "metadata": {},
   "outputs": [
    {
     "name": "stdout",
     "output_type": "stream",
     "text": [
      "['a', 'b', 'h', 'd', 'f', 'g', 'k', 'l', 'j', 'd', 'f', 'A', 'g', 'l', 'a', 'b', 'B', 'Z']\n"
     ]
    }
   ],
   "source": [
    "# [a-z]\n",
    "s = \"abhdfgkljdfAglab@#$%#$%#3B84957Z3\\n\"\n",
    "r = re.compile(\"[A-Za-z]\")\n",
    "l = re.findall(r,s)\n",
    "\n",
    "print(l)"
   ]
  },
  {
   "cell_type": "code",
   "execution_count": 90,
   "metadata": {},
   "outputs": [
    {
     "name": "stdout",
     "output_type": "stream",
     "text": [
      "['3', '8', '4', '9', '5', '7', '3']\n"
     ]
    }
   ],
   "source": [
    "# [a-z]\n",
    "s = \"abhdfgkljdfAglab@#$%#$%#3B84957Z3\\n\"\n",
    "r = re.compile(\"[0-9]\")\n",
    "l = re.findall(r,s)\n",
    "\n",
    "print(l)"
   ]
  },
  {
   "cell_type": "code",
   "execution_count": 92,
   "metadata": {},
   "outputs": [
    {
     "name": "stdout",
     "output_type": "stream",
     "text": [
      "['3', '84957', '3']\n"
     ]
    }
   ],
   "source": [
    "# +\n",
    "s = \"abhdfgkljdfAglab@#$%#$%#3B84957Z3\\n\"\n",
    "r = re.compile(\"[0-9]+\")\n",
    "l = re.findall(r,s)\n",
    "\n",
    "print(l)"
   ]
  },
  {
   "cell_type": "code",
   "execution_count": 95,
   "metadata": {},
   "outputs": [
    {
     "name": "stdout",
     "output_type": "stream",
     "text": [
      "['', '', '', 'aa', '', '', '', '', '', '', '', '', '', 'aaaaaaaaaaaaaaaaaaaaaaaaaaaaaaaaaaa', '', '', 'a', '', '']\n"
     ]
    }
   ],
   "source": [
    "# +\n",
    "s = \"238aa497293482aaaaaaaaaaaaaaaaaaaaaaaaaaaaaaaaaaa04a8\"\n",
    "r = re.compile(\"a*\")\n",
    "l = re.findall(r,s)\n",
    "\n",
    "print(l)"
   ]
  },
  {
   "cell_type": "code",
   "execution_count": 96,
   "metadata": {},
   "outputs": [
    {
     "name": "stdout",
     "output_type": "stream",
     "text": [
      "['S']\n",
      "[]\n",
      "['S']\n",
      "[]\n"
     ]
    }
   ],
   "source": [
    "# ^\n",
    "r = re.compile(\"^S\")\n",
    "for string in [\"Screenshot-3492348\",\"Photo-34789284\",\"Screenshot-sjfdkl\",\"Handycam-45890328\"]:\n",
    "    l = re.findall(r,string)\n",
    "    print(l)"
   ]
  },
  {
   "cell_type": "code",
   "execution_count": 97,
   "metadata": {},
   "outputs": [
    {
     "name": "stdout",
     "output_type": "stream",
     "text": [
      "['8']\n",
      "[]\n",
      "[]\n",
      "['8']\n"
     ]
    }
   ],
   "source": [
    "# $ \n",
    "r = re.compile(\"8$\")\n",
    "for string in [\"Screenshot-3492348\",\"Photo-34789284\",\"Screenshot-sjfdkl\",\"Handycam-45890328\"]:\n",
    "    l = re.findall(r,string)\n",
    "    print(l)"
   ]
  },
  {
   "cell_type": "code",
   "execution_count": 103,
   "metadata": {},
   "outputs": [
    {
     "name": "stdout",
     "output_type": "stream",
     "text": [
      "['abcd123', 'xyz789']\n"
     ]
    }
   ],
   "source": [
    "# +\n",
    "s = \"abcd123xyz789\"\n",
    "r = re.compile(\"[a-z]{3,4}[0-9]{3}\")\n",
    "l = re.findall(r,s)\n",
    "\n",
    "print(l)"
   ]
  },
  {
   "cell_type": "code",
   "execution_count": null,
   "metadata": {},
   "outputs": [],
   "source": [
    "# seek()\n",
    "# rest part of re => 30mins\n",
    "\n",
    "\n",
    "# rohan_rathore@mit.com"
   ]
  }
 ],
 "metadata": {
  "kernelspec": {
   "display_name": "Python 3",
   "language": "python",
   "name": "python3"
  },
  "language_info": {
   "codemirror_mode": {
    "name": "ipython",
    "version": 3
   },
   "file_extension": ".py",
   "mimetype": "text/x-python",
   "name": "python",
   "nbconvert_exporter": "python",
   "pygments_lexer": "ipython3",
   "version": "3.7.4"
  }
 },
 "nbformat": 4,
 "nbformat_minor": 2
}
