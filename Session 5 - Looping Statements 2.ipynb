{
 "cells": [
  {
   "cell_type": "code",
   "execution_count": 1,
   "metadata": {},
   "outputs": [],
   "source": [
    "# 1)Python is dynamically typed:\n",
    "    \n",
    "variable = 23\n",
    "\n",
    "variable = \"python\""
   ]
  },
  {
   "cell_type": "code",
   "execution_count": 2,
   "metadata": {},
   "outputs": [],
   "source": [
    "# 2) Python is interpretted , what does it mean?"
   ]
  },
  {
   "cell_type": "code",
   "execution_count": 6,
   "metadata": {},
   "outputs": [
    {
     "name": "stdout",
     "output_type": "stream",
     "text": [
      "34\n",
      "initially the data type is <class 'str'>\n",
      "finally the data type is <class 'int'>\n"
     ]
    }
   ],
   "source": [
    "# how to take an input?\n",
    "\n",
    "x = input()\n",
    "\n",
    "print(\"initially the data type is\",type(x))\n",
    "\n",
    "x = int(x)  # typcasting\n",
    "\n",
    "print(\"finally the data type is\",type(x))\n",
    "\n",
    "# print(x,\"and it's type = \",type(x))"
   ]
  },
  {
   "cell_type": "code",
   "execution_count": 10,
   "metadata": {},
   "outputs": [
    {
     "name": "stdout",
     "output_type": "stream",
     "text": [
      "22\n",
      "yes it is even\n"
     ]
    }
   ],
   "source": [
    "# Q) Take an int from the user and test if it is even number?\n",
    "\n",
    "x = int(input())\n",
    "\n",
    "if x%2==0:\n",
    "    print(\"yes it is even\")\n",
    "else:\n",
    "    print(\"no it is not even\")\n"
   ]
  },
  {
   "cell_type": "code",
   "execution_count": 11,
   "metadata": {},
   "outputs": [],
   "source": [
    "# Membership Operators:in ,not in "
   ]
  },
  {
   "cell_type": "code",
   "execution_count": 15,
   "metadata": {},
   "outputs": [
    {
     "name": "stdout",
     "output_type": "stream",
     "text": [
      "True\n"
     ]
    }
   ],
   "source": [
    "list1 = [1,2,3,4,5]\n",
    "\n",
    "print(4 in list1)"
   ]
  },
  {
   "cell_type": "code",
   "execution_count": 17,
   "metadata": {},
   "outputs": [
    {
     "name": "stdout",
     "output_type": "stream",
     "text": [
      "False\n"
     ]
    }
   ],
   "source": [
    "dict1 = {\"python\":3,\"django\":2}\n",
    "\n",
    "print(3 in dict1)"
   ]
  },
  {
   "cell_type": "code",
   "execution_count": 18,
   "metadata": {},
   "outputs": [
    {
     "ename": "TypeError",
     "evalue": "argument of type 'int' is not iterable",
     "output_type": "error",
     "traceback": [
      "\u001b[0;31m---------------------------------------------------------------------------\u001b[0m",
      "\u001b[0;31mTypeError\u001b[0m                                 Traceback (most recent call last)",
      "\u001b[0;32m<ipython-input-18-5bb3211a055c>\u001b[0m in \u001b[0;36m<module>\u001b[0;34m\u001b[0m\n\u001b[0;32m----> 1\u001b[0;31m \u001b[0mprint\u001b[0m\u001b[0;34m(\u001b[0m\u001b[0;36m7\u001b[0m \u001b[0;32min\u001b[0m \u001b[0;36m100\u001b[0m\u001b[0;34m)\u001b[0m \u001b[0;31m# what will happen??\u001b[0m\u001b[0;34m\u001b[0m\u001b[0;34m\u001b[0m\u001b[0m\n\u001b[0m",
      "\u001b[0;31mTypeError\u001b[0m: argument of type 'int' is not iterable"
     ]
    }
   ],
   "source": [
    "print(7 in 100) # what will happen??"
   ]
  },
  {
   "cell_type": "code",
   "execution_count": 19,
   "metadata": {},
   "outputs": [
    {
     "name": "stdout",
     "output_type": "stream",
     "text": [
      "True\n"
     ]
    }
   ],
   "source": [
    "print(\"s\" in \"small\") "
   ]
  },
  {
   "cell_type": "code",
   "execution_count": 20,
   "metadata": {},
   "outputs": [],
   "source": [
    "# Iterables: str,list,tuple,set,dict\n",
    "\n",
    "#not Iterables: int,float,bool"
   ]
  },
  {
   "cell_type": "code",
   "execution_count": null,
   "metadata": {},
   "outputs": [],
   "source": [
    "#Identitiy Operaors: is,is not"
   ]
  },
  {
   "cell_type": "code",
   "execution_count": 22,
   "metadata": {},
   "outputs": [
    {
     "data": {
      "text/plain": [
       "False"
      ]
     },
     "execution_count": 22,
     "metadata": {},
     "output_type": "execute_result"
    }
   ],
   "source": [
    "[1,2] is [1,2]"
   ]
  },
  {
   "cell_type": "code",
   "execution_count": 24,
   "metadata": {},
   "outputs": [
    {
     "data": {
      "text/plain": [
       "False"
      ]
     },
     "execution_count": 24,
     "metadata": {},
     "output_type": "execute_result"
    }
   ],
   "source": [
    "a = [1,2]\n",
    "b = [1,2]\n",
    "\n",
    "id(a)==id(b)"
   ]
  },
  {
   "cell_type": "code",
   "execution_count": 27,
   "metadata": {},
   "outputs": [
    {
     "name": "stdout",
     "output_type": "stream",
     "text": [
      "m\n",
      "a\n",
      "g\n",
      "i\n",
      "c\n"
     ]
    }
   ],
   "source": [
    "# break,continue,pass\n",
    "\n",
    "for val in \"magic\":\n",
    "    if val==\"i\":\n",
    "        pass\n",
    "    print(val)\n"
   ]
  },
  {
   "cell_type": "markdown",
   "metadata": {},
   "source": [
    "## Nested Loops"
   ]
  },
  {
   "cell_type": "markdown",
   "metadata": {},
   "source": [
    "## Q4) Print multiplication table of 5\n",
    "\n",
    "### Pseudocode:\n",
    "    1)loop from 1 to 10\n",
    "    2)for each item, print * of 5 with it."
   ]
  },
  {
   "cell_type": "code",
   "execution_count": 35,
   "metadata": {},
   "outputs": [
    {
     "name": "stdout",
     "output_type": "stream",
     "text": [
      "5 10 15 20 25 30 35 40 45 50 \n",
      "\n",
      "6 12 18 24 30 36 42 48 54 60 "
     ]
    }
   ],
   "source": [
    "for i in range(1,11):\n",
    "    print(5*i,end=\" \")\n",
    "print(\"\\n\")\n",
    "for i in range(1,11):\n",
    "    print(6*i,end=\" \")"
   ]
  },
  {
   "cell_type": "code",
   "execution_count": 40,
   "metadata": {},
   "outputs": [
    {
     "name": "stdout",
     "output_type": "stream",
     "text": [
      "5 10 15 20 25 30 35 40 45 50 \n",
      "\n",
      "6 12 18 24 30 36 42 48 54 60 \n",
      "\n",
      "7 14 21 28 35 42 49 56 63 70 \n",
      "\n",
      "22 44 66 88 110 132 154 176 198 220 \n",
      "\n"
     ]
    }
   ],
   "source": [
    "for value1 in [5,6,7,22]:\n",
    "    for i in range(1,11):\n",
    "        print(value1*i,end=\" \")\n",
    "    print(\"\\n\")"
   ]
  },
  {
   "cell_type": "code",
   "execution_count": 42,
   "metadata": {},
   "outputs": [
    {
     "name": "stdout",
     "output_type": "stream",
     "text": [
      "0 100\n",
      "0 101\n",
      "0 102\n",
      "0 103\n",
      "0 104\n",
      "---\n",
      "1 100\n",
      "1 101\n",
      "1 102\n",
      "1 103\n",
      "1 104\n",
      "---\n",
      "2 100\n",
      "2 101\n",
      "2 102\n",
      "2 103\n",
      "2 104\n",
      "---\n",
      "3 100\n",
      "3 101\n",
      "3 102\n",
      "3 103\n",
      "3 104\n",
      "---\n",
      "4 100\n",
      "4 101\n",
      "4 102\n",
      "4 103\n",
      "4 104\n",
      "---\n"
     ]
    }
   ],
   "source": [
    "for value1 in range(5):\n",
    "    for value2 in range(100,105):\n",
    "        print(value1,value2)\n",
    "    print(\"---\")"
   ]
  },
  {
   "cell_type": "code",
   "execution_count": 44,
   "metadata": {},
   "outputs": [
    {
     "name": "stdout",
     "output_type": "stream",
     "text": [
      "10-20 "
     ]
    }
   ],
   "source": [
    "print(10,20,end = \" \",sep=\"-\")"
   ]
  },
  {
   "cell_type": "markdown",
   "metadata": {},
   "source": [
    "## Q5) Write a program to create the following triangle\n",
    "\n",
    "\n",
    "# * \n",
    "\n",
    "# * * \n",
    "\n",
    "# * * * \n",
    "\n",
    "# * * * *\n",
    "\n",
    "### Intuition: See that * is increasing by 1 in each line, loop can give us that functionality\n",
    "\n",
    "### Pseudocode:\n",
    "    1)Outer loop run till number of lines in * pattern:\n",
    "    2)Inner loop run till line number"
   ]
  },
  {
   "cell_type": "code",
   "execution_count": 49,
   "metadata": {},
   "outputs": [
    {
     "name": "stdout",
     "output_type": "stream",
     "text": [
      "* \n",
      "\n",
      "* * \n",
      "\n",
      "* * * \n",
      "\n",
      "* * * * \n",
      "\n"
     ]
    }
   ],
   "source": [
    "for i in range(1,5):\n",
    "    for j in range(i):\n",
    "        print(\"*\",end=\" \")\n",
    "    print(\"\\n\")"
   ]
  },
  {
   "cell_type": "markdown",
   "metadata": {},
   "source": [
    "## while loop"
   ]
  },
  {
   "cell_type": "code",
   "execution_count": 50,
   "metadata": {},
   "outputs": [],
   "source": [
    "# while condition:=>True/False\n",
    "#     statements"
   ]
  },
  {
   "cell_type": "code",
   "execution_count": 53,
   "metadata": {},
   "outputs": [
    {
     "name": "stdout",
     "output_type": "stream",
     "text": [
      "5\n",
      "4\n",
      "3\n",
      "2\n",
      "num after exiting the loop 1\n"
     ]
    }
   ],
   "source": [
    "num = 5\n",
    "\n",
    "while num>1:\n",
    "    print(num)\n",
    "    num = num - 1\n",
    "\n",
    "print(\"num after exiting the loop\",num)"
   ]
  },
  {
   "cell_type": "code",
   "execution_count": 54,
   "metadata": {},
   "outputs": [],
   "source": [
    "# for - else?"
   ]
  },
  {
   "cell_type": "markdown",
   "metadata": {},
   "source": [
    "## while - else"
   ]
  },
  {
   "cell_type": "code",
   "execution_count": 66,
   "metadata": {},
   "outputs": [
    {
     "name": "stdout",
     "output_type": "stream",
     "text": [
      "1 2\n"
     ]
    }
   ],
   "source": [
    "count = 1\n",
    "max_count = 14\n",
    "\n",
    "while count <= max_count:\n",
    "    print(count,end=\" \")\n",
    "    count = count+1\n",
    "    break\n",
    "else:\n",
    "    print(\"this got printed\")\n",
    "print(count)"
   ]
  },
  {
   "cell_type": "markdown",
   "metadata": {},
   "source": [
    "## while-else, for-else"
   ]
  },
  {
   "cell_type": "code",
   "execution_count": 67,
   "metadata": {},
   "outputs": [
    {
     "name": "stdout",
     "output_type": "stream",
     "text": [
      "Notes of 2000 are 2\n",
      "Notes of 500 are 3\n",
      "Can not issue notes of 100\n",
      "Notes of 50 are 1\n",
      "Notes of 10 are 1\n",
      "Total no of notes are  7\n"
     ]
    }
   ],
   "source": [
    "## Convert it into a loop based program,(this is an program from conditional statements session)\n",
    "\n",
    "amount = 5560\n",
    "note_count = 0\n",
    "if amount >= 2000:\n",
    "    print(\"Notes of 2000 are\", amount // 2000)\n",
    "    note_count+=amount // 2000\n",
    "    amount = amount % 2000\n",
    "else:\n",
    "    print(\"Can not issue notes of 2000\")\n",
    "\n",
    "if amount >= 500:\n",
    "    print(\"Notes of 500 are\", amount // 500)\n",
    "    note_count+=amount // 500\n",
    "    amount = amount % 500\n",
    "else:\n",
    "    print(\"Can not issue notes of 500\")\n",
    "    \n",
    "if amount >= 100:\n",
    "    print(\"Notes of 100 are\", amount // 100)\n",
    "    note_count+=amount // 100\n",
    "    amount = amount % 100\n",
    "else:\n",
    "    print(\"Can not issue notes of 100\")\n",
    "    \n",
    "if amount >= 50:\n",
    "    print(\"Notes of 50 are\", amount // 50)\n",
    "    note_count+=amount // 50\n",
    "    amount = amount % 50\n",
    "else:\n",
    "    print(\"Can not issue notes of 50\")\n",
    "    \n",
    "\n",
    "if amount >= 10:\n",
    "    print(\"Notes of 10 are\", amount // 10)\n",
    "    note_count+=amount // 10\n",
    "    amount = amount % 10\n",
    "else:\n",
    "    print(\"Can not issue notes of 10\")\n",
    "\n",
    "print(\"Total no of notes are \",note_count)"
   ]
  },
  {
   "cell_type": "code",
   "execution_count": null,
   "metadata": {},
   "outputs": [],
   "source": [
    "## Above Program is a Homework, we will discuss it in Teams."
   ]
  }
 ],
 "metadata": {
  "kernelspec": {
   "display_name": "Python 3",
   "language": "python",
   "name": "python3"
  },
  "language_info": {
   "codemirror_mode": {
    "name": "ipython",
    "version": 3
   },
   "file_extension": ".py",
   "mimetype": "text/x-python",
   "name": "python",
   "nbconvert_exporter": "python",
   "pygments_lexer": "ipython3",
   "version": "3.7.4"
  }
 },
 "nbformat": 4,
 "nbformat_minor": 2
}
