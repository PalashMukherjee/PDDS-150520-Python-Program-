{
 "cells": [
  {
   "cell_type": "code",
   "execution_count": 2,
   "metadata": {},
   "outputs": [],
   "source": [
    "## how to use for-else loops?\n",
    "loop runs without break, ==> else part will be executed"
   ]
  },
  {
   "cell_type": "code",
   "execution_count": 3,
   "metadata": {},
   "outputs": [
    {
     "name": "stdout",
     "output_type": "stream",
     "text": [
      "kiwi\n",
      "the else part of the for-else loop\n"
     ]
    }
   ],
   "source": [
    "for fruit in [\"apple\",\"kiwi\",\"banana\"]:\n",
    "    if fruit==\"kiwi\":\n",
    "        print(fruit)  \n",
    "else:\n",
    "    print(\"the else part of the for-else loop\")  # will thhis print?"
   ]
  },
  {
   "cell_type": "code",
   "execution_count": 6,
   "metadata": {},
   "outputs": [
    {
     "name": "stdout",
     "output_type": "stream",
     "text": [
      "apple\n",
      "kiwi\n"
     ]
    }
   ],
   "source": [
    "for fruit in [\"apple\",\"kiwi\",\"banana\"]:\n",
    "    print(fruit)\n",
    "    if fruit==\"kiwi\":\n",
    "        break  \n",
    "else:\n",
    "    print(\"the else part of the for-else loop\")"
   ]
  },
  {
   "cell_type": "code",
   "execution_count": 7,
   "metadata": {},
   "outputs": [
    {
     "name": "stdout",
     "output_type": "stream",
     "text": [
      "apple\n",
      "kiwi\n",
      "banana\n"
     ]
    }
   ],
   "source": [
    "for fruit in [\"apple\",\"kiwi\",\"banana\"]:\n",
    "    print(fruit)\n",
    "    if fruit==\"banana\":\n",
    "        break  \n",
    "else:\n",
    "    print(\"the else part of the for-else loop\")"
   ]
  },
  {
   "cell_type": "code",
   "execution_count": 8,
   "metadata": {},
   "outputs": [],
   "source": [
    "One error:\n",
    "    vowels = \"aeiou\"\n",
    "    for vowels in \"mohit\"?"
   ]
  },
  {
   "cell_type": "code",
   "execution_count": 13,
   "metadata": {},
   "outputs": [
    {
     "name": "stdout",
     "output_type": "stream",
     "text": [
      "False\n"
     ]
    }
   ],
   "source": [
    "vowels = \"aeiou\"\n",
    "print(vowels in \"mohit\")\n",
    "\n",
    "# above is wrong \n",
    "vowels = \"aeiou\"\n",
    "print(vowels[0] in \"mohit\")  #check one by one\n",
    "\n",
    "# above one is correcct\n",
    "\n",
    "# single_item in  a group_of_items "
   ]
  },
  {
   "cell_type": "code",
   "execution_count": 14,
   "metadata": {},
   "outputs": [],
   "source": [
    "# arguments? ==>passed values\n",
    "\n",
    "# functions syntax\n",
    "\n",
    "# def [func_name](args):\n",
    "#     statements\n",
    "#     return variable_name\n",
    "\n",
    "# return compulsory? no\n",
    "\n",
    "# def [func_name](name,college,stream):\n",
    "#     statements\n",
    "#     return variable_name\n",
    "# positional arguments?  "
   ]
  },
  {
   "cell_type": "code",
   "execution_count": null,
   "metadata": {},
   "outputs": [],
   "source": [
    "func_name(\"rohan_rathore\",\"MIT\",\"Computer Science\")"
   ]
  },
  {
   "cell_type": "code",
   "execution_count": 16,
   "metadata": {},
   "outputs": [],
   "source": [
    "# default arguments? "
   ]
  },
  {
   "cell_type": "code",
   "execution_count": 18,
   "metadata": {},
   "outputs": [],
   "source": [
    "def printdetails(college,stream,name=\"rohan_rathore\",):\n",
    "    print(name,college,stream)"
   ]
  },
  {
   "cell_type": "code",
   "execution_count": 19,
   "metadata": {},
   "outputs": [
    {
     "name": "stdout",
     "output_type": "stream",
     "text": [
      "rohan_rathore MIT COMPUTER SCIENCE\n"
     ]
    }
   ],
   "source": [
    "printdetails(\"MIT\",\"COMPUTER SCIENCE\")"
   ]
  },
  {
   "cell_type": "code",
   "execution_count": 20,
   "metadata": {},
   "outputs": [
    {
     "name": "stdout",
     "output_type": "stream",
     "text": [
      "JOHN MIT COMPUTER SCIENCE\n"
     ]
    }
   ],
   "source": [
    "printdetails(\"MIT\",\"COMPUTER SCIENCE\",\"JOHN\")"
   ]
  },
  {
   "cell_type": "code",
   "execution_count": 21,
   "metadata": {},
   "outputs": [],
   "source": [
    "# GLOBAL AND LOCAL NAMESPACE?"
   ]
  },
  {
   "cell_type": "code",
   "execution_count": 23,
   "metadata": {},
   "outputs": [],
   "source": [
    "# FUNCTION USES:\n",
    "#     reusability\n",
    "#     modularity: easy to maintain, debug"
   ]
  },
  {
   "cell_type": "code",
   "execution_count": 24,
   "metadata": {},
   "outputs": [],
   "source": [
    "## Recursive functions??\n",
    "\n",
    "# function calls itself"
   ]
  },
  {
   "cell_type": "code",
   "execution_count": 25,
   "metadata": {},
   "outputs": [],
   "source": [
    "# def printdetails(arg1,arg2):\n",
    "#     \n",
    "#     printdetails(4,5)\n",
    "\n",
    "# printdetails(3,4)"
   ]
  },
  {
   "cell_type": "code",
   "execution_count": 26,
   "metadata": {},
   "outputs": [],
   "source": [
    "# Need of recursive functions?\n",
    "\n",
    "# factorials?\n",
    "# factorial 5 is?  5*4*3*2*1\n",
    "# 7 7--->1"
   ]
  },
  {
   "cell_type": "code",
   "execution_count": 27,
   "metadata": {},
   "outputs": [],
   "source": [
    "# exit condition?"
   ]
  },
  {
   "cell_type": "code",
   "execution_count": 28,
   "metadata": {},
   "outputs": [
    {
     "name": "stdout",
     "output_type": "stream",
     "text": [
      "120\n"
     ]
    }
   ],
   "source": [
    "def fact(num):\n",
    "    if num==1:\n",
    "        return 1\n",
    "    else:\n",
    "        return num*fact(num-1)\n",
    "    \n",
    "num = 5\n",
    "print(fact(num))"
   ]
  },
  {
   "cell_type": "code",
   "execution_count": 29,
   "metadata": {},
   "outputs": [],
   "source": [
    "## Modules and Packages\n",
    "\n",
    "# Modules?\n",
    "\n",
    "# .py files?\n",
    "\n",
    "# .py file (python source code file)"
   ]
  },
  {
   "cell_type": "code",
   "execution_count": 30,
   "metadata": {},
   "outputs": [],
   "source": [
    "# Use of modules, need of modules?\n",
    "# ->maintain\n",
    "# ->reusability\n",
    "# ->namespacing\n",
    "# ->project looks easy to understand"
   ]
  },
  {
   "cell_type": "code",
   "execution_count": 33,
   "metadata": {},
   "outputs": [
    {
     "name": "stdout",
     "output_type": "stream",
     "text": [
      "3.141592653589793\n"
     ]
    }
   ],
   "source": [
    "import math\n",
    "pi = \"cake\"\n",
    "print(math.pi)"
   ]
  },
  {
   "cell_type": "code",
   "execution_count": null,
   "metadata": {},
   "outputs": [],
   "source": []
  }
 ],
 "metadata": {
  "kernelspec": {
   "display_name": "Python 3",
   "language": "python",
   "name": "python3"
  },
  "language_info": {
   "codemirror_mode": {
    "name": "ipython",
    "version": 3
   },
   "file_extension": ".py",
   "mimetype": "text/x-python",
   "name": "python",
   "nbconvert_exporter": "python",
   "pygments_lexer": "ipython3",
   "version": "3.7.4"
  }
 },
 "nbformat": 4,
 "nbformat_minor": 2
}
