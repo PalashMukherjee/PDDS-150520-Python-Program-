{
 "cells": [
  {
   "cell_type": "code",
   "execution_count": null,
   "metadata": {},
   "outputs": [],
   "source": [
    "## Revision:\n",
    "\n",
    "def [func_name](arg1,arg2):\n",
    "    statements\n",
    "    return variable_name\n",
    "\n"
   ]
  },
  {
   "cell_type": "code",
   "execution_count": 1,
   "metadata": {},
   "outputs": [
    {
     "name": "stdout",
     "output_type": "stream",
     "text": [
      "1\n"
     ]
    }
   ],
   "source": [
    "def apple(arg1,arg2):\n",
    "    mango = arg1\n",
    "    return mango\n",
    "\n",
    "x = apple(1,2)\n",
    "\n",
    "print(x)"
   ]
  },
  {
   "cell_type": "code",
   "execution_count": 2,
   "metadata": {},
   "outputs": [
    {
     "name": "stdout",
     "output_type": "stream",
     "text": [
      "None\n"
     ]
    }
   ],
   "source": [
    "# WHAT IF WE DON'T RETURN ANYTHING\n",
    "def apple(arg1,arg2):\n",
    "    mango = arg1\n",
    "#     return mango\n",
    "\n",
    "x = apple(1,2)\n",
    "\n",
    "print(x)"
   ]
  },
  {
   "cell_type": "code",
   "execution_count": 3,
   "metadata": {},
   "outputs": [
    {
     "name": "stdout",
     "output_type": "stream",
     "text": [
      "MIT\n",
      "None\n"
     ]
    }
   ],
   "source": [
    "# POSITIONAL ARG\n",
    "def apple(name,college):\n",
    "    name_of_student = name\n",
    "    college_of_student = college\n",
    "    print(name_of_student)\n",
    "#     return mango\n",
    "\n",
    "x = apple(\"MIT\",\"rohan\")\n",
    "\n",
    "print(x)"
   ]
  },
  {
   "cell_type": "code",
   "execution_count": 7,
   "metadata": {},
   "outputs": [
    {
     "name": "stdout",
     "output_type": "stream",
     "text": [
      "rohan\n",
      "None\n"
     ]
    }
   ],
   "source": [
    "#  DEFAULT ARG\n",
    "def apple(college,name=\"ROHAN\"):\n",
    "    name_of_student = name\n",
    "    college_of_student = college\n",
    "    print(name_of_student)\n",
    "\n",
    "x = apple(\"MIT\",\"rohan\")\n",
    "\n",
    "print(x)"
   ]
  },
  {
   "cell_type": "code",
   "execution_count": 8,
   "metadata": {},
   "outputs": [
    {
     "name": "stdout",
     "output_type": "stream",
     "text": [
      "ROHAN\n",
      "None\n"
     ]
    }
   ],
   "source": [
    "#  DEFAULT ARG\n",
    "def apple(college,name=\"ROHAN\"):\n",
    "    name_of_student = name\n",
    "    college_of_student = college\n",
    "    print(name_of_student)\n",
    "\n",
    "x = apple(\"MIT\")\n",
    "\n",
    "print(x)"
   ]
  },
  {
   "cell_type": "code",
   "execution_count": 9,
   "metadata": {},
   "outputs": [],
   "source": [
    "# VARIABLE ARGUMENTS?\n",
    "\n",
    "# A FEATURE TO TRANSFER VARIABLE NO OF ARGUMENTS"
   ]
  },
  {
   "cell_type": "code",
   "execution_count": 10,
   "metadata": {},
   "outputs": [],
   "source": [
    "# *args, **kwargs"
   ]
  },
  {
   "cell_type": "code",
   "execution_count": 11,
   "metadata": {},
   "outputs": [
    {
     "data": {
      "text/plain": [
       "15"
      ]
     },
     "execution_count": 11,
     "metadata": {},
     "output_type": "execute_result"
    }
   ],
   "source": [
    "packing\n",
    "def do_sum(*args):\n",
    "    return sum(args)\n",
    "\n",
    "do_sum(1,2,3,4,5)"
   ]
  },
  {
   "cell_type": "code",
   "execution_count": 14,
   "metadata": {},
   "outputs": [
    {
     "name": "stdout",
     "output_type": "stream",
     "text": [
      "1 2 3 4 5\n"
     ]
    },
    {
     "data": {
      "text/plain": [
       "15"
      ]
     },
     "execution_count": 14,
     "metadata": {},
     "output_type": "execute_result"
    }
   ],
   "source": [
    "# unpacking?\n",
    "\n",
    "l = [1,2,3,4,5]\n",
    "\n",
    "def do_sum(arg1,arg2,arg3,arg4,arg5):\n",
    "    print(arg1,arg2,arg3,arg4,arg5)\n",
    "    return sum([arg1,arg2,arg3,arg4,arg5])\n",
    "\n",
    "do_sum(*l)"
   ]
  },
  {
   "cell_type": "code",
   "execution_count": 15,
   "metadata": {},
   "outputs": [],
   "source": [
    "# modules? file with python code (.py extension)  collection of some functions"
   ]
  },
  {
   "cell_type": "code",
   "execution_count": 18,
   "metadata": {},
   "outputs": [],
   "source": [
    "# dir()"
   ]
  },
  {
   "cell_type": "code",
   "execution_count": 24,
   "metadata": {},
   "outputs": [
    {
     "name": "stdout",
     "output_type": "stream",
     "text": [
      "{'arg3': 4}\n",
      "None\n"
     ]
    }
   ],
   "source": [
    "# locals()?\n",
    "\n",
    "def apple(arg1,arg2):\n",
    "    mango = arg1\n",
    "    def kiwi(arg3):\n",
    "        print(locals())\n",
    "        return 2    # what about this 2?\n",
    "    kiwi(4)           \n",
    "#     print(locals())\n",
    "#     print(globals())\n",
    "#     return mango\n",
    "\n",
    "x = apple(1,2)\n",
    "\n",
    "# print(locals())\n",
    "\n",
    "print(x)"
   ]
  },
  {
   "cell_type": "code",
   "execution_count": 27,
   "metadata": {},
   "outputs": [
    {
     "name": "stdout",
     "output_type": "stream",
     "text": [
      "['In', 'Out', '_', '_11', '_13', '_14', '_16', '_17', '__', '___', '__builtin__', '__builtins__', '__doc__', '__loader__', '__name__', '__package__', '__spec__', '_dh', '_i', '_i1', '_i10', '_i11', '_i12', '_i13', '_i14', '_i15', '_i16', '_i17', '_i18', '_i19', '_i2', '_i20', '_i21', '_i22', '_i23', '_i24', '_i25', '_i26', '_i27', '_i3', '_i4', '_i5', '_i6', '_i7', '_i8', '_i9', '_ih', '_ii', '_iii', '_oh', 'apple', 'do_sum', 'exit', 'get_ipython', 'l', 'math', 'quit', 'x']\n",
      "\n",
      "\n",
      "['In', 'Out', '_', '_11', '_13', '_14', '_16', '_17', '__', '___', '__builtin__', '__builtins__', '__doc__', '__loader__', '__name__', '__package__', '__spec__', '_dh', '_i', '_i1', '_i10', '_i11', '_i12', '_i13', '_i14', '_i15', '_i16', '_i17', '_i18', '_i19', '_i2', '_i20', '_i21', '_i22', '_i23', '_i24', '_i25', '_i26', '_i27', '_i3', '_i4', '_i5', '_i6', '_i7', '_i8', '_i9', '_ih', '_ii', '_iii', '_oh', 'apple', 'do_sum', 'exit', 'get_ipython', 'l', 'math', 'quit', 'random', 'x']\n"
     ]
    }
   ],
   "source": [
    "print(dir())\n",
    "print(\"\\n\")\n",
    "import random\n",
    "print(dir())"
   ]
  },
  {
   "cell_type": "code",
   "execution_count": 28,
   "metadata": {},
   "outputs": [],
   "source": [
    "## Package? collection of .py files"
   ]
  },
  {
   "cell_type": "code",
   "execution_count": 29,
   "metadata": {},
   "outputs": [],
   "source": [
    "## go to start_2.py file from here."
   ]
  },
  {
   "cell_type": "markdown",
   "metadata": {},
   "source": [
    "## Text file Operations"
   ]
  },
  {
   "cell_type": "code",
   "execution_count": 30,
   "metadata": {},
   "outputs": [],
   "source": [
    "# What are files?"
   ]
  },
  {
   "cell_type": "code",
   "execution_count": 38,
   "metadata": {},
   "outputs": [
    {
     "name": "stdout",
     "output_type": "stream",
     "text": [
      "content is  line1\n",
      "content2 is  \n",
      "line2\n"
     ]
    }
   ],
   "source": [
    "fp = open(\"linefile.txt\")  ## by default the mode is \"r\"\n",
    "\n",
    "## fp => filepointer\n",
    "\n",
    "content = fp.read(5)  # fp will move to 6th position.\n",
    "\n",
    "print(\"content is \",content)\n",
    "\n",
    "content2 = fp.read(6)\n",
    "\n",
    "print(\"content2 is \",content2)"
   ]
  },
  {
   "cell_type": "code",
   "execution_count": 42,
   "metadata": {},
   "outputs": [
    {
     "name": "stdout",
     "output_type": "stream",
     "text": [
      "content is  line1\n",
      "line2\n",
      "line3\n",
      "0\n",
      "content2 is  \n"
     ]
    }
   ],
   "source": [
    "fp = open(\"linefile.txt\")  ## by default the mode is \"r\"\n",
    "\n",
    "## fp => filepointer\n",
    "\n",
    "content = fp.read(17)  # fp will move to 6th position.\n",
    "\n",
    "print(\"content is \",content)\n",
    "\n",
    "content2 = fp.read(6)\n",
    "print(len(content2))\n",
    "\n",
    "print(\"content2 is \",content2)"
   ]
  },
  {
   "cell_type": "markdown",
   "metadata": {},
   "source": [
    "## Different Modes"
   ]
  },
  {
   "cell_type": "code",
   "execution_count": 43,
   "metadata": {},
   "outputs": [],
   "source": [
    "# fp = open(\"file_path\",\"mode\")\n",
    "\n",
    "# r => read\n",
    "# r+ => read+write\n",
    "\n",
    "# w => write\n",
    "# w+ => write+read\n",
    "\n",
    "# a=> append\n",
    "# a+=> append+read\n",
    "\n",
    "\n",
    "# Note: Both r+ and w+ do read+write? Are they same?\n",
    "#     No\n",
    "#     r+ => it does not delte the content of the file, and does not create a file if not present\n",
    "#       w+ => it can do that/\n",
    "    \n",
    "# 'rb' and 'wb' => open a file in binary mode.\n"
   ]
  },
  {
   "cell_type": "code",
   "execution_count": 48,
   "metadata": {},
   "outputs": [
    {
     "name": "stdout",
     "output_type": "stream",
     "text": [
      "content is  \n",
      "0\n",
      "content2 is  \n"
     ]
    }
   ],
   "source": [
    "fp = open(\"linefile.txt\",\"w+\")  ## by default the mode is \"r\"\n",
    "\n",
    "## fp => filepointer\n",
    "\n",
    "content = fp.read(17)  # fp will move to 6th position.\n",
    "\n",
    "print(\"content is \",content)\n",
    "\n",
    "content2 = fp.read(6)\n",
    "print(len(content2))\n",
    "\n",
    "print(\"content2 is \",content2)"
   ]
  },
  {
   "cell_type": "code",
   "execution_count": null,
   "metadata": {},
   "outputs": [],
   "source": [
    "## regular expression imp tmrw."
   ]
  }
 ],
 "metadata": {
  "kernelspec": {
   "display_name": "Python 3",
   "language": "python",
   "name": "python3"
  },
  "language_info": {
   "codemirror_mode": {
    "name": "ipython",
    "version": 3
   },
   "file_extension": ".py",
   "mimetype": "text/x-python",
   "name": "python",
   "nbconvert_exporter": "python",
   "pygments_lexer": "ipython3",
   "version": "3.7.4"
  }
 },
 "nbformat": 4,
 "nbformat_minor": 2
}
