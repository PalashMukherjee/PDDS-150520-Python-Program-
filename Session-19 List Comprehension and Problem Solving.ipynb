{
 "cells": [
  {
   "cell_type": "code",
   "execution_count": 2,
   "metadata": {},
   "outputs": [],
   "source": [
    "# Revision\n",
    "\n",
    "RegX:\n",
    "    \n",
    "Metachars:\n",
    "    . => match with all the chars except \\n(newline)\n",
    "    [] => character class\n",
    "    [a-z] => small alpha\n",
    "    [A-Z] => Big alpha\n",
    "    [0-9] => number from 0-9\n",
    "    2 digit number? [0-9]{2}\n",
    "    Quantifiers:\n",
    "        + => 1 or more\n",
    "        * => 0 or more\n",
    "        ? => 1 or none\n",
    "    Anchors:\n",
    "        ^ => start\n",
    "        $ => end"
   ]
  },
  {
   "cell_type": "code",
   "execution_count": 7,
   "metadata": {},
   "outputs": [
    {
     "data": {
      "text/plain": [
       "<re.Match object; span=(0, 8), match='mjdfkj45'>"
      ]
     },
     "execution_count": 7,
     "metadata": {},
     "output_type": "execute_result"
    }
   ],
   "source": [
    "# Q1 make a regX whic match the pattern starting from m and end with 2 digit number\n",
    "import re\n",
    "\n",
    "re.search(\"^m+.*[0-9]{2}$\",\"mjdfkj45\")"
   ]
  },
  {
   "cell_type": "code",
   "execution_count": 8,
   "metadata": {},
   "outputs": [],
   "source": [
    "# anybody facing problem hearing me ? put it in chat\n"
   ]
  },
  {
   "cell_type": "code",
   "execution_count": 9,
   "metadata": {},
   "outputs": [],
   "source": [
    "## List Comprehension "
   ]
  },
  {
   "cell_type": "code",
   "execution_count": 10,
   "metadata": {},
   "outputs": [
    {
     "name": "stdout",
     "output_type": "stream",
     "text": [
      "[2, 4, 6]\n"
     ]
    }
   ],
   "source": [
    "list1 = [1,2,3,4,5,6]\n",
    "\n",
    "even_list = []\n",
    "for i in list1:\n",
    "    if i%2==0:\n",
    "        even_list.append(i)\n",
    "        \n",
    "print(even_list)"
   ]
  },
  {
   "cell_type": "code",
   "execution_count": 13,
   "metadata": {},
   "outputs": [
    {
     "name": "stdout",
     "output_type": "stream",
     "text": [
      "[6, 12, 18]\n"
     ]
    }
   ],
   "source": [
    "## list comprehension for the above problem\n",
    "\n",
    "even_list = [3*i for i in list1 if i%2==0]\n",
    "\n",
    "print(even_list)"
   ]
  },
  {
   "cell_type": "code",
   "execution_count": 14,
   "metadata": {},
   "outputs": [
    {
     "data": {
      "text/plain": [
       "[1, 4, 9, 16, 25, 36]"
      ]
     },
     "execution_count": 14,
     "metadata": {},
     "output_type": "execute_result"
    }
   ],
   "source": [
    "## Q1 make a list containing square of numbers from 1 to 6. Use list comprehension\n",
    "\n",
    "[i*i for i in range(1,7)]"
   ]
  },
  {
   "cell_type": "markdown",
   "metadata": {},
   "source": [
    "## zip"
   ]
  },
  {
   "cell_type": "code",
   "execution_count": 16,
   "metadata": {},
   "outputs": [
    {
     "name": "stdout",
     "output_type": "stream",
     "text": [
      "[(1, 5, 9), (2, 6, 10), (3, 7, 11), (4, 8, 12)]\n"
     ]
    }
   ],
   "source": [
    "l1 = [1,2,3,4]\n",
    "l2 = [5,6,7,8]\n",
    "l3 = [9,10,11,12]\n",
    "\n",
    "print(list(zip(l1,l2,l3)))"
   ]
  },
  {
   "cell_type": "code",
   "execution_count": 32,
   "metadata": {},
   "outputs": [
    {
     "data": {
      "text/plain": [
       "{'python': 3, 'java': 8, 'django': 2, 'perl': 1}"
      ]
     },
     "execution_count": 32,
     "metadata": {},
     "output_type": "execute_result"
    }
   ],
   "source": [
    "l1 = [\"python\",\"java\",\"django\",\"perl\"]\n",
    "l2 = [3,8,2,1]\n",
    "\n",
    "dict(zip(l1,l2))"
   ]
  },
  {
   "cell_type": "code",
   "execution_count": 31,
   "metadata": {},
   "outputs": [
    {
     "name": "stdout",
     "output_type": "stream",
     "text": [
      "{5: 5, 6: 6, 7: 7, 8: 8}\n"
     ]
    }
   ],
   "source": [
    "l1 = (1,2,3,4,15,16,17,18)\n",
    "l2 = (5,6,7,8)\n",
    "\n",
    "\n",
    "print(dict(zip(l2,l1)))"
   ]
  },
  {
   "cell_type": "code",
   "execution_count": null,
   "metadata": {},
   "outputs": [],
   "source": [
    "# d1 = {5: 1, 6: 2, 7: 3, 8: 4} ## d1.keys, d1.values , d1.items()??\n",
    "# d2 = {5: 1, 6: 2, 7: 3, 8: 4}"
   ]
  },
  {
   "cell_type": "code",
   "execution_count": 27,
   "metadata": {},
   "outputs": [],
   "source": [
    "## install google meet also as an alternate option if zoom glitches"
   ]
  },
  {
   "cell_type": "code",
   "execution_count": 28,
   "metadata": {},
   "outputs": [],
   "source": [
    "#Q2 l1 = [\"python\",\"java\",\"django\",\"perl\"], Use list comprehension and zip to make a dict which will have keys from\n",
    "# l1 and values from len(items of l1)\n",
    "\n",
    "# {\"python\":6,\"java\":4,\"django\":6,\"perl\":4}"
   ]
  },
  {
   "cell_type": "code",
   "execution_count": 34,
   "metadata": {},
   "outputs": [],
   "source": [
    "l1 = [\"python\",\"java\",\"django\",\"perl\"]\n",
    "l2 = [len(i) for i in l1]"
   ]
  },
  {
   "cell_type": "code",
   "execution_count": 35,
   "metadata": {},
   "outputs": [
    {
     "name": "stdout",
     "output_type": "stream",
     "text": [
      "{'python': 6, 'java': 4, 'django': 6, 'perl': 4}\n"
     ]
    }
   ],
   "source": [
    "print(dict(zip(l1,l2)))"
   ]
  },
  {
   "cell_type": "code",
   "execution_count": 36,
   "metadata": {},
   "outputs": [],
   "source": [
    "## Q3. Make a list using list comprehension and re to contain only elements from the given_list which start with \n",
    "# a and end\n",
    "# end with 2 digit number.\n",
    "\n",
    "# given_list = [\"a#$%^89\",\"z#$%96\",\"a#$%#%hu\",\"aghij66\"]\n",
    "\n",
    "# [\"a#$%^89\",\"aghij66\"]"
   ]
  },
  {
   "cell_type": "code",
   "execution_count": 49,
   "metadata": {},
   "outputs": [
    {
     "data": {
      "text/plain": [
       "True"
      ]
     },
     "execution_count": 49,
     "metadata": {},
     "output_type": "execute_result"
    }
   ],
   "source": [
    "import re\n",
    "\n",
    "bool(re.search(\"^a.*[0-9]{2}$\",))"
   ]
  },
  {
   "cell_type": "code",
   "execution_count": 50,
   "metadata": {},
   "outputs": [
    {
     "name": "stdout",
     "output_type": "stream",
     "text": [
      "['a#$%^89', 'aghij66']\n"
     ]
    }
   ],
   "source": [
    "given_list = [\"a#$%^89\",\"z#$%96\",\"a#$%#%hu\",\"aghij66\"]\n",
    "req_list = [i for i in given_list if re.search(\"^a.*[0-9]{2}$\",i) ]\n",
    "\n",
    "print(req_list)"
   ]
  },
  {
   "cell_type": "code",
   "execution_count": 51,
   "metadata": {},
   "outputs": [
    {
     "name": "stdout",
     "output_type": "stream",
     "text": [
      "['Odd', 'Even', 'Odd', 'Even', 'Odd', 'Even', 'Odd', 'Even']\n"
     ]
    }
   ],
   "source": [
    "## Q Make a list out of a list containing numbers and it should store odd and even for odd and even numbers resp.\n",
    "\n",
    "list1 = [1,2,3,4,15,16,17,18]\n",
    "\n",
    "req_list = [\"Even\" if value%2==0 else \"Odd\" for value in list1]\n",
    "\n",
    "print(req_list)"
   ]
  },
  {
   "cell_type": "code",
   "execution_count": 52,
   "metadata": {},
   "outputs": [],
   "source": [
    "## 2 sequences"
   ]
  },
  {
   "cell_type": "code",
   "execution_count": 53,
   "metadata": {},
   "outputs": [
    {
     "name": "stdout",
     "output_type": "stream",
     "text": [
      "10 1\n",
      "20 2\n",
      "30 3\n",
      "40 4\n"
     ]
    }
   ],
   "source": [
    "l1 = [10,20,30,40]\n",
    "l2 = [1,2,3,4]\n",
    "\n",
    "for value1,value2 in zip(l1,l2):\n",
    "    print(value1,value2)"
   ]
  },
  {
   "cell_type": "code",
   "execution_count": 54,
   "metadata": {},
   "outputs": [
    {
     "data": {
      "text/plain": [
       "[11, 22, 33, 44]"
      ]
     },
     "execution_count": 54,
     "metadata": {},
     "output_type": "execute_result"
    }
   ],
   "source": [
    "[value1+value2 for value1,value2 in zip(l1,l2)]"
   ]
  },
  {
   "cell_type": "code",
   "execution_count": 55,
   "metadata": {},
   "outputs": [],
   "source": [
    "## Pythonic way of doing things."
   ]
  },
  {
   "cell_type": "code",
   "execution_count": 58,
   "metadata": {},
   "outputs": [
    {
     "name": "stdout",
     "output_type": "stream",
     "text": [
      "10 100\n",
      "10 101\n",
      "10 102\n",
      "11 100\n",
      "11 101\n",
      "11 102\n",
      "12 100\n",
      "12 101\n",
      "12 102\n"
     ]
    }
   ],
   "source": [
    "for val1 in range(10,13):\n",
    "    for val2 in range(100,103):\n",
    "        print(val1,val2)"
   ]
  },
  {
   "cell_type": "code",
   "execution_count": 57,
   "metadata": {},
   "outputs": [
    {
     "data": {
      "text/plain": [
       "[(10, 100),\n",
       " (10, 101),\n",
       " (10, 102),\n",
       " (11, 100),\n",
       " (11, 101),\n",
       " (11, 102),\n",
       " (12, 100),\n",
       " (12, 101),\n",
       " (12, 102)]"
      ]
     },
     "execution_count": 57,
     "metadata": {},
     "output_type": "execute_result"
    }
   ],
   "source": [
    "[(val1,val2) for val1 in range(10,13) for val2 in range(100,103)]"
   ]
  },
  {
   "cell_type": "code",
   "execution_count": 61,
   "metadata": {},
   "outputs": [
    {
     "name": "stdout",
     "output_type": "stream",
     "text": [
      "[1, 2, 3, 4, 5, 6, 7, 8, 9]\n"
     ]
    }
   ],
   "source": [
    "# list of lists\n",
    "l1 = [[1,2,3],[4,5,6],[7,8,9]]\n",
    "\n",
    "# l2 = [1,2,3,4,5,6,7,8,9]\n",
    "\n",
    "l2 = []\n",
    "for small_list in l1:\n",
    "    for no in small_list:\n",
    "        l2.append(no)\n",
    "        \n",
    "print(l2)"
   ]
  },
  {
   "cell_type": "code",
   "execution_count": 62,
   "metadata": {},
   "outputs": [
    {
     "data": {
      "text/plain": [
       "[1, 2, 3, 4, 5, 6, 7, 8, 9]"
      ]
     },
     "execution_count": 62,
     "metadata": {},
     "output_type": "execute_result"
    }
   ],
   "source": [
    "# am i audible??\n",
    "# See the session recording today. Don't woorry i'll try to get it fixed soon!!\n",
    "# we'll end today's session at 9. everyboody gave feedback??\n",
    "# let us rewrite the above q. with list compr\n",
    "[no for small_list in l1 for no in small_list]"
   ]
  },
  {
   "cell_type": "code",
   "execution_count": 63,
   "metadata": {},
   "outputs": [],
   "source": [
    "# is it clear everyone?? how we did it?"
   ]
  },
  {
   "cell_type": "code",
   "execution_count": 64,
   "metadata": {},
   "outputs": [],
   "source": [
    "## Note: We can convert every list. comprehension to for loop, but every for loop can not be converted to \n",
    "## a list comprehension\n",
    "\n",
    "### homework: What kind of loop can not be converted to a list comprehension??"
   ]
  },
  {
   "cell_type": "code",
   "execution_count": 65,
   "metadata": {},
   "outputs": [],
   "source": [
    "## dict comprehension"
   ]
  },
  {
   "cell_type": "code",
   "execution_count": 66,
   "metadata": {},
   "outputs": [
    {
     "name": "stdout",
     "output_type": "stream",
     "text": [
      "{1: '\\x01', 2: '\\x02', 3: '\\x03', 4: '\\x04', 5: '\\x05', 6: '\\x06', 7: '\\x07', 8: '\\x08', 9: '\\t'}\n"
     ]
    }
   ],
   "source": [
    "list1 = [1, 2, 3, 4, 5, 6, 7, 8, 9]\n",
    "print({i:chr(i) for i in list1})"
   ]
  },
  {
   "cell_type": "code",
   "execution_count": 69,
   "metadata": {},
   "outputs": [
    {
     "name": "stdout",
     "output_type": "stream",
     "text": [
      "1 ro\n",
      "2 to\n",
      "3 po\n",
      "4 xo\n"
     ]
    }
   ],
   "source": [
    "# Q reverse key values in a dict with dict comprehension\n",
    "\n",
    "d = {1: 'ro', 2: 'to', 3: 'po', 4: 'xo'} # , 5: '\\x05', 6: '\\x06', 7: '\\x07', 8: '\\x08', 9: '\\t'}\n",
    "\n",
    "print({value for key,value in d.items()})\n",
    "\n",
    "\n",
    "for key,value in d.items():\n",
    "    print(key,value)\n"
   ]
  },
  {
   "cell_type": "code",
   "execution_count": 72,
   "metadata": {},
   "outputs": [
    {
     "name": "stdout",
     "output_type": "stream",
     "text": [
      "<class 'set'>\n"
     ]
    }
   ],
   "source": [
    "# Q What are different reminders you get when you divide this list by 5\n",
    "given_list = [10,20,30,40,12,32,44,67]\n",
    "\n",
    "# unique??\n",
    "\n",
    "# print({})\n",
    "\n",
    "# for value in given_list:\n",
    "#     print(value%5)\n",
    "\n",
    "# {0,2,4}  \n",
    "\n",
    "print(type({value%5 for value in given_list}))\n",
    "    \n",
    "  \n",
    "# map,filter and lambda"
   ]
  },
  {
   "cell_type": "code",
   "execution_count": null,
   "metadata": {},
   "outputs": [],
   "source": [
    "# Remeber to update zoom, and install google meet as well"
   ]
  }
 ],
 "metadata": {
  "kernelspec": {
   "display_name": "Python 3",
   "language": "python",
   "name": "python3"
  },
  "language_info": {
   "codemirror_mode": {
    "name": "ipython",
    "version": 3
   },
   "file_extension": ".py",
   "mimetype": "text/x-python",
   "name": "python",
   "nbconvert_exporter": "python",
   "pygments_lexer": "ipython3",
   "version": "3.7.4"
  }
 },
 "nbformat": 4,
 "nbformat_minor": 2
}
