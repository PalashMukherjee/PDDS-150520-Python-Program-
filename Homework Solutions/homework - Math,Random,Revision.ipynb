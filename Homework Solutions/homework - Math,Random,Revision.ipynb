{
 "cells": [
  {
   "cell_type": "markdown",
   "metadata": {},
   "source": [
    "## Question"
   ]
  },
  {
   "cell_type": "markdown",
   "metadata": {},
   "source": [
    "# Q5) From the list containing ints,numbers , make 2 lists to store them separately.\n",
    "    mix_list = [\"python\",3,\"ok\",45,12.5,\"apple\",56.56]\n",
    "    str_list = [\"python\",\"ok\",\"apple\"]\n",
    "    number_list = [3,45,12.5,56.56]\n",
    "    \n",
    "### Intuition: how about using type() function? and 2 empty lists??\n",
    "\n",
    "### Pseudocode:\n",
    "    1.)Take 2 empty list\n",
    "    2.)Loop over each element of mix_list\n",
    "    3.)Check type of each one.\n",
    "    4.)If it is str put them in 1, else in the other"
   ]
  },
  {
   "cell_type": "markdown",
   "metadata": {},
   "source": [
    "## Answer"
   ]
  },
  {
   "cell_type": "code",
   "execution_count": 2,
   "metadata": {},
   "outputs": [
    {
     "name": "stdout",
     "output_type": "stream",
     "text": [
      "num_list [3, 45, 12.5, 56.56]\n",
      "str_list ['python', 'ok', 'apple']\n"
     ]
    }
   ],
   "source": [
    "mix_list = [\"python\",3,\"ok\",45,12.5,\"apple\",56.56]\n",
    "num_list = []\n",
    "str_list = []\n",
    "for item in mix_list:\n",
    "    if type(item)==str:\n",
    "        str_list.append(item)\n",
    "    else:\n",
    "        num_list.append(item)\n",
    "        \n",
    "print(\"num_list\",num_list)\n",
    "print(\"str_list\",str_list)"
   ]
  },
  {
   "cell_type": "code",
   "execution_count": null,
   "metadata": {},
   "outputs": [],
   "source": []
  }
 ],
 "metadata": {
  "kernelspec": {
   "display_name": "Python 3",
   "language": "python",
   "name": "python3"
  },
  "language_info": {
   "codemirror_mode": {
    "name": "ipython",
    "version": 3
   },
   "file_extension": ".py",
   "mimetype": "text/x-python",
   "name": "python",
   "nbconvert_exporter": "python",
   "pygments_lexer": "ipython3",
   "version": "3.8.3"
  }
 },
 "nbformat": 4,
 "nbformat_minor": 4
}
