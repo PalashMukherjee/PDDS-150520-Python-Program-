{
 "cells": [
  {
   "cell_type": "code",
   "execution_count": 1,
   "metadata": {},
   "outputs": [],
   "source": [
    "# Essential Python : 8:45 Qaifi "
   ]
  },
  {
   "cell_type": "code",
   "execution_count": 2,
   "metadata": {},
   "outputs": [],
   "source": [
    "# OOP\n",
    "\n",
    "# __init__() ??initialise?? \n",
    "# What is it in other programming languages(common name): Constructor\n",
    "    \n",
    "# jhoga = Student()\n",
    "\n",
    "# jhoga is reference to object?\n",
    "\n",
    "# isinstance(obj_name,class_name or the class_type)"
   ]
  },
  {
   "cell_type": "code",
   "execution_count": 3,
   "metadata": {},
   "outputs": [],
   "source": [
    "# Static method?\n",
    "# a static method does not receive an implicit first argument? True\n",
    "# bound to object and changes obj variables values: False\n",
    "# bound to class but it does not change either class o obj values\n",
    "# jhoga.percent_formula() or Student.percent_formula()"
   ]
  },
  {
   "cell_type": "code",
   "execution_count": 4,
   "metadata": {},
   "outputs": [],
   "source": [
    "# Getters and Setters"
   ]
  },
  {
   "cell_type": "code",
   "execution_count": 9,
   "metadata": {},
   "outputs": [],
   "source": [
    "class Student:\n",
    "    student_list = []\n",
    "    total_marks = 300\n",
    "    fail_percent = 33\n",
    "    def __init__(self,name,roll_no):\n",
    "        self.name = name\n",
    "        self.roll_no = roll_no\n",
    "        self.marks = {\"history\":0,\"mechanics\":0,\"chemistry\":0}\n",
    "        Student.student_list.append(self)\n",
    "        \n",
    "    def add_marks(self,marks):\n",
    "        self.marks = marks\n",
    "        self.__percentage = self.percent_formula(sum(marks.values()),Student.total_marks)\n",
    "        if self.__percentage<Student.fail_percent:\n",
    "            self.fail = True\n",
    "        else:\n",
    "            self.fail = False\n",
    "\n",
    "    def __str__(self):\n",
    "        return self.name\n",
    "    \n",
    "    @classmethod\n",
    "    def find_topper(cls):\n",
    "        highest_percent = float(\"-inf\")\n",
    "        current_topper = cls.student_list[0]\n",
    "        for i in cls.student_list:\n",
    "            if i.__percentage>highest_percent:\n",
    "                highest_percent = i.__percentage\n",
    "                current_topper = i\n",
    "        return current_topper\n",
    "    \n",
    "    @classmethod\n",
    "    def find_failed(cls):\n",
    "        fail_list = []\n",
    "        for i in cls.student_list:\n",
    "            if i.fail == True:\n",
    "                fail_list.append(i)\n",
    "        return fail_list\n",
    "    \n",
    "    @staticmethod\n",
    "    def percent_formula(marks,total_marks):\n",
    "        percent = (marks/total_marks)*100 + 10 # bonus 10 for pandemic\n",
    "        if percent > 100:\n",
    "            percent = 100\n",
    "        return percent"
   ]
  },
  {
   "cell_type": "code",
   "execution_count": 10,
   "metadata": {},
   "outputs": [],
   "source": [
    "Pranab = Student(\"PRANAB KUMAR MOHARANA\",30)\n",
    "akansha = Student(\"akansha srivastava\",3)\n",
    "mohit = Student(\"mohit chouhan\",19)\n",
    "rohit = Student(\"rohit chouhan\",38)"
   ]
  },
  {
   "cell_type": "code",
   "execution_count": 11,
   "metadata": {},
   "outputs": [],
   "source": [
    "Pranab.add_marks({\"history\":80,\"mechanics\":60,\"chemistry\":30})\n",
    "akansha.add_marks({\"history\":50,\"mechanics\":80,\"chemistry\":90})\n",
    "mohit.add_marks({\"history\":70,\"mechanics\":5,\"chemistry\":20})\n",
    "rohit.add_marks({\"history\":10,\"mechanics\":30,\"chemistry\":30})"
   ]
  },
  {
   "cell_type": "code",
   "execution_count": 12,
   "metadata": {},
   "outputs": [
    {
     "ename": "AttributeError",
     "evalue": "'Student' object has no attribute 'percentage'",
     "output_type": "error",
     "traceback": [
      "\u001b[1;31m---------------------------------------------------------------------------\u001b[0m",
      "\u001b[1;31mAttributeError\u001b[0m                            Traceback (most recent call last)",
      "\u001b[1;32m<ipython-input-12-0405b235b8a8>\u001b[0m in \u001b[0;36m<module>\u001b[1;34m\u001b[0m\n\u001b[1;32m----> 1\u001b[1;33m \u001b[0mprint\u001b[0m\u001b[1;33m(\u001b[0m\u001b[0mmohit\u001b[0m\u001b[1;33m.\u001b[0m\u001b[0mpercentage\u001b[0m\u001b[1;33m)\u001b[0m\u001b[1;33m\u001b[0m\u001b[1;33m\u001b[0m\u001b[0m\n\u001b[0m\u001b[0;32m      2\u001b[0m \u001b[0mmohit\u001b[0m\u001b[1;33m.\u001b[0m\u001b[0mpercentage\u001b[0m \u001b[1;33m=\u001b[0m \u001b[1;36m95\u001b[0m\u001b[1;33m\u001b[0m\u001b[1;33m\u001b[0m\u001b[0m\n\u001b[0;32m      3\u001b[0m \u001b[0mprint\u001b[0m\u001b[1;33m(\u001b[0m\u001b[0mmohit\u001b[0m\u001b[1;33m.\u001b[0m\u001b[0mpercentage\u001b[0m\u001b[1;33m)\u001b[0m\u001b[1;33m\u001b[0m\u001b[1;33m\u001b[0m\u001b[0m\n",
      "\u001b[1;31mAttributeError\u001b[0m: 'Student' object has no attribute 'percentage'"
     ]
    }
   ],
   "source": [
    "print(mohit.percentage)\n",
    "mohit.percentage = 95\n",
    "print(mohit.percentage)"
   ]
  },
  {
   "cell_type": "code",
   "execution_count": null,
   "metadata": {},
   "outputs": [],
   "source": [
    "__ before the name (double underscore for private variables)"
   ]
  },
  {
   "cell_type": "code",
   "execution_count": 13,
   "metadata": {},
   "outputs": [
    {
     "ename": "AttributeError",
     "evalue": "'Student' object has no attribute '__percentage'",
     "output_type": "error",
     "traceback": [
      "\u001b[1;31m---------------------------------------------------------------------------\u001b[0m",
      "\u001b[1;31mAttributeError\u001b[0m                            Traceback (most recent call last)",
      "\u001b[1;32m<ipython-input-13-2c61a3536664>\u001b[0m in \u001b[0;36m<module>\u001b[1;34m\u001b[0m\n\u001b[1;32m----> 1\u001b[1;33m \u001b[0mprint\u001b[0m\u001b[1;33m(\u001b[0m\u001b[0mmohit\u001b[0m\u001b[1;33m.\u001b[0m\u001b[0m__percentage\u001b[0m\u001b[1;33m)\u001b[0m\u001b[1;33m\u001b[0m\u001b[1;33m\u001b[0m\u001b[0m\n\u001b[0m\u001b[0;32m      2\u001b[0m \u001b[0mmohit\u001b[0m\u001b[1;33m.\u001b[0m\u001b[0m__percentage\u001b[0m \u001b[1;33m=\u001b[0m \u001b[1;36m95\u001b[0m\u001b[1;33m\u001b[0m\u001b[1;33m\u001b[0m\u001b[0m\n\u001b[0;32m      3\u001b[0m \u001b[0mprint\u001b[0m\u001b[1;33m(\u001b[0m\u001b[0mmohit\u001b[0m\u001b[1;33m.\u001b[0m\u001b[0m__percentage\u001b[0m\u001b[1;33m)\u001b[0m\u001b[1;33m\u001b[0m\u001b[1;33m\u001b[0m\u001b[0m\n",
      "\u001b[1;31mAttributeError\u001b[0m: 'Student' object has no attribute '__percentage'"
     ]
    }
   ],
   "source": [
    "print(mohit.__percentage)\n",
    "mohit.__percentage = 95\n",
    "print(mohit.__percentage)"
   ]
  },
  {
   "cell_type": "code",
   "execution_count": 14,
   "metadata": {},
   "outputs": [
    {
     "data": {
      "text/plain": [
       "{'name': 'mohit chouhan',\n",
       " 'roll_no': 19,\n",
       " 'marks': {'history': 70, 'mechanics': 5, 'chemistry': 20},\n",
       " '_Student__percentage': 41.666666666666664,\n",
       " 'fail': False}"
      ]
     },
     "execution_count": 14,
     "metadata": {},
     "output_type": "execute_result"
    }
   ],
   "source": [
    "mohit.__dict__"
   ]
  },
  {
   "cell_type": "code",
   "execution_count": null,
   "metadata": {},
   "outputs": [],
   "source": [
    "\"we are all adults here!!\" => Python does not fully enforce these functionalities like striclty making an variable private."
   ]
  },
  {
   "cell_type": "code",
   "execution_count": 15,
   "metadata": {},
   "outputs": [
    {
     "data": {
      "text/plain": [
       "41.666666666666664"
      ]
     },
     "execution_count": 15,
     "metadata": {},
     "output_type": "execute_result"
    }
   ],
   "source": [
    "mohit._Student__percentage"
   ]
  },
  {
   "cell_type": "code",
   "execution_count": 16,
   "metadata": {},
   "outputs": [],
   "source": [
    "mohit._Student__percentage = 95"
   ]
  },
  {
   "cell_type": "code",
   "execution_count": 17,
   "metadata": {},
   "outputs": [
    {
     "data": {
      "text/plain": [
       "95"
      ]
     },
     "execution_count": 17,
     "metadata": {},
     "output_type": "execute_result"
    }
   ],
   "source": [
    "mohit._Student__percentage"
   ]
  },
  {
   "cell_type": "code",
   "execution_count": null,
   "metadata": {},
   "outputs": [],
   "source": [
    "## getters and setters"
   ]
  },
  {
   "cell_type": "code",
   "execution_count": 18,
   "metadata": {},
   "outputs": [],
   "source": [
    "class Student:\n",
    "    student_list = []\n",
    "    total_marks = 300\n",
    "    fail_percent = 33\n",
    "    def __init__(self,name,roll_no):\n",
    "        self.name = name\n",
    "        self.roll_no = roll_no\n",
    "        self.marks = {\"history\":0,\"mechanics\":0,\"chemistry\":0}\n",
    "        Student.student_list.append(self)\n",
    "        \n",
    "    def add_marks(self,marks):\n",
    "        self.marks = marks\n",
    "        self.__percentage = self.percent_formula(sum(marks.values()),Student.total_marks)\n",
    "        if self.__percentage<Student.fail_percent:\n",
    "            self.fail = True\n",
    "        else:\n",
    "            self.fail = False\n",
    "\n",
    "    def __str__(self):\n",
    "        return self.name\n",
    "    \n",
    "    @classmethod\n",
    "    def find_topper(cls):\n",
    "        highest_percent = float(\"-inf\")\n",
    "        current_topper = cls.student_list[0]\n",
    "        for i in cls.student_list:\n",
    "            if i.__percentage>highest_percent:\n",
    "                highest_percent = i.__percentage\n",
    "                current_topper = i\n",
    "        return current_topper\n",
    "    \n",
    "    @classmethod\n",
    "    def find_failed(cls):\n",
    "        fail_list = []\n",
    "        for i in cls.student_list:\n",
    "            if i.fail == True:\n",
    "                fail_list.append(i)\n",
    "        return fail_list\n",
    "    \n",
    "    @staticmethod\n",
    "    def percent_formula(marks,total_marks):\n",
    "        percent = (marks/total_marks)*100 + 10 # bonus 10 for pandemic\n",
    "        if percent > 100:\n",
    "            percent = 100\n",
    "        return percent\n",
    "    \n",
    "    def get_percentage(self):\n",
    "        return self.__percentage\n",
    "    \n",
    "    def set_percentage(self,percent):\n",
    "        self.__percentage = percent"
   ]
  },
  {
   "cell_type": "code",
   "execution_count": 19,
   "metadata": {},
   "outputs": [],
   "source": [
    "Pranab = Student(\"PRANAB KUMAR MOHARANA\",30)\n",
    "akansha = Student(\"akansha srivastava\",3)\n",
    "mohit = Student(\"mohit chouhan\",19)\n",
    "rohit = Student(\"rohit chouhan\",38)\n",
    "Pranab.add_marks({\"history\":80,\"mechanics\":60,\"chemistry\":30})\n",
    "akansha.add_marks({\"history\":50,\"mechanics\":80,\"chemistry\":90})\n",
    "mohit.add_marks({\"history\":70,\"mechanics\":5,\"chemistry\":20})\n",
    "rohit.add_marks({\"history\":10,\"mechanics\":30,\"chemistry\":30})"
   ]
  },
  {
   "cell_type": "code",
   "execution_count": 20,
   "metadata": {},
   "outputs": [
    {
     "name": "stdout",
     "output_type": "stream",
     "text": [
      "41.666666666666664\n",
      "99\n"
     ]
    }
   ],
   "source": [
    "print(mohit.get_percentage())\n",
    "mohit.set_percentage(99)\n",
    "print(mohit.get_percentage())"
   ]
  },
  {
   "cell_type": "code",
   "execution_count": 21,
   "metadata": {},
   "outputs": [],
   "source": [
    "## Inheritance:?\n",
    "\n",
    "# parent child?\n",
    "# history?\n",
    "# property?\n",
    "# father-child?\n",
    "# something comes from one to the other\n",
    "# derived?\n",
    "\n",
    "# class Animal():\n",
    "#     eat\n",
    "#     drink\n",
    "#     pass\n",
    "\n",
    "# class Dog(Animal):\n",
    "#     eat(modified)\n",
    "#     drink(modified)\n",
    "#     pass\n",
    "\n",
    "# we trying to save some time? by not writting the same code again and again? functions??\n",
    "# car-making(manufacturing)? new models? they have a model, Tata nano 2010, Tata nano 2012\n",
    "# real world relationships usually can be better represented with this."
   ]
  },
  {
   "cell_type": "code",
   "execution_count": 28,
   "metadata": {},
   "outputs": [],
   "source": [
    "class Animal():\n",
    "    animal = \"None\"\n",
    "    def __init__(self,name):\n",
    "        self.name = name\n",
    "    def eat(self):\n",
    "        print(self.name,\"is eating\")\n",
    "\n",
    "class Dog(Animal):\n",
    "    Animal.animal = \"Dog\"\n",
    "    breed = \"None\"\n",
    "    def bark(self):\n",
    "        print(self.name,\"is barking\")\n",
    "\n",
    "yuki = Dog(\"yuki singh\") # what is yuki here, object or reference to the object?"
   ]
  },
  {
   "cell_type": "code",
   "execution_count": 26,
   "metadata": {},
   "outputs": [],
   "source": [
    "# help(yuki)"
   ]
  },
  {
   "cell_type": "code",
   "execution_count": 27,
   "metadata": {},
   "outputs": [
    {
     "data": {
      "text/plain": [
       "'yuki singh'"
      ]
     },
     "execution_count": 27,
     "metadata": {},
     "output_type": "execute_result"
    }
   ],
   "source": [
    "yuki.name"
   ]
  },
  {
   "cell_type": "code",
   "execution_count": 29,
   "metadata": {},
   "outputs": [
    {
     "name": "stdout",
     "output_type": "stream",
     "text": [
      "yuki singh is eating\n"
     ]
    }
   ],
   "source": [
    "yuki.eat()"
   ]
  },
  {
   "cell_type": "code",
   "execution_count": 30,
   "metadata": {},
   "outputs": [
    {
     "name": "stdout",
     "output_type": "stream",
     "text": [
      "yuki singh is barking\n"
     ]
    }
   ],
   "source": [
    "yuki.bark()"
   ]
  },
  {
   "cell_type": "code",
   "execution_count": 31,
   "metadata": {},
   "outputs": [],
   "source": [
    "## Method Overriding"
   ]
  },
  {
   "cell_type": "code",
   "execution_count": 41,
   "metadata": {},
   "outputs": [
    {
     "name": "stdout",
     "output_type": "stream",
     "text": [
      "Dog init is called\n"
     ]
    }
   ],
   "source": [
    "class Animal():\n",
    "    animal = \"None\"\n",
    "    def __init__(self,name):\n",
    "        print(\"Animal init is called\")\n",
    "        self.name = name\n",
    "    def eat(self):\n",
    "        print(self.name,\"is eating\")\n",
    "\n",
    "class Dog(Animal):\n",
    "    Animal.animal = \"Dog\"\n",
    "    breed = \"None\"\n",
    "    def __init__(self,name):\n",
    "        print(\"Dog init is called\")\n",
    "        self.name = name\n",
    "    def bark(self):\n",
    "        print(self.name,\"is barking\")\n",
    "        \n",
    "#     def eat(self):\n",
    "#         print(self.name,\"eats like a pro!!\")\n",
    "\n",
    "yuki = Dog(\"yuki singh\") "
   ]
  },
  {
   "cell_type": "code",
   "execution_count": 39,
   "metadata": {},
   "outputs": [
    {
     "name": "stdout",
     "output_type": "stream",
     "text": [
      "yuki singh is eating\n"
     ]
    }
   ],
   "source": [
    "yuki.eat()"
   ]
  },
  {
   "cell_type": "code",
   "execution_count": 34,
   "metadata": {},
   "outputs": [],
   "source": [
    "# MRO"
   ]
  },
  {
   "cell_type": "code",
   "execution_count": 37,
   "metadata": {},
   "outputs": [
    {
     "data": {
      "text/plain": [
       "{'name': 'yuki singh'}"
      ]
     },
     "execution_count": 37,
     "metadata": {},
     "output_type": "execute_result"
    }
   ],
   "source": [
    "yuki.__dict__"
   ]
  },
  {
   "cell_type": "code",
   "execution_count": 35,
   "metadata": {},
   "outputs": [
    {
     "name": "stdout",
     "output_type": "stream",
     "text": [
      "Help on Dog in module __main__ object:\n",
      "\n",
      "class Dog(Animal)\n",
      " |  Dog(name)\n",
      " |  \n",
      " |  Method resolution order:\n",
      " |      Dog\n",
      " |      Animal\n",
      " |      builtins.object\n",
      " |  \n",
      " |  Methods defined here:\n",
      " |  \n",
      " |  bark(self)\n",
      " |  \n",
      " |  eat(self)\n",
      " |  \n",
      " |  ----------------------------------------------------------------------\n",
      " |  Data and other attributes defined here:\n",
      " |  \n",
      " |  breed = 'None'\n",
      " |  \n",
      " |  ----------------------------------------------------------------------\n",
      " |  Methods inherited from Animal:\n",
      " |  \n",
      " |  __init__(self, name)\n",
      " |      Initialize self.  See help(type(self)) for accurate signature.\n",
      " |  \n",
      " |  ----------------------------------------------------------------------\n",
      " |  Data descriptors inherited from Animal:\n",
      " |  \n",
      " |  __dict__\n",
      " |      dictionary for instance variables (if defined)\n",
      " |  \n",
      " |  __weakref__\n",
      " |      list of weak references to the object (if defined)\n",
      " |  \n",
      " |  ----------------------------------------------------------------------\n",
      " |  Data and other attributes inherited from Animal:\n",
      " |  \n",
      " |  animal = 'Dog'\n",
      "\n"
     ]
    }
   ],
   "source": [
    "help(yuki)"
   ]
  },
  {
   "cell_type": "code",
   "execution_count": null,
   "metadata": {},
   "outputs": [],
   "source": [
    "## super -> access parent"
   ]
  },
  {
   "cell_type": "code",
   "execution_count": 54,
   "metadata": {},
   "outputs": [
    {
     "name": "stdout",
     "output_type": "stream",
     "text": [
      "Dog init is called\n",
      "Animal init is called\n"
     ]
    }
   ],
   "source": [
    "class Animal():\n",
    "    animal = \"None\"\n",
    "    def __init__(self,name):\n",
    "        print(\"Animal init is called\")\n",
    "        self.name = name\n",
    "    def eat(self):\n",
    "        print(self.name,\"is eating\")\n",
    "\n",
    "class Dog(Animal):\n",
    "    Animal.animal = \"Dog\"\n",
    "    breed = \"None\"\n",
    "    def __init__(self,name,number_of_teeth):\n",
    "        print(\"Dog init is called\")\n",
    "        super().__init__(name)\n",
    "        self.number_of_teeth = number_of_teeth\n",
    "\n",
    "    def bark(self):\n",
    "        super().eat()\n",
    "        print(self.name,\"is barking\")\n",
    "        \n",
    "    def eat(self):\n",
    "        print(self.name,\"eats like a pro!!\")\n",
    "\n",
    "yuki = Dog(\"yuki singh\",42)"
   ]
  },
  {
   "cell_type": "code",
   "execution_count": 55,
   "metadata": {},
   "outputs": [
    {
     "data": {
      "text/plain": [
       "'yuki singh'"
      ]
     },
     "execution_count": 55,
     "metadata": {},
     "output_type": "execute_result"
    }
   ],
   "source": [
    "yuki.name"
   ]
  },
  {
   "cell_type": "code",
   "execution_count": 56,
   "metadata": {},
   "outputs": [
    {
     "data": {
      "text/plain": [
       "42"
      ]
     },
     "execution_count": 56,
     "metadata": {},
     "output_type": "execute_result"
    }
   ],
   "source": [
    "yuki.number_of_teeth"
   ]
  },
  {
   "cell_type": "code",
   "execution_count": 57,
   "metadata": {},
   "outputs": [
    {
     "name": "stdout",
     "output_type": "stream",
     "text": [
      "yuki singh is eating\n",
      "yuki singh is barking\n"
     ]
    }
   ],
   "source": [
    "yuki.bark()"
   ]
  },
  {
   "cell_type": "code",
   "execution_count": 58,
   "metadata": {},
   "outputs": [
    {
     "name": "stdout",
     "output_type": "stream",
     "text": [
      "Help on Dog in module __main__ object:\n",
      "\n",
      "class Dog(Animal)\n",
      " |  Dog(name, number_of_teeth)\n",
      " |  \n",
      " |  Method resolution order:\n",
      " |      Dog\n",
      " |      Animal\n",
      " |      builtins.object\n",
      " |  \n",
      " |  Methods defined here:\n",
      " |  \n",
      " |  __init__(self, name, number_of_teeth)\n",
      " |      Initialize self.  See help(type(self)) for accurate signature.\n",
      " |  \n",
      " |  bark(self)\n",
      " |  \n",
      " |  eat(self)\n",
      " |  \n",
      " |  ----------------------------------------------------------------------\n",
      " |  Data and other attributes defined here:\n",
      " |  \n",
      " |  breed = 'None'\n",
      " |  \n",
      " |  ----------------------------------------------------------------------\n",
      " |  Data descriptors inherited from Animal:\n",
      " |  \n",
      " |  __dict__\n",
      " |      dictionary for instance variables (if defined)\n",
      " |  \n",
      " |  __weakref__\n",
      " |      list of weak references to the object (if defined)\n",
      " |  \n",
      " |  ----------------------------------------------------------------------\n",
      " |  Data and other attributes inherited from Animal:\n",
      " |  \n",
      " |  animal = 'Dog'\n",
      "\n"
     ]
    }
   ],
   "source": [
    "help(yuki)"
   ]
  },
  {
   "cell_type": "code",
   "execution_count": 62,
   "metadata": {},
   "outputs": [],
   "source": [
    "#Types of Inheritance\n",
    "\n",
    "# single inheritance (Dog is child of Animal)\n",
    "# Multi level inheritance"
   ]
  },
  {
   "cell_type": "code",
   "execution_count": 63,
   "metadata": {},
   "outputs": [],
   "source": [
    "class Animal():\n",
    "    animal = \"None\"\n",
    "    def __init__(self,name):\n",
    "        print(\"Animal init is called\")\n",
    "        self.name = name\n",
    "    def eat(self):\n",
    "        print(self.name,\"is eating\")\n",
    "\n",
    "class Dog(Animal):\n",
    "    Animal.animal = \"Dog\"\n",
    "    breed = \"None\"\n",
    "    def __init__(self,name,number_of_teeth):\n",
    "        print(\"Dog init is called\")\n",
    "        super().__init__(name)\n",
    "        self.number_of_teeth = number_of_teeth\n",
    "\n",
    "    def bark(self):\n",
    "        super().eat()\n",
    "        print(self.name,\"is barking\")\n",
    "        \n",
    "    def eat(self):\n",
    "        print(self.name,\"eats like a pro!!\")\n",
    "\n",
    "class Labrador(Dog):\n",
    "    Dog.breed = \"labra\"\n",
    "    def bark(self):\n",
    "        print(self.name,\"bark loud!!\")"
   ]
  },
  {
   "cell_type": "code",
   "execution_count": 64,
   "metadata": {},
   "outputs": [
    {
     "name": "stdout",
     "output_type": "stream",
     "text": [
      "Dog init is called\n",
      "Animal init is called\n"
     ]
    }
   ],
   "source": [
    "yuki = Labrador(\"yuki singh\",42)"
   ]
  },
  {
   "cell_type": "code",
   "execution_count": 65,
   "metadata": {},
   "outputs": [
    {
     "name": "stdout",
     "output_type": "stream",
     "text": [
      "Help on Labrador in module __main__ object:\n",
      "\n",
      "class Labrador(Dog)\n",
      " |  Labrador(name, number_of_teeth)\n",
      " |  \n",
      " |  Method resolution order:\n",
      " |      Labrador\n",
      " |      Dog\n",
      " |      Animal\n",
      " |      builtins.object\n",
      " |  \n",
      " |  Methods defined here:\n",
      " |  \n",
      " |  bark(self)\n",
      " |  \n",
      " |  ----------------------------------------------------------------------\n",
      " |  Methods inherited from Dog:\n",
      " |  \n",
      " |  __init__(self, name, number_of_teeth)\n",
      " |      Initialize self.  See help(type(self)) for accurate signature.\n",
      " |  \n",
      " |  eat(self)\n",
      " |  \n",
      " |  ----------------------------------------------------------------------\n",
      " |  Data and other attributes inherited from Dog:\n",
      " |  \n",
      " |  breed = 'labra'\n",
      " |  \n",
      " |  ----------------------------------------------------------------------\n",
      " |  Data descriptors inherited from Animal:\n",
      " |  \n",
      " |  __dict__\n",
      " |      dictionary for instance variables (if defined)\n",
      " |  \n",
      " |  __weakref__\n",
      " |      list of weak references to the object (if defined)\n",
      " |  \n",
      " |  ----------------------------------------------------------------------\n",
      " |  Data and other attributes inherited from Animal:\n",
      " |  \n",
      " |  animal = 'Dog'\n",
      "\n"
     ]
    }
   ],
   "source": [
    "help(yuki)"
   ]
  },
  {
   "cell_type": "code",
   "execution_count": 68,
   "metadata": {},
   "outputs": [],
   "source": [
    "# MRO algo: depth first from left to right\n",
    "\n",
    "class Father():\n",
    "    pass\n",
    "class Mother():\n",
    "    pass\n",
    "class child(Mother,Father):\n",
    "    pass"
   ]
  },
  {
   "cell_type": "code",
   "execution_count": 69,
   "metadata": {},
   "outputs": [
    {
     "name": "stdout",
     "output_type": "stream",
     "text": [
      "Help on child in module __main__ object:\n",
      "\n",
      "class child(Mother, Father)\n",
      " |  Method resolution order:\n",
      " |      child\n",
      " |      Mother\n",
      " |      Father\n",
      " |      builtins.object\n",
      " |  \n",
      " |  Data descriptors inherited from Mother:\n",
      " |  \n",
      " |  __dict__\n",
      " |      dictionary for instance variables (if defined)\n",
      " |  \n",
      " |  __weakref__\n",
      " |      list of weak references to the object (if defined)\n",
      "\n"
     ]
    }
   ],
   "source": [
    "mohit = child()\n",
    "\n",
    "help(mohit)"
   ]
  },
  {
   "cell_type": "code",
   "execution_count": null,
   "metadata": {},
   "outputs": [],
   "source": []
  }
 ],
 "metadata": {
  "kernelspec": {
   "display_name": "Python 3",
   "language": "python",
   "name": "python3"
  },
  "language_info": {
   "codemirror_mode": {
    "name": "ipython",
    "version": 3
   },
   "file_extension": ".py",
   "mimetype": "text/x-python",
   "name": "python",
   "nbconvert_exporter": "python",
   "pygments_lexer": "ipython3",
   "version": "3.8.3"
  }
 },
 "nbformat": 4,
 "nbformat_minor": 4
}
